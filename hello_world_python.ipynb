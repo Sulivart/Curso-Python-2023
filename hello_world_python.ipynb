{
  "nbformat": 4,
  "nbformat_minor": 0,
  "metadata": {
    "colab": {
      "provenance": [],
      "authorship_tag": "ABX9TyODeDYH/XpNY4LY5vkg9uOm",
      "include_colab_link": true
    },
    "kernelspec": {
      "name": "python3",
      "display_name": "Python 3"
    },
    "language_info": {
      "name": "python"
    }
  },
  "cells": [
    {
      "cell_type": "markdown",
      "metadata": {
        "id": "view-in-github",
        "colab_type": "text"
      },
      "source": [
        "<a href=\"https://colab.research.google.com/github/Sulivart/Curso-Python-2023/blob/main/hello_world_python.ipynb\" target=\"_parent\"><img src=\"https://colab.research.google.com/assets/colab-badge.svg\" alt=\"Open In Colab\"/></a>"
      ]
    },
    {
      "cell_type": "markdown",
      "source": [
        "#Mi primer código de Python"
      ],
      "metadata": {
        "id": "r1jfzNg4ATU7"
      }
    },
    {
      "cell_type": "code",
      "execution_count": 2,
      "metadata": {
        "colab": {
          "base_uri": "https://localhost:8080/"
        },
        "id": "3S45ZTW7_Vm6",
        "outputId": "25890e59-98b9-440d-8167-54e188f53edc"
      },
      "outputs": [
        {
          "output_type": "stream",
          "name": "stdout",
          "text": [
            "Hello world!!!\n"
          ]
        }
      ],
      "source": [
        "# En Python podemos usar comillas dobles para crear un string (cadena de carcateres o texto)\n",
        "print(\"Hello world!!!\")"
      ]
    },
    {
      "cell_type": "code",
      "source": [
        "# Pero también podemos usar comillas simples\n",
        "print('Hello world!!!')"
      ],
      "metadata": {
        "colab": {
          "base_uri": "https://localhost:8080/"
        },
        "id": "3zpAc_4bBCnG",
        "outputId": "c824b1a6-3f28-4897-dd7a-4ead6528fc33"
      },
      "execution_count": 3,
      "outputs": [
        {
          "output_type": "stream",
          "name": "stdout",
          "text": [
            "Hello world!!!\n"
          ]
        }
      ]
    },
    {
      "cell_type": "code",
      "source": [
        "# Aunque no es necesario usar \"print\" en colab para mostrar un resultado\n",
        "\"Hello world!!!\"\n",
        "# Útil cuando de sarrollamos o queremos ver un resultado rápido.\n",
        "# Pero, como buena práctica hay que usar siempre la función \"print\" para mostrar un resultado"
      ],
      "metadata": {
        "colab": {
          "base_uri": "https://localhost:8080/",
          "height": 36
        },
        "id": "Q2OFUZ8TBJTV",
        "outputId": "23453e69-c968-4406-c349-48735457c9cb"
      },
      "execution_count": 5,
      "outputs": [
        {
          "output_type": "execute_result",
          "data": {
            "text/plain": [
              "'Hello world!!!'"
            ],
            "application/vnd.google.colaboratory.intrinsic+json": {
              "type": "string"
            }
          },
          "metadata": {},
          "execution_count": 5
        }
      ]
    },
    {
      "cell_type": "code",
      "source": [],
      "metadata": {
        "id": "JvdFEkk_r49p"
      },
      "execution_count": null,
      "outputs": []
    }
  ]
}