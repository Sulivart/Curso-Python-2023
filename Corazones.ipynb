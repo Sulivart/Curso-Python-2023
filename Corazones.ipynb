{
  "nbformat": 4,
  "nbformat_minor": 0,
  "metadata": {
    "colab": {
      "provenance": [],
      "authorship_tag": "ABX9TyMgsp8n1UjkeeXeoekJgf4y",
      "include_colab_link": true
    },
    "kernelspec": {
      "name": "python3",
      "display_name": "Python 3"
    },
    "language_info": {
      "name": "python"
    }
  },
  "cells": [
    {
      "cell_type": "markdown",
      "metadata": {
        "id": "view-in-github",
        "colab_type": "text"
      },
      "source": [
        "<a href=\"https://colab.research.google.com/github/Sulivart/Curso-Python-2023/blob/main/Corazones.ipynb\" target=\"_parent\"><img src=\"https://colab.research.google.com/assets/colab-badge.svg\" alt=\"Open In Colab\"/></a>"
      ]
    },
    {
      "cell_type": "markdown",
      "source": [
        "#Corazones"
      ],
      "metadata": {
        "id": "tKF31T6CZZqb"
      }
    },
    {
      "cell_type": "code",
      "source": [
        "! pip3 install ColabTurtle\n",
        "from ColabTurtle.Turtle import *\n",
        "import ColabTurtle"
      ],
      "metadata": {
        "colab": {
          "base_uri": "https://localhost:8080/"
        },
        "id": "anAbT2cBZlT1",
        "outputId": "35169b7a-5d25-478a-c673-a5cf12a8220b"
      },
      "execution_count": 1,
      "outputs": [
        {
          "output_type": "stream",
          "name": "stdout",
          "text": [
            "Requirement already satisfied: ColabTurtle in /usr/local/lib/python3.10/dist-packages (2.1.0)\n"
          ]
        }
      ]
    },
    {
      "cell_type": "code",
      "execution_count": 2,
      "metadata": {
        "colab": {
          "base_uri": "https://localhost:8080/",
          "height": 542
        },
        "id": "0_VWmYRzZT_u",
        "outputId": "150d0bf1-a346-4749-c145-ac65f6684ad7"
      },
      "outputs": [
        {
          "output_type": "display_data",
          "data": {
            "text/plain": [
              "<IPython.core.display.HTML object>"
            ],
            "text/html": [
              "\n",
              "      <svg width=\"800\" height=\"500\">\n",
              "        <rect width=\"100%\" height=\"100%\" fill=\"black\"/>\n",
              "        <line x1=\"400\" y1=\"250\" x2=\"523.744\" y2=\"126.256\" stroke-linecap=\"round\" style=\"stroke:red;stroke-width:4\"/><line x1=\"523.744\" y1=\"126.256\" x2=\"523.744\" y2=\"76.256\" stroke-linecap=\"round\" style=\"stroke:red;stroke-width:4\"/><line x1=\"523.744\" y1=\"76.256\" x2=\"488.389\" y2=\"40.901\" stroke-linecap=\"round\" style=\"stroke:red;stroke-width:4\"/><line x1=\"488.389\" y1=\"40.901\" x2=\"438.389\" y2=\"40.901\" stroke-linecap=\"round\" style=\"stroke:red;stroke-width:4\"/><line x1=\"438.389\" y1=\"40.901\" x2=\"403.034\" y2=\"76.256\" stroke-linecap=\"round\" style=\"stroke:red;stroke-width:4\"/><line x1=\"403.034\" y1=\"76.256\" x2=\"367.679\" y2=\"40.901\" stroke-linecap=\"round\" style=\"stroke:red;stroke-width:4\"/><line x1=\"367.679\" y1=\"40.901\" x2=\"317.679\" y2=\"40.901\" stroke-linecap=\"round\" style=\"stroke:red;stroke-width:4\"/><line x1=\"317.679\" y1=\"40.901\" x2=\"282.324\" y2=\"76.256\" stroke-linecap=\"round\" style=\"stroke:red;stroke-width:4\"/><line x1=\"282.324\" y1=\"76.256\" x2=\"282.324\" y2=\"126.256\" stroke-linecap=\"round\" style=\"stroke:red;stroke-width:4\"/><line x1=\"282.324\" y1=\"126.256\" x2=\"406.068\" y2=\"250.0\" stroke-linecap=\"round\" style=\"stroke:red;stroke-width:4\"/>\n",
              "        <g visibility=visible transform=\"rotate(135,406.068,250.0) translate(388.068, 232.0)\">\n",
              "<path style=\" stroke:none;fill-rule:evenodd;fill:red;fill-opacity:1;\" d=\"M 18.214844 0.632812 C 16.109375 1.800781 15.011719 4.074219 15.074219 7.132812 L 15.085938 7.652344 L 14.785156 7.496094 C 13.476562 6.824219 11.957031 6.671875 10.40625 7.066406 C 8.46875 7.550781 6.515625 9.15625 4.394531 11.992188 C 3.0625 13.777344 2.679688 14.636719 3.042969 15.027344 L 3.15625 15.152344 L 3.519531 15.152344 C 4.238281 15.152344 4.828125 14.886719 8.1875 13.039062 C 9.386719 12.378906 10.371094 11.839844 10.378906 11.839844 C 10.386719 11.839844 10.355469 11.929688 10.304688 12.035156 C 9.832031 13.09375 9.257812 14.820312 8.96875 16.078125 C 7.914062 20.652344 8.617188 24.53125 11.070312 27.660156 C 11.351562 28.015625 11.363281 27.914062 10.972656 28.382812 C 8.925781 30.84375 7.945312 33.28125 8.238281 35.1875 C 8.289062 35.527344 8.28125 35.523438 8.917969 35.523438 C 10.941406 35.523438 13.074219 34.207031 15.136719 31.6875 C 15.359375 31.417969 15.328125 31.425781 15.5625 31.574219 C 16.292969 32.042969 18.023438 32.964844 18.175781 32.964844 C 18.335938 32.964844 19.941406 32.210938 20.828125 31.71875 C 20.996094 31.625 21.136719 31.554688 21.136719 31.558594 C 21.203125 31.664062 21.898438 32.414062 22.222656 32.730469 C 23.835938 34.300781 25.5625 35.132812 27.582031 35.300781 C 27.90625 35.328125 27.9375 35.308594 28.007812 34.984375 C 28.382812 33.242188 27.625 30.925781 25.863281 28.425781 L 25.542969 27.96875 L 25.699219 27.785156 C 28.945312 23.960938 29.132812 18.699219 26.257812 11.96875 L 26.207031 11.84375 L 27.945312 12.703125 C 31.53125 14.476562 32.316406 14.800781 33.03125 14.800781 C 33.976562 14.800781 33.78125 13.9375 32.472656 12.292969 C 28.519531 7.355469 25.394531 5.925781 21.921875 7.472656 L 21.558594 7.636719 L 21.578125 7.542969 C 21.699219 6.992188 21.761719 5.742188 21.699219 5.164062 C 21.496094 3.296875 20.664062 1.964844 19.003906 0.855469 C 18.480469 0.503906 18.457031 0.5 18.214844 0.632812\"/>\n",
              "</g>\n",
              "      </svg>\n",
              "    "
            ]
          },
          "metadata": {}
        }
      ],
      "source": [
        "initializeTurtle()\n",
        "pencolor('red')\n",
        "\n",
        "right(45)\n",
        "forward(175)\n",
        "for i in range(4):\n",
        "  left(45)\n",
        "  forward(50)\n",
        "\n",
        "right(90)\n",
        "\n",
        "for j in range(4):\n",
        "  forward(50)\n",
        "  left(45)\n",
        "\n",
        "forward(175)"
      ]
    },
    {
      "cell_type": "code",
      "source": [
        "cocoro = int(input('Ingrese cuantos corazones desea: '))\n",
        "\n",
        "initializeTurtle(initial_speed=10)\n",
        "pencolor('red')\n",
        "\n",
        "for i in range(cocoro):\n",
        "  right(45)\n",
        "  forward(170)\n",
        "\n",
        "  for i in range(4):\n",
        "    left(45)\n",
        "    forward(50)\n",
        "\n",
        "  right(90)\n",
        "\n",
        "  for j in range(4):\n",
        "    forward(50)\n",
        "    left(45)\n",
        "\n",
        "  forward(170)"
      ],
      "metadata": {
        "colab": {
          "base_uri": "https://localhost:8080/",
          "height": 559
        },
        "id": "5_yK5Mzqa1pR",
        "outputId": "79691eda-ef9f-4626-e463-be880f78bad8"
      },
      "execution_count": 3,
      "outputs": [
        {
          "name": "stdout",
          "output_type": "stream",
          "text": [
            "Ingrese cuantos corazones desea: 10\n"
          ]
        },
        {
          "output_type": "display_data",
          "data": {
            "text/plain": [
              "<IPython.core.display.HTML object>"
            ],
            "text/html": [
              "\n",
              "      <svg width=\"800\" height=\"500\">\n",
              "        <rect width=\"100%\" height=\"100%\" fill=\"black\"/>\n",
              "        <line x1=\"400\" y1=\"250\" x2=\"520.208\" y2=\"129.792\" stroke-linecap=\"round\" style=\"stroke:red;stroke-width:4\"/><line x1=\"520.208\" y1=\"129.792\" x2=\"520.208\" y2=\"79.792\" stroke-linecap=\"round\" style=\"stroke:red;stroke-width:4\"/><line x1=\"520.208\" y1=\"79.792\" x2=\"484.853\" y2=\"44.437\" stroke-linecap=\"round\" style=\"stroke:red;stroke-width:4\"/><line x1=\"484.853\" y1=\"44.437\" x2=\"434.853\" y2=\"44.437\" stroke-linecap=\"round\" style=\"stroke:red;stroke-width:4\"/><line x1=\"434.853\" y1=\"44.437\" x2=\"399.498\" y2=\"79.792\" stroke-linecap=\"round\" style=\"stroke:red;stroke-width:4\"/><line x1=\"399.498\" y1=\"79.792\" x2=\"364.143\" y2=\"44.437\" stroke-linecap=\"round\" style=\"stroke:red;stroke-width:4\"/><line x1=\"364.143\" y1=\"44.437\" x2=\"314.143\" y2=\"44.437\" stroke-linecap=\"round\" style=\"stroke:red;stroke-width:4\"/><line x1=\"314.143\" y1=\"44.437\" x2=\"278.788\" y2=\"79.792\" stroke-linecap=\"round\" style=\"stroke:red;stroke-width:4\"/><line x1=\"278.788\" y1=\"79.792\" x2=\"278.788\" y2=\"129.792\" stroke-linecap=\"round\" style=\"stroke:red;stroke-width:4\"/><line x1=\"278.788\" y1=\"129.792\" x2=\"398.996\" y2=\"250.0\" stroke-linecap=\"round\" style=\"stroke:red;stroke-width:4\"/><line x1=\"398.996\" y1=\"250.0\" x2=\"398.996\" y2=\"420.0\" stroke-linecap=\"round\" style=\"stroke:red;stroke-width:4\"/><line x1=\"398.996\" y1=\"420.0\" x2=\"434.351\" y2=\"455.355\" stroke-linecap=\"round\" style=\"stroke:red;stroke-width:4\"/><line x1=\"434.351\" y1=\"455.355\" x2=\"484.351\" y2=\"455.355\" stroke-linecap=\"round\" style=\"stroke:red;stroke-width:4\"/><line x1=\"484.351\" y1=\"455.355\" x2=\"519.706\" y2=\"420.0\" stroke-linecap=\"round\" style=\"stroke:red;stroke-width:4\"/><line x1=\"519.706\" y1=\"420.0\" x2=\"519.706\" y2=\"370.0\" stroke-linecap=\"round\" style=\"stroke:red;stroke-width:4\"/><line x1=\"519.706\" y1=\"370.0\" x2=\"569.706\" y2=\"370.0\" stroke-linecap=\"round\" style=\"stroke:red;stroke-width:4\"/><line x1=\"569.706\" y1=\"370.0\" x2=\"605.061\" y2=\"334.645\" stroke-linecap=\"round\" style=\"stroke:red;stroke-width:4\"/><line x1=\"605.061\" y1=\"334.645\" x2=\"605.061\" y2=\"284.645\" stroke-linecap=\"round\" style=\"stroke:red;stroke-width:4\"/><line x1=\"605.061\" y1=\"284.645\" x2=\"569.706\" y2=\"249.29\" stroke-linecap=\"round\" style=\"stroke:red;stroke-width:4\"/><line x1=\"569.706\" y1=\"249.29\" x2=\"399.706\" y2=\"249.29\" stroke-linecap=\"round\" style=\"stroke:red;stroke-width:4\"/><line x1=\"399.706\" y1=\"249.29\" x2=\"279.498\" y2=\"129.082\" stroke-linecap=\"round\" style=\"stroke:red;stroke-width:4\"/><line x1=\"279.498\" y1=\"129.082\" x2=\"229.498\" y2=\"129.082\" stroke-linecap=\"round\" style=\"stroke:red;stroke-width:4\"/><line x1=\"229.498\" y1=\"129.082\" x2=\"194.143\" y2=\"164.437\" stroke-linecap=\"round\" style=\"stroke:red;stroke-width:4\"/><line x1=\"194.143\" y1=\"164.437\" x2=\"194.143\" y2=\"214.437\" stroke-linecap=\"round\" style=\"stroke:red;stroke-width:4\"/><line x1=\"194.143\" y1=\"214.437\" x2=\"229.498\" y2=\"249.792\" stroke-linecap=\"round\" style=\"stroke:red;stroke-width:4\"/><line x1=\"229.498\" y1=\"249.792\" x2=\"194.143\" y2=\"285.147\" stroke-linecap=\"round\" style=\"stroke:red;stroke-width:4\"/><line x1=\"194.143\" y1=\"285.147\" x2=\"194.143\" y2=\"335.147\" stroke-linecap=\"round\" style=\"stroke:red;stroke-width:4\"/><line x1=\"194.143\" y1=\"335.147\" x2=\"229.498\" y2=\"370.502\" stroke-linecap=\"round\" style=\"stroke:red;stroke-width:4\"/><line x1=\"229.498\" y1=\"370.502\" x2=\"279.498\" y2=\"370.502\" stroke-linecap=\"round\" style=\"stroke:red;stroke-width:4\"/><line x1=\"279.498\" y1=\"370.502\" x2=\"399.706\" y2=\"250.294\" stroke-linecap=\"round\" style=\"stroke:red;stroke-width:4\"/><line x1=\"399.706\" y1=\"250.294\" x2=\"569.706\" y2=\"250.294\" stroke-linecap=\"round\" style=\"stroke:red;stroke-width:4\"/><line x1=\"569.706\" y1=\"250.294\" x2=\"605.061\" y2=\"214.939\" stroke-linecap=\"round\" style=\"stroke:red;stroke-width:4\"/><line x1=\"605.061\" y1=\"214.939\" x2=\"605.061\" y2=\"164.939\" stroke-linecap=\"round\" style=\"stroke:red;stroke-width:4\"/><line x1=\"605.061\" y1=\"164.939\" x2=\"569.706\" y2=\"129.584\" stroke-linecap=\"round\" style=\"stroke:red;stroke-width:4\"/><line x1=\"569.706\" y1=\"129.584\" x2=\"519.706\" y2=\"129.584\" stroke-linecap=\"round\" style=\"stroke:red;stroke-width:4\"/><line x1=\"519.706\" y1=\"129.584\" x2=\"519.706\" y2=\"79.584\" stroke-linecap=\"round\" style=\"stroke:red;stroke-width:4\"/><line x1=\"519.706\" y1=\"79.584\" x2=\"484.351\" y2=\"44.229\" stroke-linecap=\"round\" style=\"stroke:red;stroke-width:4\"/><line x1=\"484.351\" y1=\"44.229\" x2=\"434.351\" y2=\"44.229\" stroke-linecap=\"round\" style=\"stroke:red;stroke-width:4\"/><line x1=\"434.351\" y1=\"44.229\" x2=\"398.996\" y2=\"79.584\" stroke-linecap=\"round\" style=\"stroke:red;stroke-width:4\"/><line x1=\"398.996\" y1=\"79.584\" x2=\"398.996\" y2=\"249.584\" stroke-linecap=\"round\" style=\"stroke:red;stroke-width:4\"/><line x1=\"398.996\" y1=\"249.584\" x2=\"278.788\" y2=\"369.792\" stroke-linecap=\"round\" style=\"stroke:red;stroke-width:4\"/><line x1=\"278.788\" y1=\"369.792\" x2=\"278.788\" y2=\"419.792\" stroke-linecap=\"round\" style=\"stroke:red;stroke-width:4\"/><line x1=\"278.788\" y1=\"419.792\" x2=\"314.143\" y2=\"455.147\" stroke-linecap=\"round\" style=\"stroke:red;stroke-width:4\"/><line x1=\"314.143\" y1=\"455.147\" x2=\"364.143\" y2=\"455.147\" stroke-linecap=\"round\" style=\"stroke:red;stroke-width:4\"/><line x1=\"364.143\" y1=\"455.147\" x2=\"399.498\" y2=\"419.792\" stroke-linecap=\"round\" style=\"stroke:red;stroke-width:4\"/><line x1=\"399.498\" y1=\"419.792\" x2=\"434.853\" y2=\"455.147\" stroke-linecap=\"round\" style=\"stroke:red;stroke-width:4\"/><line x1=\"434.853\" y1=\"455.147\" x2=\"484.853\" y2=\"455.147\" stroke-linecap=\"round\" style=\"stroke:red;stroke-width:4\"/><line x1=\"484.853\" y1=\"455.147\" x2=\"520.208\" y2=\"419.792\" stroke-linecap=\"round\" style=\"stroke:red;stroke-width:4\"/><line x1=\"520.208\" y1=\"419.792\" x2=\"520.208\" y2=\"369.792\" stroke-linecap=\"round\" style=\"stroke:red;stroke-width:4\"/><line x1=\"520.208\" y1=\"369.792\" x2=\"400.0\" y2=\"249.584\" stroke-linecap=\"round\" style=\"stroke:red;stroke-width:4\"/><line x1=\"400.0\" y1=\"249.584\" x2=\"400.0\" y2=\"79.584\" stroke-linecap=\"round\" style=\"stroke:red;stroke-width:4\"/><line x1=\"400.0\" y1=\"79.584\" x2=\"364.645\" y2=\"44.229\" stroke-linecap=\"round\" style=\"stroke:red;stroke-width:4\"/><line x1=\"364.645\" y1=\"44.229\" x2=\"314.645\" y2=\"44.229\" stroke-linecap=\"round\" style=\"stroke:red;stroke-width:4\"/><line x1=\"314.645\" y1=\"44.229\" x2=\"279.29\" y2=\"79.584\" stroke-linecap=\"round\" style=\"stroke:red;stroke-width:4\"/><line x1=\"279.29\" y1=\"79.584\" x2=\"279.29\" y2=\"129.584\" stroke-linecap=\"round\" style=\"stroke:red;stroke-width:4\"/><line x1=\"279.29\" y1=\"129.584\" x2=\"229.29\" y2=\"129.584\" stroke-linecap=\"round\" style=\"stroke:red;stroke-width:4\"/><line x1=\"229.29\" y1=\"129.584\" x2=\"193.935\" y2=\"164.939\" stroke-linecap=\"round\" style=\"stroke:red;stroke-width:4\"/><line x1=\"193.935\" y1=\"164.939\" x2=\"193.935\" y2=\"214.939\" stroke-linecap=\"round\" style=\"stroke:red;stroke-width:4\"/><line x1=\"193.935\" y1=\"214.939\" x2=\"229.29\" y2=\"250.294\" stroke-linecap=\"round\" style=\"stroke:red;stroke-width:4\"/><line x1=\"229.29\" y1=\"250.294\" x2=\"399.29\" y2=\"250.294\" stroke-linecap=\"round\" style=\"stroke:red;stroke-width:4\"/><line x1=\"399.29\" y1=\"250.294\" x2=\"519.498\" y2=\"370.502\" stroke-linecap=\"round\" style=\"stroke:red;stroke-width:4\"/><line x1=\"519.498\" y1=\"370.502\" x2=\"569.498\" y2=\"370.502\" stroke-linecap=\"round\" style=\"stroke:red;stroke-width:4\"/><line x1=\"569.498\" y1=\"370.502\" x2=\"604.853\" y2=\"335.147\" stroke-linecap=\"round\" style=\"stroke:red;stroke-width:4\"/><line x1=\"604.853\" y1=\"335.147\" x2=\"604.853\" y2=\"285.147\" stroke-linecap=\"round\" style=\"stroke:red;stroke-width:4\"/><line x1=\"604.853\" y1=\"285.147\" x2=\"569.498\" y2=\"249.792\" stroke-linecap=\"round\" style=\"stroke:red;stroke-width:4\"/><line x1=\"569.498\" y1=\"249.792\" x2=\"604.853\" y2=\"214.437\" stroke-linecap=\"round\" style=\"stroke:red;stroke-width:4\"/><line x1=\"604.853\" y1=\"214.437\" x2=\"604.853\" y2=\"164.437\" stroke-linecap=\"round\" style=\"stroke:red;stroke-width:4\"/><line x1=\"604.853\" y1=\"164.437\" x2=\"569.498\" y2=\"129.082\" stroke-linecap=\"round\" style=\"stroke:red;stroke-width:4\"/><line x1=\"569.498\" y1=\"129.082\" x2=\"519.498\" y2=\"129.082\" stroke-linecap=\"round\" style=\"stroke:red;stroke-width:4\"/><line x1=\"519.498\" y1=\"129.082\" x2=\"399.29\" y2=\"249.29\" stroke-linecap=\"round\" style=\"stroke:red;stroke-width:4\"/><line x1=\"399.29\" y1=\"249.29\" x2=\"229.29\" y2=\"249.29\" stroke-linecap=\"round\" style=\"stroke:red;stroke-width:4\"/><line x1=\"229.29\" y1=\"249.29\" x2=\"193.935\" y2=\"284.645\" stroke-linecap=\"round\" style=\"stroke:red;stroke-width:4\"/><line x1=\"193.935\" y1=\"284.645\" x2=\"193.935\" y2=\"334.645\" stroke-linecap=\"round\" style=\"stroke:red;stroke-width:4\"/><line x1=\"193.935\" y1=\"334.645\" x2=\"229.29\" y2=\"370.0\" stroke-linecap=\"round\" style=\"stroke:red;stroke-width:4\"/><line x1=\"229.29\" y1=\"370.0\" x2=\"279.29\" y2=\"370.0\" stroke-linecap=\"round\" style=\"stroke:red;stroke-width:4\"/><line x1=\"279.29\" y1=\"370.0\" x2=\"279.29\" y2=\"420.0\" stroke-linecap=\"round\" style=\"stroke:red;stroke-width:4\"/><line x1=\"279.29\" y1=\"420.0\" x2=\"314.645\" y2=\"455.355\" stroke-linecap=\"round\" style=\"stroke:red;stroke-width:4\"/><line x1=\"314.645\" y1=\"455.355\" x2=\"364.645\" y2=\"455.355\" stroke-linecap=\"round\" style=\"stroke:red;stroke-width:4\"/><line x1=\"364.645\" y1=\"455.355\" x2=\"400.0\" y2=\"420.0\" stroke-linecap=\"round\" style=\"stroke:red;stroke-width:4\"/><line x1=\"400.0\" y1=\"420.0\" x2=\"400.0\" y2=\"250.0\" stroke-linecap=\"round\" style=\"stroke:red;stroke-width:4\"/><line x1=\"400.0\" y1=\"250.0\" x2=\"520.208\" y2=\"129.792\" stroke-linecap=\"round\" style=\"stroke:red;stroke-width:4\"/><line x1=\"520.208\" y1=\"129.792\" x2=\"520.208\" y2=\"79.792\" stroke-linecap=\"round\" style=\"stroke:red;stroke-width:4\"/><line x1=\"520.208\" y1=\"79.792\" x2=\"484.853\" y2=\"44.437\" stroke-linecap=\"round\" style=\"stroke:red;stroke-width:4\"/><line x1=\"484.853\" y1=\"44.437\" x2=\"434.853\" y2=\"44.437\" stroke-linecap=\"round\" style=\"stroke:red;stroke-width:4\"/><line x1=\"434.853\" y1=\"44.437\" x2=\"399.498\" y2=\"79.792\" stroke-linecap=\"round\" style=\"stroke:red;stroke-width:4\"/><line x1=\"399.498\" y1=\"79.792\" x2=\"364.143\" y2=\"44.437\" stroke-linecap=\"round\" style=\"stroke:red;stroke-width:4\"/><line x1=\"364.143\" y1=\"44.437\" x2=\"314.143\" y2=\"44.437\" stroke-linecap=\"round\" style=\"stroke:red;stroke-width:4\"/><line x1=\"314.143\" y1=\"44.437\" x2=\"278.788\" y2=\"79.792\" stroke-linecap=\"round\" style=\"stroke:red;stroke-width:4\"/><line x1=\"278.788\" y1=\"79.792\" x2=\"278.788\" y2=\"129.792\" stroke-linecap=\"round\" style=\"stroke:red;stroke-width:4\"/><line x1=\"278.788\" y1=\"129.792\" x2=\"398.996\" y2=\"250.0\" stroke-linecap=\"round\" style=\"stroke:red;stroke-width:4\"/><line x1=\"398.996\" y1=\"250.0\" x2=\"398.996\" y2=\"420.0\" stroke-linecap=\"round\" style=\"stroke:red;stroke-width:4\"/><line x1=\"398.996\" y1=\"420.0\" x2=\"434.351\" y2=\"455.355\" stroke-linecap=\"round\" style=\"stroke:red;stroke-width:4\"/><line x1=\"434.351\" y1=\"455.355\" x2=\"484.351\" y2=\"455.355\" stroke-linecap=\"round\" style=\"stroke:red;stroke-width:4\"/><line x1=\"484.351\" y1=\"455.355\" x2=\"519.706\" y2=\"420.0\" stroke-linecap=\"round\" style=\"stroke:red;stroke-width:4\"/><line x1=\"519.706\" y1=\"420.0\" x2=\"519.706\" y2=\"370.0\" stroke-linecap=\"round\" style=\"stroke:red;stroke-width:4\"/><line x1=\"519.706\" y1=\"370.0\" x2=\"569.706\" y2=\"370.0\" stroke-linecap=\"round\" style=\"stroke:red;stroke-width:4\"/><line x1=\"569.706\" y1=\"370.0\" x2=\"605.061\" y2=\"334.645\" stroke-linecap=\"round\" style=\"stroke:red;stroke-width:4\"/><line x1=\"605.061\" y1=\"334.645\" x2=\"605.061\" y2=\"284.645\" stroke-linecap=\"round\" style=\"stroke:red;stroke-width:4\"/><line x1=\"605.061\" y1=\"284.645\" x2=\"569.706\" y2=\"249.29\" stroke-linecap=\"round\" style=\"stroke:red;stroke-width:4\"/><line x1=\"569.706\" y1=\"249.29\" x2=\"399.706\" y2=\"249.29\" stroke-linecap=\"round\" style=\"stroke:red;stroke-width:4\"/>\n",
              "        <g visibility=visible transform=\"rotate(270,399.706,249.29) translate(381.706, 231.29)\">\n",
              "<path style=\" stroke:none;fill-rule:evenodd;fill:red;fill-opacity:1;\" d=\"M 18.214844 0.632812 C 16.109375 1.800781 15.011719 4.074219 15.074219 7.132812 L 15.085938 7.652344 L 14.785156 7.496094 C 13.476562 6.824219 11.957031 6.671875 10.40625 7.066406 C 8.46875 7.550781 6.515625 9.15625 4.394531 11.992188 C 3.0625 13.777344 2.679688 14.636719 3.042969 15.027344 L 3.15625 15.152344 L 3.519531 15.152344 C 4.238281 15.152344 4.828125 14.886719 8.1875 13.039062 C 9.386719 12.378906 10.371094 11.839844 10.378906 11.839844 C 10.386719 11.839844 10.355469 11.929688 10.304688 12.035156 C 9.832031 13.09375 9.257812 14.820312 8.96875 16.078125 C 7.914062 20.652344 8.617188 24.53125 11.070312 27.660156 C 11.351562 28.015625 11.363281 27.914062 10.972656 28.382812 C 8.925781 30.84375 7.945312 33.28125 8.238281 35.1875 C 8.289062 35.527344 8.28125 35.523438 8.917969 35.523438 C 10.941406 35.523438 13.074219 34.207031 15.136719 31.6875 C 15.359375 31.417969 15.328125 31.425781 15.5625 31.574219 C 16.292969 32.042969 18.023438 32.964844 18.175781 32.964844 C 18.335938 32.964844 19.941406 32.210938 20.828125 31.71875 C 20.996094 31.625 21.136719 31.554688 21.136719 31.558594 C 21.203125 31.664062 21.898438 32.414062 22.222656 32.730469 C 23.835938 34.300781 25.5625 35.132812 27.582031 35.300781 C 27.90625 35.328125 27.9375 35.308594 28.007812 34.984375 C 28.382812 33.242188 27.625 30.925781 25.863281 28.425781 L 25.542969 27.96875 L 25.699219 27.785156 C 28.945312 23.960938 29.132812 18.699219 26.257812 11.96875 L 26.207031 11.84375 L 27.945312 12.703125 C 31.53125 14.476562 32.316406 14.800781 33.03125 14.800781 C 33.976562 14.800781 33.78125 13.9375 32.472656 12.292969 C 28.519531 7.355469 25.394531 5.925781 21.921875 7.472656 L 21.558594 7.636719 L 21.578125 7.542969 C 21.699219 6.992188 21.761719 5.742188 21.699219 5.164062 C 21.496094 3.296875 20.664062 1.964844 19.003906 0.855469 C 18.480469 0.503906 18.457031 0.5 18.214844 0.632812\"/>\n",
              "</g>\n",
              "      </svg>\n",
              "    "
            ]
          },
          "metadata": {}
        }
      ]
    }
  ]
}