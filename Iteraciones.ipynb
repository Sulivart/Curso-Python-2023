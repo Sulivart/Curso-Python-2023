{
  "nbformat": 4,
  "nbformat_minor": 0,
  "metadata": {
    "colab": {
      "provenance": [],
      "authorship_tag": "ABX9TyMjnPka4qgjBuwgDnRTCW0J",
      "include_colab_link": true
    },
    "kernelspec": {
      "name": "python3",
      "display_name": "Python 3"
    },
    "language_info": {
      "name": "python"
    }
  },
  "cells": [
    {
      "cell_type": "markdown",
      "metadata": {
        "id": "view-in-github",
        "colab_type": "text"
      },
      "source": [
        "<a href=\"https://colab.research.google.com/github/Sulivart/Curso-Python-2023/blob/main/Iteraciones.ipynb\" target=\"_parent\"><img src=\"https://colab.research.google.com/assets/colab-badge.svg\" alt=\"Open In Colab\"/></a>"
      ]
    },
    {
      "cell_type": "markdown",
      "source": [
        "#Ejercicios"
      ],
      "metadata": {
        "id": "lzsHqxKOgbD1"
      }
    },
    {
      "cell_type": "markdown",
      "source": [
        "Ejemplo 1. Imprime cada fruta en una lista de frutas:"
      ],
      "metadata": {
        "id": "SUkH60HUgkr4"
      }
    },
    {
      "cell_type": "code",
      "execution_count": 6,
      "metadata": {
        "colab": {
          "base_uri": "https://localhost:8080/"
        },
        "id": "LeK9pAr7OkgN",
        "outputId": "550dbacc-045a-4d04-93cc-49de7468327c"
      },
      "outputs": [
        {
          "output_type": "stream",
          "name": "stdout",
          "text": [
            "Fruta 0:  manzana\n",
            "Fruta 0:  platano\n",
            "Fruta 0:  cereza\n"
          ]
        }
      ],
      "source": [
        "fruits = [\"manzana\", \"platano\", \"cereza\"]\n",
        "contador=0\n",
        "for i in fruits:\n",
        "  contador += 0\n",
        "  #print('Fruta', contador, ' ', i)\n",
        "  print(f'Fruta {contador}: ', i)"
      ]
    },
    {
      "cell_type": "code",
      "source": [
        "count_1=0\n",
        "count_2=0\n",
        "\n",
        "for i in adj:\n",
        "  count_1+=1\n",
        "  for j in fruits:\n",
        "    count_2+=1\n",
        "    print('Fruta',\"(\",count_1,\",\",count_2,\"):\",i,j)"
      ],
      "metadata": {
        "colab": {
          "base_uri": "https://localhost:8080/"
        },
        "id": "PB5qE4FvvS5p",
        "outputId": "81f312f0-8ecd-4a79-ba56-bd7522daaf38"
      },
      "execution_count": 12,
      "outputs": [
        {
          "output_type": "stream",
          "name": "stdout",
          "text": [
            "Fruta ( 1 , 1 ): Roja manzana\n",
            "Fruta ( 1 , 2 ): Roja platano\n",
            "Fruta ( 1 , 3 ): Roja cereza\n",
            "Fruta ( 2 , 4 ): Grande manzana\n",
            "Fruta ( 2 , 5 ): Grande platano\n",
            "Fruta ( 2 , 6 ): Grande cereza\n",
            "Fruta ( 3 , 7 ): Dulce manzana\n",
            "Fruta ( 3 , 8 ): Dulce platano\n",
            "Fruta ( 3 , 9 ): Dulce cereza\n"
          ]
        }
      ]
    },
    {
      "cell_type": "code",
      "source": [
        "frutas = [\"Manzana\", \"Platano\", \"Cereza\"]\n",
        "adjetivos = [\"Roja\", \"Grande\", \"Dulce\"]\n",
        "\n",
        "A = 1\n",
        "for i in adjetivos:\n",
        "  B = 1\n",
        "  for j in frutas:\n",
        "    print(\"Fruta (\" + str(A) +\", \"+ str(B) +\")\" + i + \" \"+ j )\n",
        "    B = B + 1\n",
        "  A += 1"
      ],
      "metadata": {
        "colab": {
          "base_uri": "https://localhost:8080/"
        },
        "id": "i7xKRJOZiwTA",
        "outputId": "cf896362-a27f-4afd-f438-c5d58f1dbd4f"
      },
      "execution_count": 7,
      "outputs": [
        {
          "output_type": "stream",
          "name": "stdout",
          "text": [
            "Fruta (1, 1)Roja Manzana\n",
            "Fruta (1, 2)Roja Platano\n",
            "Fruta (1, 3)Roja Cereza\n",
            "Fruta (2, 1)Grande Manzana\n",
            "Fruta (2, 2)Grande Platano\n",
            "Fruta (2, 3)Grande Cereza\n",
            "Fruta (3, 1)Dulce Manzana\n",
            "Fruta (3, 2)Dulce Platano\n",
            "Fruta (3, 3)Dulce Cereza\n"
          ]
        }
      ]
    },
    {
      "cell_type": "code",
      "source": [
        "frutas = [\"Manzana\", \"Platano\", \"Cereza\"]\n",
        "adj = [\"Roja\", \"Grande\", \"Dulce\"]\n",
        "for i in range(3):\n",
        "  print(f\"{adj[0]} {fruits[i]} \")\n",
        "for i in range(3):\n",
        "  print(f\"{adj[1]} {fruits[i]} \")\n",
        "for i in range(3):\n",
        "  print(f\"{adj[2]} {fruits[i]} \")"
      ],
      "metadata": {
        "colab": {
          "base_uri": "https://localhost:8080/"
        },
        "id": "b_q933GPj9hx",
        "outputId": "c48c7e94-01b1-47af-bf6c-bfdd535ab8ce"
      },
      "execution_count": 8,
      "outputs": [
        {
          "output_type": "stream",
          "name": "stdout",
          "text": [
            "Roja manzana \n",
            "Roja platano \n",
            "Roja cereza \n",
            "Grande manzana \n",
            "Grande platano \n",
            "Grande cereza \n",
            "Dulce manzana \n",
            "Dulce platano \n",
            "Dulce cereza \n"
          ]
        }
      ]
    },
    {
      "cell_type": "markdown",
      "source": [
        "Ejercicio A.Escribir un programa que pregunte al usuario su edad y muestre por pantalla todos los años que ha cumplido (desde 1 hasta su edad).\n",
        "\n",
        "¿Cuántos años tienes?  5\n",
        "\n",
        "Has cumplido 1 años\n",
        "\n",
        "Has cumplido 2 años\n",
        "\n",
        "Has cumplido 3 años\n",
        "\n",
        "Has cumplido 4 años\n",
        "\n",
        "Has cumplido 5 años"
      ],
      "metadata": {
        "id": "TwgHn7jkglxI"
      }
    },
    {
      "cell_type": "code",
      "source": [
        "edad = int(input('¿Cuántos años tienes? '))\n",
        "for i in range (1, edad+1):\n",
        "  if i <= edad:\n",
        "    print(f'Has cumplido {i} años!!!')\n",
        "else:\n",
        "    pass"
      ],
      "metadata": {
        "colab": {
          "base_uri": "https://localhost:8080/"
        },
        "id": "wmJNLsxNgmH4",
        "outputId": "4ba21475-683e-4112-fc8c-41b02b06fe22"
      },
      "execution_count": 5,
      "outputs": [
        {
          "output_type": "stream",
          "name": "stdout",
          "text": [
            "¿Cuántos años tienes? 19\n",
            "Has cumplido 1 años!!!\n",
            "Has cumplido 2 años!!!\n",
            "Has cumplido 3 años!!!\n",
            "Has cumplido 4 años!!!\n",
            "Has cumplido 5 años!!!\n",
            "Has cumplido 6 años!!!\n",
            "Has cumplido 7 años!!!\n",
            "Has cumplido 8 años!!!\n",
            "Has cumplido 9 años!!!\n",
            "Has cumplido 10 años!!!\n",
            "Has cumplido 11 años!!!\n",
            "Has cumplido 12 años!!!\n",
            "Has cumplido 13 años!!!\n",
            "Has cumplido 14 años!!!\n",
            "Has cumplido 15 años!!!\n",
            "Has cumplido 16 años!!!\n",
            "Has cumplido 17 años!!!\n",
            "Has cumplido 18 años!!!\n",
            "Has cumplido 19 años!!!\n"
          ]
        }
      ]
    },
    {
      "cell_type": "markdown",
      "source": [
        "Ejercicio A2. Realiza un programa que solicita al usuario ingresar números hasta que ingrese 0, luego muestra la suma de los números ingresados."
      ],
      "metadata": {
        "id": "cogTty13kPy8"
      }
    },
    {
      "cell_type": "code",
      "source": [
        "suma = 0\n",
        "numero = None\n",
        "\n",
        "while numero != 0 :\n",
        "  numero = int(input('Ingrese un número (ingrese 0 para finalizar): '))\n",
        "  suma+=numero\n",
        "\n",
        "print(suma)"
      ],
      "metadata": {
        "colab": {
          "base_uri": "https://localhost:8080/"
        },
        "id": "z5XLWmSWkQEy",
        "outputId": "40c51f78-3c14-47b7-8b06-e13a55495670"
      },
      "execution_count": 11,
      "outputs": [
        {
          "output_type": "stream",
          "name": "stdout",
          "text": [
            "Ingrese un número (ingrese 0 para finalizar): 1\n",
            "Ingrese un número (ingrese 0 para finalizar): 2\n",
            "Ingrese un número (ingrese 0 para finalizar): 3\n",
            "Ingrese un número (ingrese 0 para finalizar): 4\n",
            "Ingrese un número (ingrese 0 para finalizar): 5\n",
            "Ingrese un número (ingrese 0 para finalizar): 6\n",
            "Ingrese un número (ingrese 0 para finalizar): 7\n",
            "Ingrese un número (ingrese 0 para finalizar): 8\n",
            "Ingrese un número (ingrese 0 para finalizar): 9\n",
            "Ingrese un número (ingrese 0 para finalizar): 0\n",
            "45\n"
          ]
        }
      ]
    },
    {
      "cell_type": "markdown",
      "source": [
        "Ejercicio B. Árbol de navidad en Python. Imprime un árbol de navidad formado con * haciendo uso del while y de la multiplicación de un entero por una cadena, cuyo resultado en Python es replicar la cadena."
      ],
      "metadata": {
        "id": "mCarXR3rwIl-"
      }
    },
    {
      "cell_type": "code",
      "source": [
        "base = int(input('Ingresa el número de filas: '))\n",
        "\n",
        "# pirámide normal\n",
        "spaces = base-1\n",
        "asterist = 1\n",
        "for lines in range(base):\n",
        "  while spaces >= 0:\n",
        "    print ('%s%s%s' % ((' '*spaces), ('*'*asterist), (' '*spaces)))\n",
        "    spaces -= 1\n",
        "    asterist += 2"
      ],
      "metadata": {
        "colab": {
          "base_uri": "https://localhost:8080/"
        },
        "id": "5wbolveNwNk-",
        "outputId": "35aacc63-25a3-4060-a640-f831526b8738"
      },
      "execution_count": 15,
      "outputs": [
        {
          "output_type": "stream",
          "name": "stdout",
          "text": [
            "Ingresa el número de filas: 10\n",
            "         *         \n",
            "        ***        \n",
            "       *****       \n",
            "      *******      \n",
            "     *********     \n",
            "    ***********    \n",
            "   *************   \n",
            "  ***************  \n",
            " ***************** \n",
            "*******************\n"
          ]
        }
      ]
    }
  ]
}