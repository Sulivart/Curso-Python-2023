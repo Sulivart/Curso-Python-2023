{
  "nbformat": 4,
  "nbformat_minor": 0,
  "metadata": {
    "colab": {
      "provenance": [],
      "authorship_tag": "ABX9TyOnIHaxwpNZvSj0sIudpM9k",
      "include_colab_link": true
    },
    "kernelspec": {
      "name": "python3",
      "display_name": "Python 3"
    },
    "language_info": {
      "name": "python"
    }
  },
  "cells": [
    {
      "cell_type": "markdown",
      "metadata": {
        "id": "view-in-github",
        "colab_type": "text"
      },
      "source": [
        "<a href=\"https://colab.research.google.com/github/Sulivart/Curso-Python-2023/blob/main/SQLite.ipynb\" target=\"_parent\"><img src=\"https://colab.research.google.com/assets/colab-badge.svg\" alt=\"Open In Colab\"/></a>"
      ]
    },
    {
      "cell_type": "markdown",
      "source": [
        "# Base de datos SQLite\n",
        "<a href=\"https://colab.research.google.com/github/rambasnet/FDSPython-Notebooks/blob/master/Ch21-SqliteDB.ipynb\" target=\"_parent\"><img src=\"https://colab.research.google.com/assets/colab-badge.svg\" alt=\"Open In Colab\"/></a>\n",
        "\n",
        "- https://www.sqlite.org/\n",
        "- Basado en C, una de las bases de datos integradas más utilizadas (configuración cero)\n",
        "\n",
        "## Conceptos básicos de SQL\n",
        "- Lenguaje de consulta estructurado\n",
        "- lenguaje insensible a mayúsculas y minúsculas; generalmente escrito en mayúsculas\n",
        "- Permita que usted o el programa utilicen bases de datos basadas en SQL como SQLite, MySQL, MSSQL, PostgreSQL, etc.\n",
        "- declaraciones básicas más importantes para aprender: CRUD\n",
        "- C: crear (base de datos, tabla, crear e insertar registros)\n",
        "- R: recuperar/leer datos\n",
        "-U: actualizar datos\n",
        "- D: eliminar datos\n",
        "- http://www.w3schools.com/sql/default.asp\n",
        "\n",
        "## Navegador SQLite\n",
        "- Explorador de sqlite db basado en GUI\n",
        "- facilita la visualización de datos y el aprendizaje de SQL\n",
        "- http://sqlitebrowser.org/\n",
        "\n",
        "# Módulo sqlite3\n",
        "- python3 proporciona la biblioteca sqlite3 para trabajar con la base de datos sqlite\n",
        "- https://docs.python.org/3/library/sqlite3.html\n",
        "- SQLite admite de forma nativa los siguientes tipos: NULL, INTEGER, REAL, TEXT, BLOB\n",
        "\n",
        "|SQLite type|Python type|\n",
        "| ---|---|\n",
        "| NULL | None |\n",
        "| INTEGER | int |\n",
        "| REAL | float |\n",
        "| TEXT | str |\n",
        "| BLOB | bytes |\n",
        "\n",
        "## Ejemplo de base de datos en memoria"
      ],
      "metadata": {
        "id": "4mH6mDVj1ux7"
      }
    },
    {
      "cell_type": "code",
      "execution_count": null,
      "metadata": {
        "id": "SkXo75M91uDN",
        "colab": {
          "base_uri": "https://localhost:8080/"
        },
        "outputId": "ef409490-f803-4567-daa0-a3b73786b33e"
      },
      "outputs": [
        {
          "output_type": "execute_result",
          "data": {
            "text/plain": [
              "<sqlite3.Cursor at 0x7d68b63c42c0>"
            ]
          },
          "metadata": {},
          "execution_count": 1
        }
      ],
      "source": [
        "import sqlite3\n",
        "# Conectarse a la base de datos de la memoria\n",
        "con = sqlite3.connect(\":memory:\")\n",
        "\n",
        "# Crear una tabla\n",
        "con.execute(\"create table person(fname, lname)\")"
      ]
    },
    {
      "cell_type": "code",
      "source": [
        "# Llenar la tabla con datos\n",
        "persons = [('Hugo', 'Boss'), ('Calvin', 'Klien')]\n",
        "con.executemany(\"insert into person(fname, lname) values (?, ?)\", persons)"
      ],
      "metadata": {
        "colab": {
          "base_uri": "https://localhost:8080/"
        },
        "id": "PPKL04CQeS3u",
        "outputId": "b585b514-2067-4813-dc42-697629c61b5a"
      },
      "execution_count": null,
      "outputs": [
        {
          "output_type": "execute_result",
          "data": {
            "text/plain": [
              "<sqlite3.Cursor at 0x7d68b63c45c0>"
            ]
          },
          "metadata": {},
          "execution_count": 2
        }
      ]
    },
    {
      "cell_type": "code",
      "source": [
        "# Imprimir el contenido de la tabla\n",
        "for row in con.execute(\"select rowid, fname, lname from person\"):\n",
        "    print(row)"
      ],
      "metadata": {
        "colab": {
          "base_uri": "https://localhost:8080/"
        },
        "id": "7XUc1Rbufiz6",
        "outputId": "f7d6f41b-cdab-445d-a2be-8d0c98dff826"
      },
      "execution_count": null,
      "outputs": [
        {
          "output_type": "stream",
          "name": "stdout",
          "text": [
            "(1, 'Hugo', 'Boss')\n",
            "(2, 'Calvin', 'Klien')\n"
          ]
        }
      ]
    },
    {
      "cell_type": "code",
      "source": [
        "print(\"I just deleted\", con.execute(\"delete from person where rowid=1\").rowcount, \"rows\")"
      ],
      "metadata": {
        "colab": {
          "base_uri": "https://localhost:8080/"
        },
        "id": "eRd38omefk5k",
        "outputId": "80d2a994-b82e-4cb3-b9d1-1b1958582d92"
      },
      "execution_count": null,
      "outputs": [
        {
          "output_type": "stream",
          "name": "stdout",
          "text": [
            "I just deleted 1 rows\n"
          ]
        }
      ]
    },
    {
      "cell_type": "markdown",
      "source": [
        "## Ejemplo de archivo db\n",
        "### Crear base de datos, crear tabla e insertar datos en la tabla"
      ],
      "metadata": {
        "id": "-KNFn46sf5is"
      }
    },
    {
      "cell_type": "code",
      "source": [
        "import sqlite3\n",
        "# Creando conexión\n",
        "conn = sqlite3.connect('example.db')\n",
        "# Creando objeto de cursor\n",
        "cur = conn.cursor()\n",
        "\n",
        "cur.execute(\"\"\"CREATE TABLE IF NOT EXISTS students (firstName text,\n",
        "            lastName text, test1 real, test2 real, average real, grade text)\"\"\")"
      ],
      "metadata": {
        "colab": {
          "base_uri": "https://localhost:8080/"
        },
        "id": "tpNi5Uu1flKJ",
        "outputId": "b2400cb8-9ef9-48ad-beeb-1e6fb36d1f93"
      },
      "execution_count": null,
      "outputs": [
        {
          "output_type": "execute_result",
          "data": {
            "text/plain": [
              "<sqlite3.Cursor at 0x7d68b63c4940>"
            ]
          },
          "metadata": {},
          "execution_count": 5
        }
      ]
    },
    {
      "cell_type": "code",
      "source": [
        "query = \"\"\" INSERT INTO students (firstName, lastName, test1, test2) values (?, ?, ?, ?)\"\"\"\n",
        "cur.execute(query, ('John', 'Smith', 99, 95.5))"
      ],
      "metadata": {
        "colab": {
          "base_uri": "https://localhost:8080/"
        },
        "id": "vUk-ROYzflSh",
        "outputId": "c09b9416-b6e8-4894-bfce-d063b57bf518"
      },
      "execution_count": null,
      "outputs": [
        {
          "output_type": "execute_result",
          "data": {
            "text/plain": [
              "<sqlite3.Cursor at 0x7d68b63c4940>"
            ]
          },
          "metadata": {},
          "execution_count": 6
        }
      ]
    },
    {
      "cell_type": "code",
      "source": [
        "cur.execute(query, ('Michael', 'Jordan', 50, 65))"
      ],
      "metadata": {
        "colab": {
          "base_uri": "https://localhost:8080/"
        },
        "id": "PPCxPRhTflZb",
        "outputId": "983db4cc-f1e7-4fc2-8bec-887db2bbc076"
      },
      "execution_count": null,
      "outputs": [
        {
          "output_type": "execute_result",
          "data": {
            "text/plain": [
              "<sqlite3.Cursor at 0x7d68b63c4940>"
            ]
          },
          "metadata": {},
          "execution_count": 7
        }
      ]
    },
    {
      "cell_type": "code",
      "source": [
        "# Guardar/confirmar los cambios en la base de datos\n",
        "conn.commit()\n",
        "# Cerrar la base de datos si está hecho\n",
        "conn.close()"
      ],
      "metadata": {
        "id": "lA_Uvdteflfh"
      },
      "execution_count": null,
      "outputs": []
    },
    {
      "cell_type": "markdown",
      "source": [
        "### Abrir base de datos, leer y actualizar tabla"
      ],
      "metadata": {
        "id": "j60Wfxm-g2KF"
      }
    },
    {
      "cell_type": "code",
      "source": [
        "import sqlite3\n",
        "conn = sqlite3.connect('example.db')\n",
        "cur = conn.cursor()"
      ],
      "metadata": {
        "id": "Wq_xt8gsg2cU"
      },
      "execution_count": null,
      "outputs": []
    },
    {
      "cell_type": "code",
      "source": [
        "cur.execute('SELECT * FROM students where rowid = 1')\n",
        "row = cur.fetchone() # Devuelve una fila como tupla si existe rowid con valor 1\n",
        "print(row)"
      ],
      "metadata": {
        "colab": {
          "base_uri": "https://localhost:8080/"
        },
        "id": "z7lNjhJDg2je",
        "outputId": "e57f8897-8840-4ceb-98ca-07ea16e8a29f"
      },
      "execution_count": null,
      "outputs": [
        {
          "output_type": "stream",
          "name": "stdout",
          "text": [
            "('John', 'Smith', 99.0, 95.5, None, None)\n"
          ]
        }
      ]
    },
    {
      "cell_type": "code",
      "source": [
        "for col in row:\n",
        "    print(col)"
      ],
      "metadata": {
        "colab": {
          "base_uri": "https://localhost:8080/"
        },
        "id": "aSktLSNag2rM",
        "outputId": "be5881d2-2e98-4841-e453-94d5a2339637"
      },
      "execution_count": null,
      "outputs": [
        {
          "output_type": "stream",
          "name": "stdout",
          "text": [
            "John\n",
            "Smith\n",
            "99.0\n",
            "95.5\n",
            "None\n",
            "None\n"
          ]
        }
      ]
    },
    {
      "cell_type": "code",
      "source": [
        "cur.execute('SELECT rowid, * FROM students')\n",
        "rows = cur.fetchall()\n",
        "print(rows)"
      ],
      "metadata": {
        "colab": {
          "base_uri": "https://localhost:8080/"
        },
        "id": "ami86wOig2xl",
        "outputId": "08d5371e-b9d1-4e3e-83c2-ffb3191b600a"
      },
      "execution_count": null,
      "outputs": [
        {
          "output_type": "stream",
          "name": "stdout",
          "text": [
            "[(1, 'John', 'Smith', 99.0, 95.5, None, None), (2, 'Michael', 'Jordan', 50.0, 65.0, None, None)]\n"
          ]
        }
      ]
    },
    {
      "cell_type": "code",
      "source": [
        "type(rows)"
      ],
      "metadata": {
        "colab": {
          "base_uri": "https://localhost:8080/"
        },
        "id": "YU7Ilv5ig25c",
        "outputId": "ec2bef47-a1ef-4847-d0bb-750ca9ebef05"
      },
      "execution_count": null,
      "outputs": [
        {
          "output_type": "execute_result",
          "data": {
            "text/plain": [
              "list"
            ]
          },
          "metadata": {},
          "execution_count": 13
        }
      ]
    },
    {
      "cell_type": "code",
      "source": [
        "for row in rows:\n",
        "    print(row)"
      ],
      "metadata": {
        "colab": {
          "base_uri": "https://localhost:8080/"
        },
        "id": "PHhVtLo2hec7",
        "outputId": "198bd78a-9f78-4147-8919-a0e599eeefc5"
      },
      "execution_count": null,
      "outputs": [
        {
          "output_type": "stream",
          "name": "stdout",
          "text": [
            "(1, 'John', 'Smith', 99.0, 95.5, None, None)\n",
            "(2, 'Michael', 'Jordan', 50.0, 65.0, None, None)\n"
          ]
        }
      ]
    },
    {
      "cell_type": "markdown",
      "source": [
        "<strong>Actualizar tabla</strong>"
      ],
      "metadata": {
        "id": "zOfsGTHuhhS6"
      }
    },
    {
      "cell_type": "code",
      "source": [
        "for row in rows:\n",
        "    avg = (row[3] + row[4])/2\n",
        "    # grade = ?\n",
        "    cur.execute('update students set average=? where rowid=?', (avg, row[0]))"
      ],
      "metadata": {
        "id": "6FJo8JtUhejq"
      },
      "execution_count": null,
      "outputs": []
    },
    {
      "cell_type": "code",
      "source": [
        "cur.execute('select * from students')\n",
        "print(cur.fetchall())"
      ],
      "metadata": {
        "colab": {
          "base_uri": "https://localhost:8080/"
        },
        "id": "0fF6eO2hheq5",
        "outputId": "64825dc0-c567-4751-fbd5-5ccef7864a57"
      },
      "execution_count": null,
      "outputs": [
        {
          "output_type": "stream",
          "name": "stdout",
          "text": [
            "[('John', 'Smith', 99.0, 95.5, 97.25, None), ('Michael', 'Jordan', 50.0, 65.0, 57.5, None)]\n"
          ]
        }
      ]
    },
    {
      "cell_type": "code",
      "source": [
        "# Confirmar cambios y cerrar conexión\n",
        "conn.commit()\n",
        "conn.close()"
      ],
      "metadata": {
        "id": "0Gb4np-RhexU"
      },
      "execution_count": null,
      "outputs": []
    },
    {
      "cell_type": "markdown",
      "source": [
        "## Vulnerabilidad de inyección SQL\n",
        "- Cómo no escribir consultas sql en programas"
      ],
      "metadata": {
        "id": "LjOEsqU5h08L"
      }
    },
    {
      "cell_type": "code",
      "source": [
        "import sqlite3\n",
        "conn = sqlite3.connect('example.db')\n",
        "cur = conn.cursor()\n",
        "\n",
        "cur.execute(\"\"\"CREATE TABLE IF NOT EXISTS users (username text unique, password text)\"\"\")"
      ],
      "metadata": {
        "colab": {
          "base_uri": "https://localhost:8080/"
        },
        "id": "ic3T_8uZh1XA",
        "outputId": "9b29e074-3b51-4b32-c30d-d90bd5ecc5bf"
      },
      "execution_count": null,
      "outputs": [
        {
          "output_type": "execute_result",
          "data": {
            "text/plain": [
              "<sqlite3.Cursor at 0x7d68b63c4b40>"
            ]
          },
          "metadata": {},
          "execution_count": 18
        }
      ]
    },
    {
      "cell_type": "code",
      "source": [
        "# Solicitar al usuario que cree una cuenta\n",
        "username = input('Enter your username: ')\n",
        "password = input('Pick a password: ')"
      ],
      "metadata": {
        "colab": {
          "base_uri": "https://localhost:8080/"
        },
        "id": "YSbl-9Igh1hc",
        "outputId": "b82ec1d6-42b7-4a86-f3e8-f2f2a0db2c5e"
      },
      "execution_count": null,
      "outputs": [
        {
          "name": "stdout",
          "output_type": "stream",
          "text": [
            "Enter your username: Sulivart\n",
            "Pick a password: S2a9u0l7\n"
          ]
        }
      ]
    },
    {
      "cell_type": "code",
      "source": [
        "# Malas contraseñas\n",
        "# Forma insegura de crear sentencias SQL\n",
        "sqlinsert = \"insert into users (username, password) values ('{0}', '{1}')\".format(username, password)\n",
        "print(sqlinsert)\n",
        "cur.execute(sqlinsert)"
      ],
      "metadata": {
        "colab": {
          "base_uri": "https://localhost:8080/"
        },
        "id": "MXPQvitch1q8",
        "outputId": "1ed9e05f-c9da-4c07-9677-ec40c38b2976"
      },
      "execution_count": null,
      "outputs": [
        {
          "output_type": "stream",
          "name": "stdout",
          "text": [
            "insert into users (username, password) values ('Sulivart', 'S2a9u0l7')\n"
          ]
        },
        {
          "output_type": "execute_result",
          "data": {
            "text/plain": [
              "<sqlite3.Cursor at 0x7d68b63c4b40>"
            ]
          },
          "metadata": {},
          "execution_count": 20
        }
      ]
    },
    {
      "cell_type": "code",
      "source": [
        "# Comprobar la base de datos\n",
        "conn.commit()\n",
        "for row in cur.execute('select * from users'):\n",
        "    print(row)"
      ],
      "metadata": {
        "colab": {
          "base_uri": "https://localhost:8080/"
        },
        "id": "sYKl_0Ujh10M",
        "outputId": "3ee56235-134f-4820-c221-34615144635b"
      },
      "execution_count": null,
      "outputs": [
        {
          "output_type": "stream",
          "name": "stdout",
          "text": [
            "('Sulivart', 'S2a9u0l7')\n"
          ]
        }
      ]
    },
    {
      "cell_type": "markdown",
      "source": [
        "### ¿Qué hay de malo en los códigos anteriores?\n",
        "### Autenticación de usuarios y ataque de inyección SQL"
      ],
      "metadata": {
        "id": "a4d30HXLiiUC"
      }
    },
    {
      "cell_type": "code",
      "source": [
        "# Solicitar al usuario que cree una cuenta\n",
        "def insecureAuthentication():\n",
        "    username = input('Enter your username: ')\n",
        "    password = input('Pick a password: ')\n",
        "    sqlSelect = \"select * from users where username = '{0}' \\\n",
        "                    and password = '{1}'\".format(username, password)\n",
        "    cur.execute(sqlSelect)\n",
        "    row = cur.fetchone()\n",
        "    if row:\n",
        "        print('Welcome {}, this is your kingdom!'.format(row[0]))\n",
        "    else:\n",
        "        print('Wrong credentials. Try Again!')"
      ],
      "metadata": {
        "id": "TrFfUzDQhe4J"
      },
      "execution_count": null,
      "outputs": []
    },
    {
      "cell_type": "code",
      "source": [
        "insecureAuthentication()"
      ],
      "metadata": {
        "colab": {
          "base_uri": "https://localhost:8080/"
        },
        "id": "ZF6ugAJtiizU",
        "outputId": "3931e41d-c751-4c38-90ef-1390a96eec50"
      },
      "execution_count": null,
      "outputs": [
        {
          "output_type": "stream",
          "name": "stdout",
          "text": [
            "Enter your username: Ody\n",
            "Pick a password: 26072023\n",
            "Wrong credentials. Try Again!\n"
          ]
        }
      ]
    },
    {
      "cell_type": "code",
      "source": [
        "# Inyección SQL: autenticación sin usar contraseña\n",
        "insecureAuthentication()"
      ],
      "metadata": {
        "colab": {
          "base_uri": "https://localhost:8080/"
        },
        "id": "vShoG5cNii5b",
        "outputId": "9d6f304c-24f6-4280-c6f4-d676547c9245"
      },
      "execution_count": null,
      "outputs": [
        {
          "output_type": "stream",
          "name": "stdout",
          "text": [
            "Enter your username: Oda\n",
            "Pick a password: 20230726\n",
            "Wrong credentials. Try Again!\n"
          ]
        }
      ]
    },
    {
      "cell_type": "markdown",
      "source": [
        "## Forma segura de almacenar la contraseña\n",
        "- https://docs.python.org/3/library/hashlib.html"
      ],
      "metadata": {
        "id": "uI-PFmUvjKUh"
      }
    },
    {
      "cell_type": "code",
      "source": [
        "import uuid\n",
        "import hashlib, binascii\n",
        "\n",
        "def createSecurePassword(password, salt=None, round=100000):\n",
        "    if not salt:\n",
        "        salt = uuid.uuid4().hex\n",
        "\n",
        "    \"\"\"\n",
        "    for i in range(round):\n",
        "        password = password+salt\n",
        "        password = hashlib.sha256(password.encode('utf-8')).hexdigest()\n",
        "    \"\"\"\n",
        "    # hashlib.pbkdf2_hmac(hash_name, password, salt, iterations, dklen=None)\n",
        "    dk = hashlib.pbkdf2_hmac('sha256', password.encode('utf-8'), salt.encode('utf-8'), round)\n",
        "    password = binascii.hexlify(dk)\n",
        "    return \"%s:%s\"%(password, salt)"
      ],
      "metadata": {
        "id": "DOFjdo5jijAL"
      },
      "execution_count": null,
      "outputs": []
    },
    {
      "cell_type": "code",
      "source": [
        "def secureRegistration():\n",
        "    # Solicitar al usuario que cree una cuenta\n",
        "    username = input('Enter your username: ')\n",
        "    password = input('Enter your password: ')\n",
        "    secPass = createSecurePassword(password)\n",
        "    insert = 'insert into users (username, password) values (?, ?)'\n",
        "    cur.execute(insert, (username, secPass))"
      ],
      "metadata": {
        "id": "7XTx32XBijF7"
      },
      "execution_count": null,
      "outputs": []
    },
    {
      "cell_type": "code",
      "source": [
        "# Registrar un usuario\n",
        "secureRegistration()"
      ],
      "metadata": {
        "colab": {
          "base_uri": "https://localhost:8080/"
        },
        "id": "uHhT0KPzijLi",
        "outputId": "d239a192-2d15-4ad2-9902-175975da762b"
      },
      "execution_count": null,
      "outputs": [
        {
          "name": "stdout",
          "output_type": "stream",
          "text": [
            "Enter your username: Coquetin\n",
            "Enter your password: 29072003\n"
          ]
        }
      ]
    },
    {
      "cell_type": "code",
      "source": [
        "# Comprobar datos\n",
        "for row in cur.execute('select * from users'):\n",
        "    print(row)"
      ],
      "metadata": {
        "colab": {
          "base_uri": "https://localhost:8080/"
        },
        "id": "UoHzbVYMjR6C",
        "outputId": "a7c56dfc-4828-45c5-d548-9abb414a1bb3"
      },
      "execution_count": null,
      "outputs": [
        {
          "output_type": "stream",
          "name": "stdout",
          "text": [
            "('Sulivart', 'S2a9u0l7')\n",
            "('Coquetin', \"b'd15ce209705ef3e5ed9ffa89cd13bec377b7e1f2118e2af0c26be320faa3e5c7':267868e445f448ee98df67cd7e9c3a8c\")\n"
          ]
        }
      ]
    },
    {
      "cell_type": "code",
      "source": [
        "conn.commit()"
      ],
      "metadata": {
        "id": "ovhd8Nk5jSA5"
      },
      "execution_count": null,
      "outputs": []
    },
    {
      "cell_type": "code",
      "source": [
        "def secureAuthentication():\n",
        "    username = input('Enter your username: ')\n",
        "    password = input('Enter your password: ')\n",
        "    # use parameterized query\n",
        "    sqlSelect = 'select password from users where username = ?'\n",
        "    cur.execute(sqlSelect, (username,))\n",
        "    row = cur.fetchone()\n",
        "    if row:\n",
        "        # username exists\n",
        "        # check password hashes\n",
        "        hashpass = row[0]\n",
        "        hashedPass = hashpass[:hashpass.find(':')]\n",
        "        salt = hashpass[hashpass.find(':')+1:]\n",
        "        secPass = createSecurePassword(password, salt)\n",
        "        if hashpass == secPass:\n",
        "            print('Welcome to your kingdom, {}'.format(username))\n",
        "        else:\n",
        "            print('Wrong credentials. Try Again!')\n",
        "    else:\n",
        "        print('Wrong credentials. Try Again!')"
      ],
      "metadata": {
        "id": "Hxq2IS6FjSIY"
      },
      "execution_count": null,
      "outputs": []
    },
    {
      "cell_type": "code",
      "source": [
        "secureAuthentication()"
      ],
      "metadata": {
        "colab": {
          "base_uri": "https://localhost:8080/"
        },
        "id": "q659fWGbjSPL",
        "outputId": "ecbe05ea-19ab-46db-a099-1352c004b047"
      },
      "execution_count": null,
      "outputs": [
        {
          "output_type": "stream",
          "name": "stdout",
          "text": [
            "Enter your username: MiPechocha\n",
            "Enter your password: 29112001\n",
            "Wrong credentials. Try Again!\n"
          ]
        }
      ]
    },
    {
      "cell_type": "code",
      "source": [
        "# Intente la misma inyección de SQL\n",
        "secureAuthentication()"
      ],
      "metadata": {
        "colab": {
          "base_uri": "https://localhost:8080/"
        },
        "id": "oCm_-BqFjSVJ",
        "outputId": "9e5591f9-bfcb-4932-c785-9d82b20aed31"
      },
      "execution_count": null,
      "outputs": [
        {
          "output_type": "stream",
          "name": "stdout",
          "text": [
            "Enter your username: MiPechocha\n",
            "Enter your password: 29112001\n",
            "Wrong credentials. Try Again!\n"
          ]
        }
      ]
    },
    {
      "cell_type": "code",
      "source": [
        "conn.commit()\n",
        "conn.close()"
      ],
      "metadata": {
        "id": "7WYWnIowjoLc"
      },
      "execution_count": null,
      "outputs": []
    }
  ]
}