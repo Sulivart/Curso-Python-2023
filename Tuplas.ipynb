{
  "nbformat": 4,
  "nbformat_minor": 0,
  "metadata": {
    "colab": {
      "provenance": [],
      "authorship_tag": "ABX9TyPdDZQQ94TZC0QRib5/R4Vu",
      "include_colab_link": true
    },
    "kernelspec": {
      "name": "python3",
      "display_name": "Python 3"
    },
    "language_info": {
      "name": "python"
    }
  },
  "cells": [
    {
      "cell_type": "markdown",
      "metadata": {
        "id": "view-in-github",
        "colab_type": "text"
      },
      "source": [
        "<a href=\"https://colab.research.google.com/github/Sulivart/Curso-Python-2023/blob/main/Tuplas.ipynb\" target=\"_parent\"><img src=\"https://colab.research.google.com/assets/colab-badge.svg\" alt=\"Open In Colab\"/></a>"
      ]
    },
    {
      "cell_type": "markdown",
      "source": [
        "#Tuplas\n",
        "- Nos pueden servir para almacenar valores\n",
        "- Se crean utilizando paréntesis ()\n",
        "- Al igual que los str con objetos inmutables\n",
        "- Puede contener diferentes tipos de datos (heterogéneos)"
      ],
      "metadata": {
        "id": "F1SAKgZ-deSY"
      }
    },
    {
      "cell_type": "code",
      "execution_count": null,
      "metadata": {
        "colab": {
          "base_uri": "https://localhost:8080/"
        },
        "id": "k1lu89r0dUkr",
        "outputId": "f26a2b81-aee2-4b0e-b28c-51dcbfdd59d4"
      },
      "outputs": [
        {
          "output_type": "execute_result",
          "data": {
            "text/plain": [
              "tuple"
            ]
          },
          "metadata": {},
          "execution_count": 4
        }
      ],
      "source": [
        "mi_primer_tupla = ('México', 'CDMX')\n",
        "mi_primer_tupla\n",
        "type(mi_primer_tupla)"
      ]
    },
    {
      "cell_type": "code",
      "source": [
        "mi_segunda_tupla = ('Saúl', 19)\n",
        "mi_segunda_tupla"
      ],
      "metadata": {
        "colab": {
          "base_uri": "https://localhost:8080/"
        },
        "id": "zclhim5LeeUL",
        "outputId": "879e624e-7ad9-46f6-a396-24e8e0db25bb"
      },
      "execution_count": null,
      "outputs": [
        {
          "output_type": "execute_result",
          "data": {
            "text/plain": [
              "('Saúl', 19)"
            ]
          },
          "metadata": {},
          "execution_count": 5
        }
      ]
    },
    {
      "cell_type": "markdown",
      "source": [
        "#Unpacking"
      ],
      "metadata": {
        "id": "9wwik7ywGLJt"
      }
    },
    {
      "cell_type": "code",
      "source": [
        "def area_perimetro(altura, base):\n",
        "  #calculos\n",
        "  return (perimetro, area)"
      ],
      "metadata": {
        "id": "lo88VFZCe1_T"
      },
      "execution_count": null,
      "outputs": []
    },
    {
      "cell_type": "code",
      "source": [
        "(16, 28)"
      ],
      "metadata": {
        "colab": {
          "base_uri": "https://localhost:8080/"
        },
        "id": "E1GRtcsRfBsd",
        "outputId": "c94cb8f2-98b4-4ba1-ebc7-f77b68f32198"
      },
      "execution_count": null,
      "outputs": [
        {
          "output_type": "execute_result",
          "data": {
            "text/plain": [
              "(16, 28)"
            ]
          },
          "metadata": {},
          "execution_count": 7
        }
      ]
    },
    {
      "cell_type": "code",
      "source": [
        "resultados = (16, 28)"
      ],
      "metadata": {
        "id": "bDdFM89gfDze"
      },
      "execution_count": null,
      "outputs": []
    },
    {
      "cell_type": "code",
      "source": [
        "perimetro, area = resultados"
      ],
      "metadata": {
        "id": "BdLRmI5vfHVN"
      },
      "execution_count": null,
      "outputs": []
    },
    {
      "cell_type": "code",
      "source": [
        "perimetro"
      ],
      "metadata": {
        "colab": {
          "base_uri": "https://localhost:8080/"
        },
        "id": "tHQxakX8fKmu",
        "outputId": "2d1c617d-8802-4a96-c42f-4e8112d5547d"
      },
      "execution_count": null,
      "outputs": [
        {
          "output_type": "execute_result",
          "data": {
            "text/plain": [
              "16"
            ]
          },
          "metadata": {},
          "execution_count": 10
        }
      ]
    },
    {
      "cell_type": "code",
      "source": [
        "area"
      ],
      "metadata": {
        "colab": {
          "base_uri": "https://localhost:8080/"
        },
        "id": "CtdTCg9ifMOO",
        "outputId": "d8534ec0-b3c5-4444-d7c2-26c502eab1f2"
      },
      "execution_count": null,
      "outputs": [
        {
          "output_type": "execute_result",
          "data": {
            "text/plain": [
              "28"
            ]
          },
          "metadata": {},
          "execution_count": 11
        }
      ]
    },
    {
      "cell_type": "markdown",
      "source": [
        "#Accediendo a los elementos"
      ],
      "metadata": {
        "id": "VX3FJzJjGXEc"
      }
    },
    {
      "cell_type": "code",
      "source": [
        "resultados[0]"
      ],
      "metadata": {
        "colab": {
          "base_uri": "https://localhost:8080/"
        },
        "id": "lyCkqc2NfM-X",
        "outputId": "dfd1bbc7-62bf-4774-846a-5dff499f8deb"
      },
      "execution_count": null,
      "outputs": [
        {
          "output_type": "execute_result",
          "data": {
            "text/plain": [
              "16"
            ]
          },
          "metadata": {},
          "execution_count": 12
        }
      ]
    },
    {
      "cell_type": "code",
      "source": [
        "resultados[1]"
      ],
      "metadata": {
        "colab": {
          "base_uri": "https://localhost:8080/"
        },
        "id": "5WYVVCq1fYNg",
        "outputId": "f88a72a3-c520-4331-d090-192ad0dc8211"
      },
      "execution_count": null,
      "outputs": [
        {
          "output_type": "execute_result",
          "data": {
            "text/plain": [
              "28"
            ]
          },
          "metadata": {},
          "execution_count": 13
        }
      ]
    },
    {
      "cell_type": "markdown",
      "source": [
        "#Operadores in, not in"
      ],
      "metadata": {
        "id": "zYtz-pm9GkOl"
      }
    },
    {
      "cell_type": "code",
      "source": [
        "'Saúl' in mi_segunda_tupla"
      ],
      "metadata": {
        "colab": {
          "base_uri": "https://localhost:8080/"
        },
        "id": "b-UXKt8afag4",
        "outputId": "6b14d190-3d5e-4fc8-a428-fbebb7ffd85a"
      },
      "execution_count": null,
      "outputs": [
        {
          "output_type": "execute_result",
          "data": {
            "text/plain": [
              "True"
            ]
          },
          "metadata": {},
          "execution_count": 14
        }
      ]
    },
    {
      "cell_type": "code",
      "source": [
        "'Andrea' in mi_segunda_tupla"
      ],
      "metadata": {
        "colab": {
          "base_uri": "https://localhost:8080/"
        },
        "id": "nqnSvPXwfmoy",
        "outputId": "f479d9ca-fbfc-4470-8ecf-06fbf6107e5e"
      },
      "execution_count": null,
      "outputs": [
        {
          "output_type": "execute_result",
          "data": {
            "text/plain": [
              "False"
            ]
          },
          "metadata": {},
          "execution_count": 15
        }
      ]
    },
    {
      "cell_type": "markdown",
      "source": [
        "#Inmutabilidad"
      ],
      "metadata": {
        "id": "2_0fDoX1Gtau"
      }
    },
    {
      "cell_type": "code",
      "source": [
        "mi_tercer_tupla = {1,2,3}\n",
        "mi_tercer_tupla[0] = 4"
      ],
      "metadata": {
        "colab": {
          "base_uri": "https://localhost:8080/",
          "height": 182
        },
        "id": "puiG6wAYfrpb",
        "outputId": "522a1a9a-0b4e-4cb1-8d4c-6c405a117bc1"
      },
      "execution_count": null,
      "outputs": [
        {
          "output_type": "error",
          "ename": "TypeError",
          "evalue": "ignored",
          "traceback": [
            "\u001b[0;31m---------------------------------------------------------------------------\u001b[0m",
            "\u001b[0;31mTypeError\u001b[0m                                 Traceback (most recent call last)",
            "\u001b[0;32m<ipython-input-16-4b1b7fda5465>\u001b[0m in \u001b[0;36m<cell line: 2>\u001b[0;34m()\u001b[0m\n\u001b[1;32m      1\u001b[0m \u001b[0mmi_tercer_tupla\u001b[0m \u001b[0;34m=\u001b[0m \u001b[0;34m{\u001b[0m\u001b[0;36m1\u001b[0m\u001b[0;34m,\u001b[0m\u001b[0;36m2\u001b[0m\u001b[0;34m,\u001b[0m\u001b[0;36m3\u001b[0m\u001b[0;34m}\u001b[0m\u001b[0;34m\u001b[0m\u001b[0;34m\u001b[0m\u001b[0m\n\u001b[0;32m----> 2\u001b[0;31m \u001b[0mmi_tercer_tupla\u001b[0m\u001b[0;34m[\u001b[0m\u001b[0;36m0\u001b[0m\u001b[0;34m]\u001b[0m \u001b[0;34m=\u001b[0m \u001b[0;36m4\u001b[0m\u001b[0;34m\u001b[0m\u001b[0;34m\u001b[0m\u001b[0m\n\u001b[0m",
            "\u001b[0;31mTypeError\u001b[0m: 'set' object does not support item assignment"
          ]
        }
      ]
    },
    {
      "cell_type": "code",
      "source": [
        "len(mi_tercer_tupla)"
      ],
      "metadata": {
        "colab": {
          "base_uri": "https://localhost:8080/"
        },
        "id": "N_vlyLWTgQxQ",
        "outputId": "b8e43baf-3c03-4e0e-ac34-179513fe048c"
      },
      "execution_count": null,
      "outputs": [
        {
          "output_type": "execute_result",
          "data": {
            "text/plain": [
              "3"
            ]
          },
          "metadata": {},
          "execution_count": 17
        }
      ]
    },
    {
      "cell_type": "code",
      "source": [
        "len('Hola mundo')"
      ],
      "metadata": {
        "colab": {
          "base_uri": "https://localhost:8080/"
        },
        "id": "mx_8HqyNgVvQ",
        "outputId": "6f1613f2-2bed-4c14-b1d3-1e4548fba1fc"
      },
      "execution_count": null,
      "outputs": [
        {
          "output_type": "execute_result",
          "data": {
            "text/plain": [
              "10"
            ]
          },
          "metadata": {},
          "execution_count": 18
        }
      ]
    },
    {
      "cell_type": "markdown",
      "source": [
        "#Aplicación de tuplas"
      ],
      "metadata": {
        "id": "fnjBUpqZG_fA"
      }
    },
    {
      "cell_type": "code",
      "source": [
        "def calculate_square_properties(side_lengh):\n",
        "  \"\"\"Calculates the area and perimeter of a square\"\"\"\n",
        "  area = side_lengh**2\n",
        "  perimetro = side_lengh*4\n",
        "  return (area, perimetro)"
      ],
      "metadata": {
        "id": "Uj8JONAdHCrx"
      },
      "execution_count": null,
      "outputs": []
    },
    {
      "cell_type": "code",
      "source": [
        "side = 5.0\n",
        "results = calculate_square_properties(side)"
      ],
      "metadata": {
        "id": "h8C4czbCHuAb"
      },
      "execution_count": null,
      "outputs": []
    },
    {
      "cell_type": "code",
      "source": [
        "results"
      ],
      "metadata": {
        "colab": {
          "base_uri": "https://localhost:8080/"
        },
        "id": "wOLwezMtICke",
        "outputId": "a2da1cb4-037f-486b-fd84-2ec1dfecf104"
      },
      "execution_count": null,
      "outputs": [
        {
          "output_type": "execute_result",
          "data": {
            "text/plain": [
              "(25.0, 20.0)"
            ]
          },
          "metadata": {},
          "execution_count": 4
        }
      ]
    },
    {
      "cell_type": "code",
      "source": [
        "type(results)"
      ],
      "metadata": {
        "colab": {
          "base_uri": "https://localhost:8080/"
        },
        "id": "Lt6RIo5iIEGi",
        "outputId": "57745089-47e9-4183-859e-8f3aba619a60"
      },
      "execution_count": null,
      "outputs": [
        {
          "output_type": "execute_result",
          "data": {
            "text/plain": [
              "tuple"
            ]
          },
          "metadata": {},
          "execution_count": 5
        }
      ]
    },
    {
      "cell_type": "code",
      "source": [
        "# area, perimeter = calculate_square_properties(side)\n",
        "area, perimetro = results"
      ],
      "metadata": {
        "id": "_puJktxGIGmT"
      },
      "execution_count": null,
      "outputs": []
    },
    {
      "cell_type": "code",
      "source": [
        "area"
      ],
      "metadata": {
        "colab": {
          "base_uri": "https://localhost:8080/"
        },
        "id": "OIISem3IIRNV",
        "outputId": "ccddd626-3810-4c14-a544-8f6a1f6dc35a"
      },
      "execution_count": null,
      "outputs": [
        {
          "output_type": "execute_result",
          "data": {
            "text/plain": [
              "25.0"
            ]
          },
          "metadata": {},
          "execution_count": 7
        }
      ]
    },
    {
      "cell_type": "code",
      "source": [
        "perimetro"
      ],
      "metadata": {
        "colab": {
          "base_uri": "https://localhost:8080/"
        },
        "id": "mW6qjRExISLE",
        "outputId": "2bd24875-678c-4536-a5cf-839c73293b38"
      },
      "execution_count": null,
      "outputs": [
        {
          "output_type": "execute_result",
          "data": {
            "text/plain": [
              "20.0"
            ]
          },
          "metadata": {},
          "execution_count": 8
        }
      ]
    },
    {
      "cell_type": "markdown",
      "source": [
        "# Ventajas\n",
        "- Es más rápido iterar sobre una trupla que sobre una lista\n",
        "- Se recomienda para datos no modificables para evitar errrores durante el procesamiento de datos"
      ],
      "metadata": {
        "id": "yvnvLHEkIVJe"
      }
    },
    {
      "cell_type": "code",
      "source": [
        "# Tuple iteration\n",
        "def iterate_tuple():\n",
        "  my_tuple = (1,2,3,4,5)\n",
        "  for item in my_tuple:\n",
        "    # print(item)\n",
        "    pass\n",
        "\n",
        "# List iteration\n",
        "def iterate_list():\n",
        "  my_list = [1,2,3,4,5]\n",
        "  for item in my_list:\n",
        "    # print(item)\n",
        "    pass"
      ],
      "metadata": {
        "id": "kM7rdybcITfF"
      },
      "execution_count": null,
      "outputs": []
    },
    {
      "cell_type": "code",
      "source": [
        "import timeit\n",
        "\n",
        "# Probar el tiempo de ejecución para las tuplas"
      ],
      "metadata": {
        "id": "_ZGAMh15Io2t"
      },
      "execution_count": null,
      "outputs": []
    }
  ]
}