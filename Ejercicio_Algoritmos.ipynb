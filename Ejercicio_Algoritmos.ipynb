{
  "nbformat": 4,
  "nbformat_minor": 0,
  "metadata": {
    "colab": {
      "provenance": [],
      "authorship_tag": "ABX9TyNJNOWOx4R996d/izpIIZDK",
      "include_colab_link": true
    },
    "kernelspec": {
      "name": "python3",
      "display_name": "Python 3"
    },
    "language_info": {
      "name": "python"
    }
  },
  "cells": [
    {
      "cell_type": "markdown",
      "metadata": {
        "id": "view-in-github",
        "colab_type": "text"
      },
      "source": [
        "<a href=\"https://colab.research.google.com/github/Sulivart/Curso-Python-2023/blob/main/Ejercicio_Algoritmos.ipynb\" target=\"_parent\"><img src=\"https://colab.research.google.com/assets/colab-badge.svg\" alt=\"Open In Colab\"/></a>"
      ]
    },
    {
      "cell_type": "markdown",
      "source": [
        "# Perimetro y área de un circulo"
      ],
      "metadata": {
        "id": "NvHitoqdFM6s"
      }
    },
    {
      "cell_type": "code",
      "source": [
        "radio = float(input('Introduzca el valor del radio = '))\n",
        "area = (3.14159)*(radio**2)\n",
        "circunferencia = 2*(3.14159)*radio\n",
        "print(\"Con un radio =\", radio, \"este circulo tiene una circunferencia =\", circunferencia, \"y una area =\", area)"
      ],
      "metadata": {
        "colab": {
          "base_uri": "https://localhost:8080/"
        },
        "id": "UjCjMEfuFNr9",
        "outputId": "a89809ea-993f-4571-ecb7-b6d079f564e0"
      },
      "execution_count": null,
      "outputs": [
        {
          "output_type": "stream",
          "name": "stdout",
          "text": [
            "Introduzca el valor del radio = 5\n",
            "Con un radio = 5.0 este circulo tiene una circunferencia = 31.4159 y una area = 78.53975\n"
          ]
        }
      ]
    },
    {
      "cell_type": "markdown",
      "source": [
        "# Multiplos de 3 y 5"
      ],
      "metadata": {
        "id": "M9pKFg1I6cyM"
      }
    },
    {
      "cell_type": "code",
      "source": [
        "mul_3_5 = []\n",
        "for i in range(1001):\n",
        "    if i % 3 == 0 or i % 5 == 0:\n",
        "      mul_3_5.append(i)"
      ],
      "metadata": {
        "id": "1M1rQEM-foFC"
      },
      "execution_count": null,
      "outputs": []
    },
    {
      "cell_type": "code",
      "source": [
        "sum_3_5 = sum(mul_3_5)"
      ],
      "metadata": {
        "id": "L3sMJNAZgAbk"
      },
      "execution_count": null,
      "outputs": []
    },
    {
      "cell_type": "code",
      "source": [
        "print(mul_3_5)"
      ],
      "metadata": {
        "colab": {
          "base_uri": "https://localhost:8080/"
        },
        "id": "A8HSUHpBf3YU",
        "outputId": "c7766bd8-b9ea-4262-e316-2d9f802287a0"
      },
      "execution_count": null,
      "outputs": [
        {
          "output_type": "stream",
          "name": "stdout",
          "text": [
            "[0, 3, 5, 6, 9, 10, 12, 15, 18, 20, 21, 24, 25, 27, 30, 33, 35, 36, 39, 40, 42, 45, 48, 50, 51, 54, 55, 57, 60, 63, 65, 66, 69, 70, 72, 75, 78, 80, 81, 84, 85, 87, 90, 93, 95, 96, 99, 100, 102, 105, 108, 110, 111, 114, 115, 117, 120, 123, 125, 126, 129, 130, 132, 135, 138, 140, 141, 144, 145, 147, 150, 153, 155, 156, 159, 160, 162, 165, 168, 170, 171, 174, 175, 177, 180, 183, 185, 186, 189, 190, 192, 195, 198, 200, 201, 204, 205, 207, 210, 213, 215, 216, 219, 220, 222, 225, 228, 230, 231, 234, 235, 237, 240, 243, 245, 246, 249, 250, 252, 255, 258, 260, 261, 264, 265, 267, 270, 273, 275, 276, 279, 280, 282, 285, 288, 290, 291, 294, 295, 297, 300, 303, 305, 306, 309, 310, 312, 315, 318, 320, 321, 324, 325, 327, 330, 333, 335, 336, 339, 340, 342, 345, 348, 350, 351, 354, 355, 357, 360, 363, 365, 366, 369, 370, 372, 375, 378, 380, 381, 384, 385, 387, 390, 393, 395, 396, 399, 400, 402, 405, 408, 410, 411, 414, 415, 417, 420, 423, 425, 426, 429, 430, 432, 435, 438, 440, 441, 444, 445, 447, 450, 453, 455, 456, 459, 460, 462, 465, 468, 470, 471, 474, 475, 477, 480, 483, 485, 486, 489, 490, 492, 495, 498, 500, 501, 504, 505, 507, 510, 513, 515, 516, 519, 520, 522, 525, 528, 530, 531, 534, 535, 537, 540, 543, 545, 546, 549, 550, 552, 555, 558, 560, 561, 564, 565, 567, 570, 573, 575, 576, 579, 580, 582, 585, 588, 590, 591, 594, 595, 597, 600, 603, 605, 606, 609, 610, 612, 615, 618, 620, 621, 624, 625, 627, 630, 633, 635, 636, 639, 640, 642, 645, 648, 650, 651, 654, 655, 657, 660, 663, 665, 666, 669, 670, 672, 675, 678, 680, 681, 684, 685, 687, 690, 693, 695, 696, 699, 700, 702, 705, 708, 710, 711, 714, 715, 717, 720, 723, 725, 726, 729, 730, 732, 735, 738, 740, 741, 744, 745, 747, 750, 753, 755, 756, 759, 760, 762, 765, 768, 770, 771, 774, 775, 777, 780, 783, 785, 786, 789, 790, 792, 795, 798, 800, 801, 804, 805, 807, 810, 813, 815, 816, 819, 820, 822, 825, 828, 830, 831, 834, 835, 837, 840, 843, 845, 846, 849, 850, 852, 855, 858, 860, 861, 864, 865, 867, 870, 873, 875, 876, 879, 880, 882, 885, 888, 890, 891, 894, 895, 897, 900, 903, 905, 906, 909, 910, 912, 915, 918, 920, 921, 924, 925, 927, 930, 933, 935, 936, 939, 940, 942, 945, 948, 950, 951, 954, 955, 957, 960, 963, 965, 966, 969, 970, 972, 975, 978, 980, 981, 984, 985, 987, 990, 993, 995, 996, 999, 1000]\n"
          ]
        }
      ]
    },
    {
      "cell_type": "code",
      "source": [
        "print(sum_3_5)"
      ],
      "metadata": {
        "colab": {
          "base_uri": "https://localhost:8080/"
        },
        "id": "Nj07DPp_f4Dk",
        "outputId": "3eb96a8f-4c79-46b3-b4f6-0c855c346202"
      },
      "execution_count": null,
      "outputs": [
        {
          "output_type": "stream",
          "name": "stdout",
          "text": [
            "234168\n"
          ]
        }
      ]
    },
    {
      "cell_type": "code",
      "source": [
        "mul_3_5 = [i for i in range (1001) if i%3 == 0 or i%5 == 0]"
      ],
      "metadata": {
        "id": "yqUHk8-W-Ymn"
      },
      "execution_count": null,
      "outputs": []
    },
    {
      "cell_type": "code",
      "source": [
        "sum_3_5 = sum(mul_3_5)"
      ],
      "metadata": {
        "id": "VwKgv5A7-cqW"
      },
      "execution_count": null,
      "outputs": []
    },
    {
      "cell_type": "code",
      "source": [
        "print(mul_3_5)"
      ],
      "metadata": {
        "colab": {
          "base_uri": "https://localhost:8080/"
        },
        "id": "vhryGGQv-n7p",
        "outputId": "d4ea192d-c942-417c-9611-dde2c1dfc9f9"
      },
      "execution_count": null,
      "outputs": [
        {
          "output_type": "stream",
          "name": "stdout",
          "text": [
            "[0, 3, 5, 6, 9, 10, 12, 15, 18, 20, 21, 24, 25, 27, 30, 33, 35, 36, 39, 40, 42, 45, 48, 50, 51, 54, 55, 57, 60, 63, 65, 66, 69, 70, 72, 75, 78, 80, 81, 84, 85, 87, 90, 93, 95, 96, 99, 100, 102, 105, 108, 110, 111, 114, 115, 117, 120, 123, 125, 126, 129, 130, 132, 135, 138, 140, 141, 144, 145, 147, 150, 153, 155, 156, 159, 160, 162, 165, 168, 170, 171, 174, 175, 177, 180, 183, 185, 186, 189, 190, 192, 195, 198, 200, 201, 204, 205, 207, 210, 213, 215, 216, 219, 220, 222, 225, 228, 230, 231, 234, 235, 237, 240, 243, 245, 246, 249, 250, 252, 255, 258, 260, 261, 264, 265, 267, 270, 273, 275, 276, 279, 280, 282, 285, 288, 290, 291, 294, 295, 297, 300, 303, 305, 306, 309, 310, 312, 315, 318, 320, 321, 324, 325, 327, 330, 333, 335, 336, 339, 340, 342, 345, 348, 350, 351, 354, 355, 357, 360, 363, 365, 366, 369, 370, 372, 375, 378, 380, 381, 384, 385, 387, 390, 393, 395, 396, 399, 400, 402, 405, 408, 410, 411, 414, 415, 417, 420, 423, 425, 426, 429, 430, 432, 435, 438, 440, 441, 444, 445, 447, 450, 453, 455, 456, 459, 460, 462, 465, 468, 470, 471, 474, 475, 477, 480, 483, 485, 486, 489, 490, 492, 495, 498, 500, 501, 504, 505, 507, 510, 513, 515, 516, 519, 520, 522, 525, 528, 530, 531, 534, 535, 537, 540, 543, 545, 546, 549, 550, 552, 555, 558, 560, 561, 564, 565, 567, 570, 573, 575, 576, 579, 580, 582, 585, 588, 590, 591, 594, 595, 597, 600, 603, 605, 606, 609, 610, 612, 615, 618, 620, 621, 624, 625, 627, 630, 633, 635, 636, 639, 640, 642, 645, 648, 650, 651, 654, 655, 657, 660, 663, 665, 666, 669, 670, 672, 675, 678, 680, 681, 684, 685, 687, 690, 693, 695, 696, 699, 700, 702, 705, 708, 710, 711, 714, 715, 717, 720, 723, 725, 726, 729, 730, 732, 735, 738, 740, 741, 744, 745, 747, 750, 753, 755, 756, 759, 760, 762, 765, 768, 770, 771, 774, 775, 777, 780, 783, 785, 786, 789, 790, 792, 795, 798, 800, 801, 804, 805, 807, 810, 813, 815, 816, 819, 820, 822, 825, 828, 830, 831, 834, 835, 837, 840, 843, 845, 846, 849, 850, 852, 855, 858, 860, 861, 864, 865, 867, 870, 873, 875, 876, 879, 880, 882, 885, 888, 890, 891, 894, 895, 897, 900, 903, 905, 906, 909, 910, 912, 915, 918, 920, 921, 924, 925, 927, 930, 933, 935, 936, 939, 940, 942, 945, 948, 950, 951, 954, 955, 957, 960, 963, 965, 966, 969, 970, 972, 975, 978, 980, 981, 984, 985, 987, 990, 993, 995, 996, 999, 1000]\n"
          ]
        }
      ]
    },
    {
      "cell_type": "code",
      "source": [
        "print(sum_3_5)"
      ],
      "metadata": {
        "colab": {
          "base_uri": "https://localhost:8080/"
        },
        "id": "-Z9c1ml3-puv",
        "outputId": "169fd081-6d28-4e65-c61b-a6a94375d227"
      },
      "execution_count": null,
      "outputs": [
        {
          "output_type": "stream",
          "name": "stdout",
          "text": [
            "234168\n"
          ]
        }
      ]
    },
    {
      "cell_type": "markdown",
      "source": [
        "# Números pares Fibonacci"
      ],
      "metadata": {
        "id": "SZQktf_f_8Rn"
      }
    },
    {
      "cell_type": "code",
      "source": [
        "def fibonacci_sum_pares(limite):\n",
        "    fibonacci = 1\n",
        "    temporal = 1\n",
        "    suma = 0\n",
        "\n",
        "    for i in range(limite):\n",
        "        # Sumar el número par actual si es par\n",
        "        if fibonacci % 2 == 0:\n",
        "            suma += fibonacci\n",
        "\n",
        "        # Calcular el siguiente número de la serie Fibonacci\n",
        "        fibonacci, temporal = temporal, fibonacci + temporal\n",
        "\n",
        "        # Detener el ciclo si se alcanza o supera el límite\n",
        "        if fibonacci >= limite:\n",
        "            break\n",
        "\n",
        "    return suma\n",
        "\n",
        "# Calcular la serie Fibonacci hasta el limite dado\n",
        "limite = int(input('Ingrese el limite para la serie Fibonacci: '))\n",
        "resultado = fibonacci_sum_pares(limite)\n",
        "\n",
        "print(\"La suma de los números pares en la serie Fibonacci hasta\", limite, \"es:\", resultado)"
      ],
      "metadata": {
        "id": "2oah6UI-EoRs",
        "colab": {
          "base_uri": "https://localhost:8080/"
        },
        "outputId": "eaa4ec62-edb1-417d-80d5-6401dc92c78e"
      },
      "execution_count": null,
      "outputs": [
        {
          "output_type": "stream",
          "name": "stdout",
          "text": [
            "Ingrese el limite para la serie Fibonacci: 4000000\n",
            "La suma de los números pares en la serie Fibonacci hasta 4000000 es: 4613732\n"
          ]
        }
      ]
    },
    {
      "cell_type": "markdown",
      "source": [
        "# Producto palíndromo (capicúa) más grande"
      ],
      "metadata": {
        "id": "FyapGUALEMgw"
      }
    },
    {
      "cell_type": "code",
      "source": [
        "# Convierte el número en una cadena y verifica si es igual a su reverso\n",
        "def capicua(numero): return str(numero) == str(numero)[::-1]\n",
        "\n",
        "def capicua_mas_grande():\n",
        "    capicua_mas_grande = 0\n",
        "\n",
        "    for i in range(10, 100):\n",
        "        for j in range(10, 100):\n",
        "            producto = i * j\n",
        "\n",
        "            if capicua(producto) and producto > capicua_mas_grande:\n",
        "                capicua_mas_grande = producto\n",
        "\n",
        "    return capicua_mas_grande\n",
        "\n",
        "print(\"El palíndromo más grande formado por el producto de dos números de 2 dígitos es:\", capicua_mas_grande())"
      ],
      "metadata": {
        "colab": {
          "base_uri": "https://localhost:8080/"
        },
        "id": "7biMM0C6RtIf",
        "outputId": "2e137991-b5c5-48b8-a3b5-92a262164786"
      },
      "execution_count": null,
      "outputs": [
        {
          "output_type": "stream",
          "name": "stdout",
          "text": [
            "El palíndromo más grande formado por el producto de dos números de 2 dígitos es: 9009\n"
          ]
        }
      ]
    },
    {
      "cell_type": "code",
      "source": [
        "# Convierte el número en una cadena y verifica si es igual a su reverso\n",
        "def capicua(numero): return str(numero) == str(numero)[::-1]\n",
        "\n",
        "def capicua_mas_grande():\n",
        "    capicuas = [i * j for i in range(10, 100) for j in range(10, 100) if capicua(i * j)]\n",
        "    return max(capicuas)\n",
        "\n",
        "print(\"El palíndromo más grande formado por el producto de dos números de 2 dígitos es:\", capicua_mas_grande())"
      ],
      "metadata": {
        "colab": {
          "base_uri": "https://localhost:8080/"
        },
        "id": "y0CebwJYUQ6i",
        "outputId": "5c00b6a4-b3fc-454c-a0cb-87afc71e4005"
      },
      "execution_count": null,
      "outputs": [
        {
          "output_type": "stream",
          "name": "stdout",
          "text": [
            "El palíndromo más grande formado por el producto de dos números de 2 dígitos es: 9009\n"
          ]
        }
      ]
    },
    {
      "cell_type": "code",
      "source": [
        "# Convierte el número en una cadena y verifica si es igual a su reverso\n",
        "def capicua(numero): return str(numero) == str(numero)[::-1]\n",
        "\n",
        "def capicua_mas_grande():\n",
        "    capicua_mas_grande = 0\n",
        "\n",
        "    for i in range(100, 1000):\n",
        "        for j in range(100, 1000):\n",
        "            producto = i * j\n",
        "\n",
        "            if capicua(producto) and producto > capicua_mas_grande:\n",
        "                capicua_mas_grande = producto\n",
        "\n",
        "    return capicua_mas_grande\n",
        "\n",
        "print(\"El palíndromo más grande formado por el producto de dos números de 3 dígitos es:\", capicua_mas_grande())"
      ],
      "metadata": {
        "colab": {
          "base_uri": "https://localhost:8080/"
        },
        "id": "jCrpVoQJN7tP",
        "outputId": "1ae9a495-7b18-4a72-9571-6831a723bcf2"
      },
      "execution_count": null,
      "outputs": [
        {
          "output_type": "stream",
          "name": "stdout",
          "text": [
            "El palíndromo más grande formado por el producto de dos números de 3 dígitos es: 906609\n"
          ]
        }
      ]
    },
    {
      "cell_type": "code",
      "source": [
        "# Convierte el número en una cadena y verifica si es igual a su reverso\n",
        "def capicua(numero): return str(numero) == str(numero)[::-1]\n",
        "\n",
        "def capicua_mas_grande():\n",
        "    capicuas = [i * j for i in range(100, 1000) for j in range(100, 1000) if capicua(i * j)]\n",
        "    return max(capicuas)\n",
        "\n",
        "print(\"El palíndromo más grande formado por el producto de dos números de 3 dígitos es:\", capicua_mas_grande())"
      ],
      "metadata": {
        "colab": {
          "base_uri": "https://localhost:8080/"
        },
        "id": "GR2DZr5OWYOV",
        "outputId": "f1861bd6-b10e-487c-8ec0-33f80a1cf933"
      },
      "execution_count": null,
      "outputs": [
        {
          "output_type": "stream",
          "name": "stdout",
          "text": [
            "El palíndromo más grande formado por el producto de dos números de 3 dígitos es: 906609\n"
          ]
        }
      ]
    },
    {
      "cell_type": "code",
      "source": [
        "# Convierte el número en una cadena y verifica si es igual a su reverso\n",
        "def capicua(numero): return str(numero) == str(numero)[::-1]\n",
        "\n",
        "def capicua_mas_grande():\n",
        "    capicua_mas_grande = 0\n",
        "\n",
        "    for i in range(100, 1000):\n",
        "        for j in range(100, 1000):\n",
        "            producto = i * j\n",
        "\n",
        "            if capicua(producto) and producto %5 == 0 and  producto  > capicua_mas_grande:\n",
        "                capicua_mas_grande = producto\n",
        "\n",
        "    return capicua_mas_grande\n",
        "\n",
        "print(\"El palíndromo más grande formado por el producto de dos números de 3 dígitos y múltiplo de 5 es: \", capicua_mas_grande())"
      ],
      "metadata": {
        "colab": {
          "base_uri": "https://localhost:8080/"
        },
        "id": "jJFd38azN75_",
        "outputId": "3f104872-53a7-40ad-890f-a59b2b13be13"
      },
      "execution_count": null,
      "outputs": [
        {
          "output_type": "stream",
          "name": "stdout",
          "text": [
            "El palíndromo más grande formado por el producto de dos números de 3 dígitos y múltiplo de 5 es:  595595\n"
          ]
        }
      ]
    },
    {
      "cell_type": "code",
      "source": [
        "# Convierte el número en una cadena y verifica si es igual a su reverso\n",
        "def capicua(numero): return str(numero) == str(numero)[::-1]\n",
        "\n",
        "def capicua_mas_grande():\n",
        "    capicuas = [i * j for i in range(100, 1000) for j in range(100, 1000) if capicua(i * j) and (i * j) % 5 == 0]\n",
        "    return max(capicuas)\n",
        "\n",
        "print(\"El palíndromo más grande formado por el producto de dos números de 3 dígitos y múltiplo de 5 es: \", capicua_mas_grande())"
      ],
      "metadata": {
        "colab": {
          "base_uri": "https://localhost:8080/"
        },
        "id": "wSiQHhJnXDR3",
        "outputId": "495147bc-b1cb-4645-981e-594eac6a0498"
      },
      "execution_count": null,
      "outputs": [
        {
          "output_type": "stream",
          "name": "stdout",
          "text": [
            "El palíndromo más grande formado por el producto de dos números de 3 dígitos y múltiplo de 5 es:  595595\n"
          ]
        }
      ]
    }
  ]
}