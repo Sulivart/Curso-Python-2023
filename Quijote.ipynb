{
  "nbformat": 4,
  "nbformat_minor": 0,
  "metadata": {
    "colab": {
      "provenance": [],
      "authorship_tag": "ABX9TyNcxvm9Msv1c0gC56+zuYUd",
      "include_colab_link": true
    },
    "kernelspec": {
      "name": "python3",
      "display_name": "Python 3"
    },
    "language_info": {
      "name": "python"
    }
  },
  "cells": [
    {
      "cell_type": "markdown",
      "metadata": {
        "id": "view-in-github",
        "colab_type": "text"
      },
      "source": [
        "<a href=\"https://colab.research.google.com/github/Sulivart/Curso-Python-2023/blob/main/Quijote.ipynb\" target=\"_parent\"><img src=\"https://colab.research.google.com/assets/colab-badge.svg\" alt=\"Open In Colab\"/></a>"
      ]
    },
    {
      "cell_type": "markdown",
      "source": [
        "## Quijote"
      ],
      "metadata": {
        "id": "zbfkVHvrT4Lz"
      }
    },
    {
      "cell_type": "code",
      "source": [
        "import nltk\n",
        "nltk.download('punkt')\n",
        "from nltk.tokenize import word_tokenize, sent_tokenize\n",
        "from nltk.probability import FreqDist\n",
        "\n",
        "def analizar_archivo(archivo):\n",
        "    with open(archivo, 'r') as f:\n",
        "        contenido = f.read()\n",
        "\n",
        "        # Tokenizar el contenido en palabras\n",
        "        palabras = word_tokenize(contenido)\n",
        "        cantidad_palabras = len(palabras)\n",
        "\n",
        "        # Contar caracteres (incluyendo espacios y saltos de línea)\n",
        "        cantidad_caracteres = len(contenido)\n",
        "\n",
        "        # Tokenizar el contenido en oraciones\n",
        "        oraciones = sent_tokenize(contenido)\n",
        "        cantidad_oraciones = len(oraciones)\n",
        "\n",
        "        # Calcular la frecuencia de las palabras\n",
        "        frecuencia = FreqDist(palabras)\n",
        "        top_palabras = frecuencia.most_common(50)\n",
        "\n",
        "    # Imprimir los resultados\n",
        "    print(\"Cantidad de palabras:\", cantidad_palabras)\n",
        "    print(\"Cantidad de caracteres:\", cantidad_caracteres)\n",
        "    print(\"Cantidad de oraciones:\", cantidad_oraciones)\n",
        "    print(\"Top 50 de frecuencia de palabras:\")\n",
        "    for palabra, frecuencia in top_palabras:\n",
        "        print(palabra, \":\", frecuencia)\n",
        "\n",
        "# Nombre del archivo de texto\n",
        "archivo = 'Quijote.txt'\n",
        "\n",
        "# Llamar a la función para analizar el archivo\n",
        "analizar_archivo(archivo)"
      ],
      "metadata": {
        "colab": {
          "base_uri": "https://localhost:8080/"
        },
        "id": "Fr7cRtydeTXO",
        "outputId": "9a6ea1f5-f2d7-4981-bdf3-ddf5de0c4dac"
      },
      "execution_count": 6,
      "outputs": [
        {
          "output_type": "stream",
          "name": "stderr",
          "text": [
            "[nltk_data] Downloading package punkt to /root/nltk_data...\n",
            "[nltk_data]   Unzipping tokenizers/punkt.zip.\n"
          ]
        },
        {
          "output_type": "stream",
          "name": "stdout",
          "text": [
            "Cantidad de palabras: 442402\n",
            "Cantidad de caracteres: 2117498\n",
            "Cantidad de oraciones: 9628\n",
            "Top 50 de frecuencia de palabras:\n",
            ", : 40320\n",
            "que : 20520\n",
            "de : 17992\n",
            "y : 17155\n",
            "la : 10201\n",
            "a : 9582\n",
            ". : 8090\n",
            "el : 7960\n",
            "en : 7900\n",
            "no : 5768\n",
            "; : 4802\n",
            "se : 4691\n",
            "los : 4681\n",
            "con : 4048\n",
            "por : 3759\n",
            "las : 3423\n",
            "lo : 3390\n",
            "le : 3382\n",
            "su : 3320\n",
            "don : 2538\n",
            "del : 2465\n",
            "me : 2344\n",
            "como : 2237\n",
            "es : 2074\n",
            ": : 2067\n",
            "más : 2031\n",
            "un : 1927\n",
            "yo : 1852\n",
            "si : 1794\n",
            "al : 1698\n",
            "mi : 1684\n",
            "Quijote : 1645\n",
            "Sancho : 1624\n",
            "para : 1420\n",
            "ni : 1351\n",
            "porque : 1330\n",
            "una : 1319\n",
            "él : 1241\n",
            "tan : 1218\n",
            "o : 1203\n",
            "sin : 1139\n",
            "todo : 1084\n",
            "ser : 1056\n",
            "sus : 1048\n",
            "ha : 1045\n",
            "había : 1026\n",
            "bien : 962\n",
            "? : 960\n",
            "señor : 948\n",
            "Y : 927\n"
          ]
        }
      ]
    }
  ]
}