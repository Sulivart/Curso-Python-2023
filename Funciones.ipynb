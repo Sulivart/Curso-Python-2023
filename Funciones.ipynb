{
  "nbformat": 4,
  "nbformat_minor": 0,
  "metadata": {
    "colab": {
      "provenance": [],
      "authorship_tag": "ABX9TyPMdO30AdXNmztoZF3BLhSi",
      "include_colab_link": true
    },
    "kernelspec": {
      "name": "python3",
      "display_name": "Python 3"
    },
    "language_info": {
      "name": "python"
    }
  },
  "cells": [
    {
      "cell_type": "markdown",
      "metadata": {
        "id": "view-in-github",
        "colab_type": "text"
      },
      "source": [
        "<a href=\"https://colab.research.google.com/github/Sulivart/Curso-Python-2023/blob/main/Funciones.ipynb\" target=\"_parent\"><img src=\"https://colab.research.google.com/assets/colab-badge.svg\" alt=\"Open In Colab\"/></a>"
      ]
    },
    {
      "cell_type": "markdown",
      "source": [
        "#Funciones\n",
        "Una función es un bloque de código (grupo de instrucciones) que se ejecuta cuando es llamado.\n",
        "\n",
        "Son usadas para guardar algún proceso (**algoritmo**) para que regrese un valor.\n",
        "\n",
        "Nos sirven para crear bloques de código."
      ],
      "metadata": {
        "id": "Xj_KIFN0K_Ot"
      }
    },
    {
      "cell_type": "markdown",
      "source": [
        "# Partes de una función\n"
      ],
      "metadata": {
        "id": "EU92bD2JLeXR"
      }
    },
    {
      "cell_type": "code",
      "source": [
        "# Para crear una función en Python usamos la palabra reservada \"def\"\n",
        "def nombre_funcion(argumentos):\n",
        "  # Aqui inicia bloque de código\n",
        "  \"\"\"\"Imprime el argumento dado\"\"\"\"\n",
        "  # Bloque de código\n",
        "  print('El argumento es: ', argumentos)\n",
        "  # Aqui termina el bloque de código\n",
        "  # Llamado de la función\n",
        "  nombre_funcion"
      ],
      "metadata": {
        "id": "nk6-qey1MRSO"
      },
      "execution_count": null,
      "outputs": []
    },
    {
      "cell_type": "code",
      "source": [
        "def mi_primer_funcion():\n",
        "  print(\"Hola, estoy adentro de la función 😎\")\n",
        "mi_primer_funcion()\n",
        "type(mi_primer_funcion)"
      ],
      "metadata": {
        "colab": {
          "base_uri": "https://localhost:8080/"
        },
        "id": "TC2pnNJyMkNL",
        "outputId": "430be796-e4f0-42cb-cb2b-b322d4c36eb9"
      },
      "execution_count": null,
      "outputs": [
        {
          "output_type": "stream",
          "name": "stdout",
          "text": [
            "Hola, estoy adentro de la función 😎\n"
          ]
        },
        {
          "output_type": "execute_result",
          "data": {
            "text/plain": [
              "function"
            ]
          },
          "metadata": {},
          "execution_count": 3
        }
      ]
    },
    {
      "cell_type": "code",
      "source": [
        "# Esta función regresa un tipo de dato de tipo NoneType\n",
        "mi_variable = mi_primer_funcion()\n",
        "print(mi_variable)\n",
        "type(mi_variable)"
      ],
      "metadata": {
        "colab": {
          "base_uri": "https://localhost:8080/"
        },
        "id": "CD4-9_qVNO_J",
        "outputId": "828d3cee-ab58-4ff3-d9f9-2cb37aa0c98d"
      },
      "execution_count": null,
      "outputs": [
        {
          "output_type": "stream",
          "name": "stdout",
          "text": [
            "Hola, estoy adentro de la función 😎\n",
            "None\n"
          ]
        },
        {
          "output_type": "execute_result",
          "data": {
            "text/plain": [
              "NoneType"
            ]
          },
          "metadata": {},
          "execution_count": 5
        }
      ]
    },
    {
      "cell_type": "markdown",
      "source": [
        "# Creando una función con argumentos\n",
        "\n",
        "Crear una función para obtener el área de un cuadrado"
      ],
      "metadata": {
        "id": "nv2WvoXiZUCf"
      }
    },
    {
      "cell_type": "code",
      "source": [
        "# Nivel básico\n",
        "import math\n",
        "pi = 3.14159\n",
        "\n",
        "def perimetro_rectangulo(base, altura):\n",
        "  \"\"\"Calcula el perimetro de un rectangulo\"\"\"\n",
        "  perimetro = altura*2 + base*2\n",
        "  return perimetro\n",
        "perimetro_rectangulo(5.0, 7.5)"
      ],
      "metadata": {
        "colab": {
          "base_uri": "https://localhost:8080/"
        },
        "id": "RLaZXxgaIgje",
        "outputId": "520e86cd-ed71-4799-a978-748e12a2265f"
      },
      "execution_count": null,
      "outputs": [
        {
          "output_type": "execute_result",
          "data": {
            "text/plain": [
              "25.0"
            ]
          },
          "metadata": {},
          "execution_count": 10
        }
      ]
    },
    {
      "cell_type": "code",
      "source": [
        "def area_rectangulo(altura, base):\n",
        "  \"\"\"Calcula el área de un rectangulo\"\"\"\n",
        "  area = altura * base\n",
        "  return area\n",
        "area_rectangulo(5.0, 7.5)"
      ],
      "metadata": {
        "colab": {
          "base_uri": "https://localhost:8080/"
        },
        "id": "7ovAm-ZDIrnu",
        "outputId": "26653dc2-de6e-4691-a8e4-5c8527c12749"
      },
      "execution_count": null,
      "outputs": [
        {
          "output_type": "execute_result",
          "data": {
            "text/plain": [
              "37.5"
            ]
          },
          "metadata": {},
          "execution_count": 11
        }
      ]
    },
    {
      "cell_type": "code",
      "source": [
        "def perimetro_cuadrado(lado):\n",
        "  \"\"\"Calcula el perimetro de un cuadrado\"\"\"\n",
        "  perimetro = lado*4\n",
        "  return perimetro\n",
        "perimetro_cuadrado(5.0)"
      ],
      "metadata": {
        "colab": {
          "base_uri": "https://localhost:8080/"
        },
        "id": "dwKy7XowIunV",
        "outputId": "9fe0fc19-9d7d-4f4c-9f30-8ec459fd5ae5"
      },
      "execution_count": null,
      "outputs": [
        {
          "output_type": "execute_result",
          "data": {
            "text/plain": [
              "20.0"
            ]
          },
          "metadata": {},
          "execution_count": 12
        }
      ]
    },
    {
      "cell_type": "code",
      "source": [
        "def area_cuadrado(lado):\n",
        "  \"\"\"Calcula el área de un cuadrado\"\"\"\n",
        "  area = lado**2\n",
        "  return area\n",
        "area_cuadrado(5.0)"
      ],
      "metadata": {
        "colab": {
          "base_uri": "https://localhost:8080/"
        },
        "id": "fiYXq5OlIxoI",
        "outputId": "955f7d89-c87a-4a74-de52-c038a8aaf0ed"
      },
      "execution_count": null,
      "outputs": [
        {
          "output_type": "execute_result",
          "data": {
            "text/plain": [
              "25.0"
            ]
          },
          "metadata": {},
          "execution_count": 13
        }
      ]
    },
    {
      "cell_type": "code",
      "source": [
        "def circunferencia_circulo(radio):\n",
        "  \"\"\"Calcula la circunferencia de un círculo\"\"\"\n",
        "  circunferencia = 2*pi*radio\n",
        "  return circunferencia\n",
        "circunferencia_circulo(5.0)"
      ],
      "metadata": {
        "colab": {
          "base_uri": "https://localhost:8080/"
        },
        "id": "ljOn892cI0kh",
        "outputId": "e5cb3fbe-6eb1-4810-99f2-a9b199a004a3"
      },
      "execution_count": null,
      "outputs": [
        {
          "output_type": "execute_result",
          "data": {
            "text/plain": [
              "31.4159"
            ]
          },
          "metadata": {},
          "execution_count": 14
        }
      ]
    },
    {
      "cell_type": "code",
      "source": [
        "def area_circulo(radio):\n",
        "  \"\"\"Calcula el área de un círculo\"\"\"\n",
        "  area = pi*radio**2\n",
        "  return area\n",
        "area_circulo(5.0)"
      ],
      "metadata": {
        "id": "Q2WFjG9LOuUm",
        "colab": {
          "base_uri": "https://localhost:8080/"
        },
        "outputId": "997ccbcd-1c17-4a49-d2dd-75018a1bcfa7"
      },
      "execution_count": null,
      "outputs": [
        {
          "output_type": "execute_result",
          "data": {
            "text/plain": [
              "78.53975"
            ]
          },
          "metadata": {},
          "execution_count": 15
        }
      ]
    },
    {
      "cell_type": "code",
      "source": [
        "# Nivel intermedio\n",
        "from typing import Union\n",
        "\n",
        "def perimetro_rectangulo(altura: Union[int, float], base: Union[int, float]) -> Union[int, float]:\n",
        "  \"\"\"Calcula el perimetro de un rectangulo\"\"\"\n",
        "  perimetro = altura*2 + base*2\n",
        "  return perimetro\n",
        "perimetro_rectangulo(5.0, 7.5)"
      ],
      "metadata": {
        "colab": {
          "base_uri": "https://localhost:8080/"
        },
        "id": "z0xRSdErG1Pf",
        "outputId": "e1074d13-3ba3-4ea7-8f42-5411affe7ab2"
      },
      "execution_count": null,
      "outputs": [
        {
          "output_type": "execute_result",
          "data": {
            "text/plain": [
              "25.0"
            ]
          },
          "metadata": {},
          "execution_count": 3
        }
      ]
    },
    {
      "cell_type": "code",
      "source": [
        "def area_rectangulo(altura: Union[int, float], base: Union[int, float]) -> Union[int, float]:\n",
        "  \"\"\"Calcula el área de un rectangulo\"\"\"\n",
        "  area = altura * base\n",
        "  return area\n",
        "area_rectangulo(5.0, 7.5)"
      ],
      "metadata": {
        "colab": {
          "base_uri": "https://localhost:8080/"
        },
        "id": "jzaeXMKQG925",
        "outputId": "0376e28a-02c0-4a50-ca6d-bf055dc84719"
      },
      "execution_count": null,
      "outputs": [
        {
          "output_type": "execute_result",
          "data": {
            "text/plain": [
              "37.5"
            ]
          },
          "metadata": {},
          "execution_count": 4
        }
      ]
    },
    {
      "cell_type": "code",
      "source": [
        "def perimetro_cuadrado(lado: Union[int, float]) -> Union[int, float]:\n",
        "  \"\"\"Calcula el perimetro de un cuadrado\"\"\"\n",
        "  perimetro = lado*4\n",
        "  return perimetro\n",
        "perimetro_cuadrado(5.0)"
      ],
      "metadata": {
        "colab": {
          "base_uri": "https://localhost:8080/"
        },
        "id": "nNDLwcExHD43",
        "outputId": "30c94bfd-d3ff-474d-fcd7-a2972323d794"
      },
      "execution_count": null,
      "outputs": [
        {
          "output_type": "execute_result",
          "data": {
            "text/plain": [
              "20.0"
            ]
          },
          "metadata": {},
          "execution_count": 5
        }
      ]
    },
    {
      "cell_type": "code",
      "source": [
        "def area_cuadrado(lado: Union[int, float]) -> Union[int, float]:\n",
        "  \"\"\"Calcula el área de un cuadrado\"\"\"\n",
        "  area = lado**2\n",
        "  return area\n",
        "area_cuadrado(5.0)"
      ],
      "metadata": {
        "colab": {
          "base_uri": "https://localhost:8080/"
        },
        "id": "RRizoyIKHH0Q",
        "outputId": "42bcee52-450e-4682-a317-48e2808be3c3"
      },
      "execution_count": null,
      "outputs": [
        {
          "output_type": "execute_result",
          "data": {
            "text/plain": [
              "25.0"
            ]
          },
          "metadata": {},
          "execution_count": 6
        }
      ]
    },
    {
      "cell_type": "code",
      "source": [
        "def circunferencia_circulo(radio: Union[int, float]) -> Union[int, float]:\n",
        "  \"\"\"Calcula la circunferencia de un círculo\"\"\"\n",
        "  circunferencia = 2*pi*radio\n",
        "  return circunferencia\n",
        "circunferencia_circulo(5.0)"
      ],
      "metadata": {
        "colab": {
          "base_uri": "https://localhost:8080/"
        },
        "id": "6oQFhkNsHK-y",
        "outputId": "d928718f-5f15-4f6f-af92-2bfd1280a28b"
      },
      "execution_count": null,
      "outputs": [
        {
          "output_type": "execute_result",
          "data": {
            "text/plain": [
              "31.4159"
            ]
          },
          "metadata": {},
          "execution_count": 7
        }
      ]
    },
    {
      "cell_type": "code",
      "source": [
        "def area_circulo(radio: Union[int, float]) -> Union[int, float]:\n",
        "  \"\"\"Calcula el área de un círculo\"\"\"\n",
        "  area = pi*radio**2\n",
        "  return area\n",
        "area_circulo(5.0)"
      ],
      "metadata": {
        "colab": {
          "base_uri": "https://localhost:8080/"
        },
        "id": "Mau0nx-WBWmg",
        "outputId": "a53aab89-edf7-46bc-9e98-602f2aebc23d"
      },
      "execution_count": null,
      "outputs": [
        {
          "output_type": "execute_result",
          "data": {
            "text/plain": [
              "78.53975"
            ]
          },
          "metadata": {},
          "execution_count": 8
        }
      ]
    },
    {
      "cell_type": "code",
      "source": [
        "help(perimetro_rectangulo)\n",
        "help(area_rectangulo)\n",
        "help(perimetro_cuadrado)\n",
        "help(area_cuadrado)\n",
        "help(circunferencia_circulo)\n",
        "help(area_circulo)"
      ],
      "metadata": {
        "colab": {
          "base_uri": "https://localhost:8080/"
        },
        "id": "XtoG8EsGGRgt",
        "outputId": "01324133-b245-4664-9f88-da37182df923"
      },
      "execution_count": null,
      "outputs": [
        {
          "output_type": "stream",
          "name": "stdout",
          "text": [
            "Help on function perimetro_rectangulo in module __main__:\n",
            "\n",
            "perimetro_rectangulo(altura: Union[int, float], base: Union[int, float]) -> Union[int, float]\n",
            "    Calcula el perimetro de un rectangulo\n",
            "\n",
            "Help on function area_rectangulo in module __main__:\n",
            "\n",
            "area_rectangulo(altura: Union[int, float], base: Union[int, float]) -> Union[int, float]\n",
            "    Calcula el área de un rectangulo\n",
            "\n",
            "Help on function perimetro_cuadrado in module __main__:\n",
            "\n",
            "perimetro_cuadrado(lado: Union[int, float]) -> Union[int, float]\n",
            "    Calcula el perimetro de un cuadrado\n",
            "\n",
            "Help on function area_cuadrado in module __main__:\n",
            "\n",
            "area_cuadrado(lado: Union[int, float]) -> Union[int, float]\n",
            "    Calcula el área de un cuadrado\n",
            "\n",
            "Help on function circunferencia_circulo in module __main__:\n",
            "\n",
            "circunferencia_circulo(radio: Union[int, float]) -> Union[int, float]\n",
            "    Calcula la circunferencia de un círculo\n",
            "\n",
            "Help on function area_circulo in module __main__:\n",
            "\n",
            "area_circulo(radio: Union[int, float]) -> Union[int, float]\n",
            "    Calcula el área de un círculo\n",
            "\n"
          ]
        }
      ]
    },
    {
      "cell_type": "markdown",
      "source": [
        "# Alcance de las variables (variable scope)"
      ],
      "metadata": {
        "id": "5Ock1okAHsK-"
      }
    },
    {
      "cell_type": "code",
      "source": [
        "# Python Tutor\n",
        "#\n",
        "# https://pythontutor.com/visualize.html#mode=display\n",
        "\n",
        "# DEMO: Variables globales y locales\n",
        "var_global = \"Cuau\"\n",
        "def mi_funcion(arg_1, arg_2):\n",
        "    print(\"Print(dentro func) -> Var global = \", var_global)\n",
        "    var_local = \"Jess\"\n",
        "    # arg_1 y arg_2 son variables locales\n",
        "    print(\"Print(dentro func) -> arg_1 =\", arg_1,  \", arg_2 =\", arg_2)\n",
        "    print(\"Print(dentro func) -> Var local = \", var_local)\n",
        "\n",
        "mi_funcion(1, 'Manzana')\n",
        "\n",
        "# Accediendo a la variable global\n",
        "print(\"Print(fuera func) -> Var global = \", var_global)\n",
        "\n",
        "# Intentado acceder a la variable local dentro de mi_funcion\n",
        "print(\"Print(fuera func) -> Var local = \", var_local)"
      ],
      "metadata": {
        "id": "8e-MT7afGjFi"
      },
      "execution_count": null,
      "outputs": []
    },
    {
      "cell_type": "markdown",
      "source": [
        "# Temas avanzados\n",
        "*   Lambda (útiles en pandas y spark)\n",
        "*   Higher-order (funciones que usan otras funciones, funciones que toman funciones como argumentos, funciones que regresan una función)\n",
        "*   Nested (funciones definidas dentro de otras funciones)\n",
        "*   Decorators: extienden el comportamiento de otra función (sin tener que modificar manualmente la función)"
      ],
      "metadata": {
        "id": "bvLPDAL8Hzl9"
      }
    }
  ]
}