{
  "nbformat": 4,
  "nbformat_minor": 0,
  "metadata": {
    "colab": {
      "provenance": [],
      "authorship_tag": "ABX9TyPFs4f5yHIgA9DtpB0+lwXi",
      "include_colab_link": true
    },
    "kernelspec": {
      "name": "python3",
      "display_name": "Python 3"
    },
    "language_info": {
      "name": "python"
    }
  },
  "cells": [
    {
      "cell_type": "markdown",
      "metadata": {
        "id": "view-in-github",
        "colab_type": "text"
      },
      "source": [
        "<a href=\"https://colab.research.google.com/github/Sulivart/Curso-Python-2023/blob/main/hello_world.ipynb\" target=\"_parent\"><img src=\"https://colab.research.google.com/assets/colab-badge.svg\" alt=\"Open In Colab\"/></a>"
      ]
    },
    {
      "cell_type": "markdown",
      "source": [
        "#Mi primer código de Python"
      ],
      "metadata": {
        "id": "r1jfzNg4ATU7"
      }
    },
    {
      "cell_type": "code",
      "execution_count": null,
      "metadata": {
        "colab": {
          "base_uri": "https://localhost:8080/"
        },
        "id": "3S45ZTW7_Vm6",
        "outputId": "25890e59-98b9-440d-8167-54e188f53edc"
      },
      "outputs": [
        {
          "output_type": "stream",
          "name": "stdout",
          "text": [
            "Hello world!!!\n"
          ]
        }
      ],
      "source": [
        "# En Python podemos usar comillas dobles para crear un string (cadena de carcateres o texto)\n",
        "print(\"Hello world!!!\")"
      ]
    },
    {
      "cell_type": "code",
      "source": [
        "# Pero también podemos usar comillas simples\n",
        "print('Hello world!!!')"
      ],
      "metadata": {
        "colab": {
          "base_uri": "https://localhost:8080/"
        },
        "id": "3zpAc_4bBCnG",
        "outputId": "c824b1a6-3f28-4897-dd7a-4ead6528fc33"
      },
      "execution_count": null,
      "outputs": [
        {
          "output_type": "stream",
          "name": "stdout",
          "text": [
            "Hello world!!!\n"
          ]
        }
      ]
    },
    {
      "cell_type": "code",
      "source": [
        "# Aunque no es necesario usar \"print\" en colab para mostrar un resultado\n",
        "\"Hello world!!!\"\n",
        "# Útil cuando desarrollamos o queremos ver un resultado rápido.\n",
        "# Pero, como buena práctica hay que usar siempre la función \"print\" para mostrar un resultado"
      ],
      "metadata": {
        "colab": {
          "base_uri": "https://localhost:8080/",
          "height": 36
        },
        "id": "Q2OFUZ8TBJTV",
        "outputId": "23453e69-c968-4406-c349-48735457c9cb"
      },
      "execution_count": null,
      "outputs": [
        {
          "output_type": "execute_result",
          "data": {
            "text/plain": [
              "'Hello world!!!'"
            ],
            "application/vnd.google.colaboratory.intrinsic+json": {
              "type": "string"
            }
          },
          "metadata": {},
          "execution_count": 5
        }
      ]
    },
    {
      "cell_type": "markdown",
      "source": [
        "# Introducción"
      ],
      "metadata": {
        "id": "5NKN3L31yEvH"
      }
    },
    {
      "cell_type": "markdown",
      "source": [
        "# 1.1 Zen de Python"
      ],
      "metadata": {
        "id": "fXoH3U8CyR04"
      }
    },
    {
      "cell_type": "code",
      "source": [
        "import this"
      ],
      "metadata": {
        "colab": {
          "base_uri": "https://localhost:8080/"
        },
        "id": "JvdFEkk_r49p",
        "outputId": "1830de88-9962-4bcf-879e-cc015b3ce92c"
      },
      "execution_count": null,
      "outputs": [
        {
          "output_type": "stream",
          "name": "stdout",
          "text": [
            "The Zen of Python, by Tim Peters\n",
            "\n",
            "Beautiful is better than ugly.\n",
            "Explicit is better than implicit.\n",
            "Simple is better than complex.\n",
            "Complex is better than complicated.\n",
            "Flat is better than nested.\n",
            "Sparse is better than dense.\n",
            "Readability counts.\n",
            "Special cases aren't special enough to break the rules.\n",
            "Although practicality beats purity.\n",
            "Errors should never pass silently.\n",
            "Unless explicitly silenced.\n",
            "In the face of ambiguity, refuse the temptation to guess.\n",
            "There should be one-- and preferably only one --obvious way to do it.\n",
            "Although that way may not be obvious at first unless you're Dutch.\n",
            "Now is better than never.\n",
            "Although never is often better than *right* now.\n",
            "If the implementation is hard to explain, it's a bad idea.\n",
            "If the implementation is easy to explain, it may be a good idea.\n",
            "Namespaces are one honking great idea -- let's do more of those!\n"
          ]
        }
      ]
    },
    {
      "cell_type": "markdown",
      "source": [
        "#Depuración\n",
        "*   Encontrar y deshacerse de bugs/errores\n",
        "*   Mientras los humanos escriban códigos de computadora, siemore habrá errores en el programa de computadora\n",
        "*   Aunque a veces es frustrante, es una de las partes intelectualmente más ricas, desafiantes e interesantes de la programación\n",
        "\n",
        "\n",
        "\n",
        "\n"
      ],
      "metadata": {
        "id": "XCgzsJxVy8Yf"
      }
    },
    {
      "cell_type": "code",
      "source": [],
      "metadata": {
        "id": "DdTRicY400qr"
      },
      "execution_count": null,
      "outputs": []
    }
  ]
}