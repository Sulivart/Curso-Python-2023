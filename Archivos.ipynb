{
  "nbformat": 4,
  "nbformat_minor": 0,
  "metadata": {
    "colab": {
      "provenance": [],
      "authorship_tag": "ABX9TyOTgwNkyBsSUEKUPhestjbX",
      "include_colab_link": true
    },
    "kernelspec": {
      "name": "python3",
      "display_name": "Python 3"
    },
    "language_info": {
      "name": "python"
    }
  },
  "cells": [
    {
      "cell_type": "markdown",
      "metadata": {
        "id": "view-in-github",
        "colab_type": "text"
      },
      "source": [
        "<a href=\"https://colab.research.google.com/github/Sulivart/Curso-Python-2023/blob/main/Archivos.ipynb\" target=\"_parent\"><img src=\"https://colab.research.google.com/assets/colab-badge.svg\" alt=\"Open In Colab\"/></a>"
      ]
    },
    {
      "cell_type": "markdown",
      "source": [
        "# Archivos"
      ],
      "metadata": {
        "id": "qHR_2gcoCMzT"
      }
    },
    {
      "cell_type": "code",
      "source": [
        "help(open)"
      ],
      "metadata": {
        "colab": {
          "base_uri": "https://localhost:8080/"
        },
        "id": "OJ6YUg98CxY_",
        "outputId": "540b722b-df81-408e-8814-97fb814185b4"
      },
      "execution_count": null,
      "outputs": [
        {
          "output_type": "stream",
          "name": "stdout",
          "text": [
            "Help on built-in function open in module io:\n",
            "\n",
            "open(file, mode='r', buffering=-1, encoding=None, errors=None, newline=None, closefd=True, opener=None)\n",
            "    Open file and return a stream.  Raise OSError upon failure.\n",
            "    \n",
            "    file is either a text or byte string giving the name (and the path\n",
            "    if the file isn't in the current working directory) of the file to\n",
            "    be opened or an integer file descriptor of the file to be\n",
            "    wrapped. (If a file descriptor is given, it is closed when the\n",
            "    returned I/O object is closed, unless closefd is set to False.)\n",
            "    \n",
            "    mode is an optional string that specifies the mode in which the file\n",
            "    is opened. It defaults to 'r' which means open for reading in text\n",
            "    mode.  Other common values are 'w' for writing (truncating the file if\n",
            "    it already exists), 'x' for creating and writing to a new file, and\n",
            "    'a' for appending (which on some Unix systems, means that all writes\n",
            "    append to the end of the file regardless of the current seek position).\n",
            "    In text mode, if encoding is not specified the encoding used is platform\n",
            "    dependent: locale.getpreferredencoding(False) is called to get the\n",
            "    current locale encoding. (For reading and writing raw bytes use binary\n",
            "    mode and leave encoding unspecified.) The available modes are:\n",
            "    \n",
            "    ========= ===============================================================\n",
            "    Character Meaning\n",
            "    --------- ---------------------------------------------------------------\n",
            "    'r'       open for reading (default)\n",
            "    'w'       open for writing, truncating the file first\n",
            "    'x'       create a new file and open it for writing\n",
            "    'a'       open for writing, appending to the end of the file if it exists\n",
            "    'b'       binary mode\n",
            "    't'       text mode (default)\n",
            "    '+'       open a disk file for updating (reading and writing)\n",
            "    'U'       universal newline mode (deprecated)\n",
            "    ========= ===============================================================\n",
            "    \n",
            "    The default mode is 'rt' (open for reading text). For binary random\n",
            "    access, the mode 'w+b' opens and truncates the file to 0 bytes, while\n",
            "    'r+b' opens the file without truncation. The 'x' mode implies 'w' and\n",
            "    raises an `FileExistsError` if the file already exists.\n",
            "    \n",
            "    Python distinguishes between files opened in binary and text modes,\n",
            "    even when the underlying operating system doesn't. Files opened in\n",
            "    binary mode (appending 'b' to the mode argument) return contents as\n",
            "    bytes objects without any decoding. In text mode (the default, or when\n",
            "    't' is appended to the mode argument), the contents of the file are\n",
            "    returned as strings, the bytes having been first decoded using a\n",
            "    platform-dependent encoding or using the specified encoding if given.\n",
            "    \n",
            "    'U' mode is deprecated and will raise an exception in future versions\n",
            "    of Python.  It has no effect in Python 3.  Use newline to control\n",
            "    universal newlines mode.\n",
            "    \n",
            "    buffering is an optional integer used to set the buffering policy.\n",
            "    Pass 0 to switch buffering off (only allowed in binary mode), 1 to select\n",
            "    line buffering (only usable in text mode), and an integer > 1 to indicate\n",
            "    the size of a fixed-size chunk buffer.  When no buffering argument is\n",
            "    given, the default buffering policy works as follows:\n",
            "    \n",
            "    * Binary files are buffered in fixed-size chunks; the size of the buffer\n",
            "      is chosen using a heuristic trying to determine the underlying device's\n",
            "      \"block size\" and falling back on `io.DEFAULT_BUFFER_SIZE`.\n",
            "      On many systems, the buffer will typically be 4096 or 8192 bytes long.\n",
            "    \n",
            "    * \"Interactive\" text files (files for which isatty() returns True)\n",
            "      use line buffering.  Other text files use the policy described above\n",
            "      for binary files.\n",
            "    \n",
            "    encoding is the name of the encoding used to decode or encode the\n",
            "    file. This should only be used in text mode. The default encoding is\n",
            "    platform dependent, but any encoding supported by Python can be\n",
            "    passed.  See the codecs module for the list of supported encodings.\n",
            "    \n",
            "    errors is an optional string that specifies how encoding errors are to\n",
            "    be handled---this argument should not be used in binary mode. Pass\n",
            "    'strict' to raise a ValueError exception if there is an encoding error\n",
            "    (the default of None has the same effect), or pass 'ignore' to ignore\n",
            "    errors. (Note that ignoring encoding errors can lead to data loss.)\n",
            "    See the documentation for codecs.register or run 'help(codecs.Codec)'\n",
            "    for a list of the permitted encoding error strings.\n",
            "    \n",
            "    newline controls how universal newlines works (it only applies to text\n",
            "    mode). It can be None, '', '\\n', '\\r', and '\\r\\n'.  It works as\n",
            "    follows:\n",
            "    \n",
            "    * On input, if newline is None, universal newlines mode is\n",
            "      enabled. Lines in the input can end in '\\n', '\\r', or '\\r\\n', and\n",
            "      these are translated into '\\n' before being returned to the\n",
            "      caller. If it is '', universal newline mode is enabled, but line\n",
            "      endings are returned to the caller untranslated. If it has any of\n",
            "      the other legal values, input lines are only terminated by the given\n",
            "      string, and the line ending is returned to the caller untranslated.\n",
            "    \n",
            "    * On output, if newline is None, any '\\n' characters written are\n",
            "      translated to the system default line separator, os.linesep. If\n",
            "      newline is '' or '\\n', no translation takes place. If newline is any\n",
            "      of the other legal values, any '\\n' characters written are translated\n",
            "      to the given string.\n",
            "    \n",
            "    If closefd is False, the underlying file descriptor will be kept open\n",
            "    when the file is closed. This does not work when a file name is given\n",
            "    and must be True in that case.\n",
            "    \n",
            "    A custom opener can be used by passing a callable as *opener*. The\n",
            "    underlying file descriptor for the file object is then obtained by\n",
            "    calling *opener* with (*file*, *flags*). *opener* must return an open\n",
            "    file descriptor (passing os.open as *opener* results in functionality\n",
            "    similar to passing None).\n",
            "    \n",
            "    open() returns a file object whose type depends on the mode, and\n",
            "    through which the standard file operations such as reading and writing\n",
            "    are performed. When open() is used to open a file in a text mode ('w',\n",
            "    'r', 'wt', 'rt', etc.), it returns a TextIOWrapper. When used to open\n",
            "    a file in a binary mode, the returned class varies: in read binary\n",
            "    mode, it returns a BufferedReader; in write binary and append binary\n",
            "    modes, it returns a BufferedWriter, and in read/write mode, it returns\n",
            "    a BufferedRandom.\n",
            "    \n",
            "    It is also possible to use a string or bytearray as a file for both\n",
            "    reading and writing. For strings StringIO can be used like a file\n",
            "    opened in a text mode, and for bytes a BytesIO can be used like a file\n",
            "    opened in a binary mode.\n",
            "\n"
          ]
        }
      ]
    },
    {
      "cell_type": "markdown",
      "source": [
        "## Write text data to a file"
      ],
      "metadata": {
        "id": "mYZz0RCLIpwA"
      }
    },
    {
      "cell_type": "code",
      "execution_count": null,
      "metadata": {
        "colab": {
          "base_uri": "https://localhost:8080/"
        },
        "id": "2hLuxFS0_h3_",
        "outputId": "4f204adb-c632-449b-e790-cc06cb59bdf8"
      },
      "outputs": [
        {
          "output_type": "stream",
          "name": "stdout",
          "text": [
            "6\n"
          ]
        }
      ],
      "source": [
        "# old school - not preferred!!\n",
        "fw = open('words.txt', 'w') # w is for write mode\n",
        "fw.write('words\\n=====\\n')\n",
        "fw.write('apple\\nball\\ncat\\ndog\\n')\n",
        "print(fw.write('zebra\\n'))\n",
        "fw.close() #must close the file to actually write data\n",
        "# to the secondoary storage"
      ]
    },
    {
      "cell_type": "code",
      "source": [
        "#  Sintaxis más nueva y mejor: ¡la forma preferida!\n",
        "with open('words1.txt', 'w') as file:\n",
        "    file.write('apple\\nball\\ncat\\ndog\\n')\n",
        "    file.write('elephant\\n')\n",
        "    file.write('zebra\\n')\n",
        "    file.write(str(1))\n",
        "    file.write('\\n')\n",
        "    file.write(str([1,2,3]))\n",
        "    #file.close() En cuanto se termina ejecutar la linea anterior se aplica el close ()\n",
        "\n",
        "# file.write('algo más')"
      ],
      "metadata": {
        "id": "FTVOCo5bDlk2"
      },
      "execution_count": null,
      "outputs": []
    },
    {
      "cell_type": "markdown",
      "source": [
        "## Leer datos de texto de un archivo"
      ],
      "metadata": {
        "id": "9SIlDtDIJDyv"
      }
    },
    {
      "cell_type": "code",
      "source": [
        "# leer todo el archivo como una lista de líneas\n",
        "file = open('words.txt', 'r') # 'r' o modo lectura por defecto; el archivo debe existir\n",
        "data = file.readlines()\n",
        "file.close()"
      ],
      "metadata": {
        "id": "eTZ6Nm7HEsoQ"
      },
      "execution_count": null,
      "outputs": []
    },
    {
      "cell_type": "code",
      "source": [
        "data"
      ],
      "metadata": {
        "colab": {
          "base_uri": "https://localhost:8080/"
        },
        "id": "tvif21HOE8z3",
        "outputId": "5ecfd074-b4a5-4988-d2bd-accc7a9f2969"
      },
      "execution_count": null,
      "outputs": [
        {
          "output_type": "execute_result",
          "data": {
            "text/plain": [
              "['words\\n', '=====\\n', 'apple\\n', 'ball\\n', 'cat\\n', 'dog\\n', 'zebra\\n']"
            ]
          },
          "metadata": {},
          "execution_count": 5
        }
      ]
    },
    {
      "cell_type": "code",
      "source": [
        "type(data)"
      ],
      "metadata": {
        "colab": {
          "base_uri": "https://localhost:8080/"
        },
        "id": "m3IM8pVGFBlR",
        "outputId": "52b7c891-fbc5-4a97-f8c9-8fdb7c4965b0"
      },
      "execution_count": null,
      "outputs": [
        {
          "output_type": "execute_result",
          "data": {
            "text/plain": [
              "list"
            ]
          },
          "metadata": {},
          "execution_count": 6
        }
      ]
    },
    {
      "cell_type": "code",
      "source": [
        "data[0]"
      ],
      "metadata": {
        "colab": {
          "base_uri": "https://localhost:8080/",
          "height": 36
        },
        "id": "vC2RsJ7oFEXS",
        "outputId": "2a1a6c54-094f-4713-84c9-554127ec8258"
      },
      "execution_count": null,
      "outputs": [
        {
          "output_type": "execute_result",
          "data": {
            "text/plain": [
              "'words\\n'"
            ],
            "application/vnd.google.colaboratory.intrinsic+json": {
              "type": "string"
            }
          },
          "metadata": {},
          "execution_count": 7
        }
      ]
    },
    {
      "cell_type": "code",
      "source": [
        "print(data[0])"
      ],
      "metadata": {
        "colab": {
          "base_uri": "https://localhost:8080/"
        },
        "id": "6w0_0-3_FJbO",
        "outputId": "b0b036eb-1554-4570-a4b3-dc6fe9b5227f"
      },
      "execution_count": null,
      "outputs": [
        {
          "output_type": "stream",
          "name": "stdout",
          "text": [
            "words\n",
            "\n"
          ]
        }
      ]
    },
    {
      "cell_type": "code",
      "source": [
        "with open('words1.txt', 'r') as fr:\n",
        "    data= fr.readlines()"
      ],
      "metadata": {
        "id": "EWQNDeNnFT0N"
      },
      "execution_count": null,
      "outputs": []
    },
    {
      "cell_type": "code",
      "source": [
        "data"
      ],
      "metadata": {
        "colab": {
          "base_uri": "https://localhost:8080/"
        },
        "id": "_zaV4Gw2FW6v",
        "outputId": "919db043-c1ef-4dc1-fa86-d17937242ea9"
      },
      "execution_count": null,
      "outputs": [
        {
          "output_type": "execute_result",
          "data": {
            "text/plain": [
              "['apple\\n',\n",
              " 'ball\\n',\n",
              " 'cat\\n',\n",
              " 'dog\\n',\n",
              " 'elephant\\n',\n",
              " 'zebra\\n',\n",
              " '1\\n',\n",
              " '[1, 2, 3]']"
            ]
          },
          "metadata": {},
          "execution_count": 10
        }
      ]
    },
    {
      "cell_type": "code",
      "source": [
        "for el in data:\n",
        "    print(el.strip())"
      ],
      "metadata": {
        "colab": {
          "base_uri": "https://localhost:8080/"
        },
        "id": "EEW5MZdQFatt",
        "outputId": "67588f41-9650-4adf-943d-75e6d4cc7bff"
      },
      "execution_count": null,
      "outputs": [
        {
          "output_type": "stream",
          "name": "stdout",
          "text": [
            "apple\n",
            "ball\n",
            "cat\n",
            "dog\n",
            "elephant\n",
            "zebra\n",
            "1\n",
            "[1, 2, 3]\n"
          ]
        }
      ]
    },
    {
      "cell_type": "code",
      "source": [
        "data.sort()"
      ],
      "metadata": {
        "id": "or-lBNbnFgIF"
      },
      "execution_count": null,
      "outputs": []
    },
    {
      "cell_type": "code",
      "source": [
        "data"
      ],
      "metadata": {
        "colab": {
          "base_uri": "https://localhost:8080/"
        },
        "id": "FrwXBlCkFjmV",
        "outputId": "87b19728-f569-4929-ac77-065028f851b6"
      },
      "execution_count": null,
      "outputs": [
        {
          "output_type": "execute_result",
          "data": {
            "text/plain": [
              "['1\\n',\n",
              " '[1, 2, 3]',\n",
              " 'apple\\n',\n",
              " 'ball\\n',\n",
              " 'cat\\n',\n",
              " 'dog\\n',\n",
              " 'elephant\\n',\n",
              " 'zebra\\n']"
            ]
          },
          "metadata": {},
          "execution_count": 13
        }
      ]
    },
    {
      "cell_type": "code",
      "source": [
        "with open('words2.txt', 'w') as newFile:\n",
        "    for word in data:\n",
        "        newFile.write(word)"
      ],
      "metadata": {
        "id": "kjrKgAUVF0Pr"
      },
      "execution_count": null,
      "outputs": []
    },
    {
      "cell_type": "markdown",
      "source": [
        "## Leer datos línea por línea"
      ],
      "metadata": {
        "id": "wH8e94jBJNuO"
      }
    },
    {
      "cell_type": "code",
      "source": [
        "# create a file with 10 integers\n",
        "# one integer per line\n",
        "# a: append mode\n",
        "import random\n",
        "with open('numeros.txt', 'a') as file:\n",
        "    for i in range(10):\n",
        "        num = random.randint(1, 1000)\n",
        "        file.write(str(num) + '\\n')"
      ],
      "metadata": {
        "id": "kGF26vjuGIn6"
      },
      "execution_count": null,
      "outputs": []
    },
    {
      "cell_type": "code",
      "source": [
        "# read the integer line by line into a list\n",
        "intList = []\n",
        "with open('numeros.txt', 'r') as f:\n",
        "    while True:\n",
        "        num = f.readline()\n",
        "        num = num.strip() # strip \\n\n",
        "        if not num:\n",
        "            break\n",
        "        print('num = ', num, type(num))\n",
        "        intList.append(int(num))"
      ],
      "metadata": {
        "colab": {
          "base_uri": "https://localhost:8080/"
        },
        "id": "DEq0KAsQGwtQ",
        "outputId": "72847058-fcb6-47c1-abf3-58bfa42c0cee"
      },
      "execution_count": null,
      "outputs": [
        {
          "output_type": "stream",
          "name": "stdout",
          "text": [
            "num =  894 <class 'str'>\n",
            "num =  658 <class 'str'>\n",
            "num =  640 <class 'str'>\n",
            "num =  847 <class 'str'>\n",
            "num =  236 <class 'str'>\n",
            "num =  639 <class 'str'>\n",
            "num =  187 <class 'str'>\n",
            "num =  465 <class 'str'>\n",
            "num =  835 <class 'str'>\n",
            "num =  490 <class 'str'>\n"
          ]
        }
      ]
    },
    {
      "cell_type": "code",
      "source": [
        "print(intList)"
      ],
      "metadata": {
        "colab": {
          "base_uri": "https://localhost:8080/"
        },
        "id": "aCgtOJ_ZHNGJ",
        "outputId": "ed916650-f3df-40ec-974a-d63201a9732f"
      },
      "execution_count": null,
      "outputs": [
        {
          "output_type": "stream",
          "name": "stdout",
          "text": [
            "[894, 658, 640, 847, 236, 639, 187, 465, 835, 490]\n"
          ]
        }
      ]
    },
    {
      "cell_type": "code",
      "source": [
        "type(intList)"
      ],
      "metadata": {
        "colab": {
          "base_uri": "https://localhost:8080/"
        },
        "id": "ENOeQfS6HR8m",
        "outputId": "ecef9722-90f2-410e-e10e-ee5ffcf1feb5"
      },
      "execution_count": null,
      "outputs": [
        {
          "output_type": "execute_result",
          "data": {
            "text/plain": [
              "list"
            ]
          },
          "metadata": {},
          "execution_count": 18
        }
      ]
    },
    {
      "cell_type": "markdown",
      "source": [
        "## Leyendo todo el archivo a la vez"
      ],
      "metadata": {
        "id": "_qiH5OhoJViy"
      }
    },
    {
      "cell_type": "code",
      "source": [
        "# ver las primeras 10 líneas usando el programa principal\n",
        "! head /content/numeros.txt"
      ],
      "metadata": {
        "colab": {
          "base_uri": "https://localhost:8080/"
        },
        "id": "k67CP9yNHU9d",
        "outputId": "da915edf-da9f-494b-c2d1-c27815de091d"
      },
      "execution_count": null,
      "outputs": [
        {
          "output_type": "stream",
          "name": "stdout",
          "text": [
            "894\n",
            "658\n",
            "640\n",
            "847\n",
            "236\n",
            "639\n",
            "187\n",
            "465\n",
            "835\n",
            "490\n"
          ]
        }
      ]
    },
    {
      "cell_type": "code",
      "source": [
        "# Mostrar las últimas 10 líneas de un archivo\n",
        "!tail -n 10 words.txt"
      ],
      "metadata": {
        "colab": {
          "base_uri": "https://localhost:8080/"
        },
        "id": "Zj1AN5hCHyT4",
        "outputId": "d6d9ed9f-42dc-4a8a-d756-540628368a33"
      },
      "execution_count": null,
      "outputs": [
        {
          "output_type": "stream",
          "name": "stdout",
          "text": [
            "words\n",
            "=====\n",
            "apple\n",
            "ball\n",
            "cat\n",
            "dog\n",
            "zebra\n"
          ]
        }
      ]
    },
    {
      "cell_type": "code",
      "source": [
        "file = 'words.txt' # works on mac/linux\n",
        "with open(file) as f:\n",
        "    data = f.read()"
      ],
      "metadata": {
        "id": "6fgm-OfMH25i"
      },
      "execution_count": null,
      "outputs": []
    },
    {
      "cell_type": "code",
      "source": [
        "data"
      ],
      "metadata": {
        "colab": {
          "base_uri": "https://localhost:8080/",
          "height": 36
        },
        "id": "09BG3PPZH-g6",
        "outputId": "c1599341-4597-4aa7-ecab-ed04d3cf2ac8"
      },
      "execution_count": null,
      "outputs": [
        {
          "output_type": "execute_result",
          "data": {
            "text/plain": [
              "'words\\n=====\\napple\\nball\\ncat\\ndog\\nzebra\\n'"
            ],
            "application/vnd.google.colaboratory.intrinsic+json": {
              "type": "string"
            }
          },
          "metadata": {},
          "execution_count": 22
        }
      ]
    },
    {
      "cell_type": "code",
      "source": [
        "words = data.split('\\n')\n",
        "print('Hay {0} palabras en el archivo.'.format(len(words)))"
      ],
      "metadata": {
        "colab": {
          "base_uri": "https://localhost:8080/"
        },
        "id": "ShzD0egtIAqj",
        "outputId": "df4b6873-5ad0-41f6-999d-0374a51f30fe"
      },
      "execution_count": null,
      "outputs": [
        {
          "output_type": "stream",
          "name": "stdout",
          "text": [
            "Hay 8 palabras en el archivo.\n"
          ]
        }
      ]
    },
    {
      "cell_type": "markdown",
      "source": [
        "## Archivo en orden inverso"
      ],
      "metadata": {
        "id": "ppLlzmZXKB-0"
      }
    },
    {
      "cell_type": "code",
      "source": [
        "def invertir_lineas(archivo_entrada, archivo_salida):\n",
        "    # Leer el archivo de entrada y obtener las líneas\n",
        "    with open(archivo_entrada, 'r') as f:\n",
        "        lineas = f.readlines()\n",
        "\n",
        "    # Invertir el orden de las líneas\n",
        "    lineas_invertidas = reversed(lineas)\n",
        "\n",
        "    # Escribir las líneas invertidas en el archivo de salida\n",
        "    with open(archivo_salida, 'w') as f:\n",
        "        for linea in lineas_invertidas:\n",
        "            f.write(linea)\n",
        "\n",
        "# Nombre del archivo de entrada\n",
        "archivo_entrada = 'entrada.txt'\n",
        "# Nombre del archivo de salida\n",
        "archivo_salida = 'salida.txt'\n",
        "\n",
        "# Llamar a la función para invertir las líneas\n",
        "invertir_lineas(archivo_entrada, archivo_salida)\n"
      ],
      "metadata": {
        "id": "dSlnDCYIKFut"
      },
      "execution_count": null,
      "outputs": []
    }
  ]
}