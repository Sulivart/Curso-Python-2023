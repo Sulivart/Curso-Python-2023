{
  "nbformat": 4,
  "nbformat_minor": 0,
  "metadata": {
    "colab": {
      "provenance": [],
      "authorship_tag": "ABX9TyPRWg9FuGU1v9iqTum8Uodt",
      "include_colab_link": true
    },
    "kernelspec": {
      "name": "python3",
      "display_name": "Python 3"
    },
    "language_info": {
      "name": "python"
    }
  },
  "cells": [
    {
      "cell_type": "markdown",
      "metadata": {
        "id": "view-in-github",
        "colab_type": "text"
      },
      "source": [
        "<a href=\"https://colab.research.google.com/github/Sulivart/Curso-Python-2023/blob/main/Condicionales.ipynb\" target=\"_parent\"><img src=\"https://colab.research.google.com/assets/colab-badge.svg\" alt=\"Open In Colab\"/></a>"
      ]
    },
    {
      "cell_type": "markdown",
      "source": [
        "# Condicionales\n",
        "\n",
        "Las sentencias condicionales o simplemente **condicionales**, nos permite controlar o condicionar el flujo de nuestro código. <br>\n",
        "\n",
        "Dicho de otro modo, nos permite tomar decisiones. <br>\n",
        "\n",
        "\n",
        "**Palabras clave:**\n",
        "if, elif, else\n",
        "\n",
        "## Bloque de código\n",
        "\n",
        "Es un grupo de sentencias (líneas de código) que se ejecuta como una unidad. <br>\n",
        "Están relacionadas y se encuentran bien delimitadas. <br>\n",
        "En Python se usa la **identación** (4 espacios o 1 tabulación (tab)) al inicio de la línea de código.\n",
        "\n",
        "**Depuración de código** <br>\n",
        "**IndentationError:** expected an indented block\n",
        "Este error sucede cuando no tenemos los 4 espacios o 1 tabulación (tab)"
      ],
      "metadata": {
        "id": "u8TecBAORNdf"
      }
    },
    {
      "cell_type": "markdown",
      "source": [
        "# Condicional if\n",
        "\n",
        "Si se cumple la condición, se ejecuta el bloque de código.\n",
        "\n",
        "```\n",
        "if condicion:\n",
        "----bloque de código que se ejecuta.\n",
        "\n",
        "if condicion:\n",
        "    bloque de código que se ejecuta.\n",
        "\n",
        "if True:\n",
        "    bloque de código que se ejecuta.\n",
        "    \n",
        "\n",
        "# Nota: los guiones son una ayuda visual para identificar la identación.\n"
      ],
      "metadata": {
        "id": "VCd6mua9RrCq"
      }
    },
    {
      "cell_type": "markdown",
      "source": [
        "La condición siempre se evalúa.\n",
        "- Si es True se ejecuta el bloque\n",
        "- Si es False NO se ejecuta el bloque\n",
        "\n",
        "Es lunes por la mañana, suena el timbre, despierto con flojera y pienso: <br>\n",
        "- ¿Me quedo más tiempo en la cama o me levanto?\n"
      ],
      "metadata": {
        "id": "foT-MyHWSNXy"
      }
    },
    {
      "cell_type": "markdown",
      "source": [
        "\n",
        "```\n",
        "accion = 'dormir' ó accion = 'levantarse'\n",
        "\n",
        "if accion == 'dormir':\n",
        "    # Inicia bloque\n",
        "    print('Llegaré tarde a trabajar')\n",
        "    print('Me la juego')\n",
        "    # Termina bloque\n",
        "\n",
        "print('Hoy si me duermo más temprano')\n",
        "\n",
        "```"
      ],
      "metadata": {
        "id": "qUeZ-4N2STkA"
      }
    },
    {
      "cell_type": "code",
      "execution_count": null,
      "metadata": {
        "id": "EKpzEHMTQ4ue"
      },
      "outputs": [],
      "source": [
        "accion = True\n",
        "if accion:\n",
        "  print('Se ejecuta este código')"
      ]
    },
    {
      "cell_type": "markdown",
      "source": [
        "# Condicional if, else\n",
        "Si se cumple la condición, se ejecuta el **primer** bloque de código. <br>\n",
        "Si NO se cumple la condición, se ejecuta el **segundo** bloque de código\n",
        "\n",
        "```\n",
        "if condicion:\n",
        "----PRIMER bloque de código.\n",
        "else:\n",
        "----SEGUNDO bloque de código.\n",
        "```\n",
        "\n",
        "**Nota:** El condicional **else** es opcional, pero es una buena práctica siempre escribirlo para finalizar nuestro condicional."
      ],
      "metadata": {
        "id": "G7Jx9NwuSnok"
      }
    },
    {
      "cell_type": "code",
      "source": [
        "accion = 'dormir'\n",
        "# accion = 'levantarse'\n",
        "\n",
        "if accion == 'dormir':\n",
        "  print('Llegaré tarde a trabajar')\n",
        "else:\n",
        "  print('LLegaré con sueño al trabajo')"
      ],
      "metadata": {
        "id": "ujP69_7DSmqK"
      },
      "execution_count": null,
      "outputs": []
    },
    {
      "cell_type": "markdown",
      "source": [
        "# Condicional if, else, elif\n",
        "\n",
        "Con el condicional **if** iniciamos la evaluación, y con **else** cerramos la evaluación. <br>\n",
        "\n",
        "El condicional **elif** es la parte intermedia, que nos permite tener más de dos opciones.\n",
        "\n",
        "\n",
        "\n",
        "```\n",
        "if condicion:\n",
        "----PRIMER bloque de código.\n",
        "elif condicion:\n",
        "----SEGUNDO bloque de código.\n",
        "elif condicion:\n",
        "----TERCER bloque de código.\n",
        "else:\n",
        "----CUARTO bloque de código.\n",
        "```"
      ],
      "metadata": {
        "id": "OemxD5rVSvEt"
      }
    },
    {
      "cell_type": "code",
      "source": [
        "accion = 'dormir'\n",
        "# accion = 'levantarse'\n",
        "\n",
        "if accion == 'dormir':\n",
        "  print('Llegaré tarde a trabajar')\n",
        "elif accion == 'levantarse':\n",
        "  print('LLegaré con sueño al trabajo')\n",
        "else:\n",
        "  print('Error: los valores aceptados son: `dormir` ó `levantarse`')"
      ],
      "metadata": {
        "id": "J_Lq5lkWSyEs"
      },
      "execution_count": null,
      "outputs": []
    },
    {
      "cell_type": "code",
      "source": [
        "temperatura = 15\n",
        "\n",
        "if temperatura < 0:\n",
        "  print('Me congelo!!')\n",
        "elif temperatura >= 0 and temperatura <= 10:\n",
        "  print('Que frío!!')\n",
        "else:\n",
        "  print('Hace calorcito')"
      ],
      "metadata": {
        "id": "xWo-8TZrS0jP"
      },
      "execution_count": null,
      "outputs": []
    },
    {
      "cell_type": "markdown",
      "source": [
        "#Ejemplos"
      ],
      "metadata": {
        "id": "D7CbecSv8d8-"
      }
    },
    {
      "cell_type": "code",
      "source": [
        "# Ejercicio básico 1\n",
        "if True:\n",
        "  print(\"Hola mundo\") # Bloque de código"
      ],
      "metadata": {
        "colab": {
          "base_uri": "https://localhost:8080/"
        },
        "id": "5oSYNukj8f6s",
        "outputId": "441a3be2-1920-4217-f9c4-ca6fe30748f5"
      },
      "execution_count": 1,
      "outputs": [
        {
          "output_type": "stream",
          "name": "stdout",
          "text": [
            "Hola mundo\n"
          ]
        }
      ]
    },
    {
      "cell_type": "code",
      "source": [
        "# Como es False, no se ejecutará el bloque de código\n",
        "if False:\n",
        "  print(\"Hola mundo\") # Bloque de código"
      ],
      "metadata": {
        "id": "Je8-QGl48_4i"
      },
      "execution_count": null,
      "outputs": []
    },
    {
      "cell_type": "code",
      "source": [
        "# Ejercicio básico 2\n",
        "a = 'Fruta'\n",
        "if a == 'Fruta': # Al evaluar la condición se obtiene un True\n",
        "  print('Mi vaiable es igual a fruta')\n",
        "print('Esta línea se ejecuta aunque la condición sea False')"
      ],
      "metadata": {
        "colab": {
          "base_uri": "https://localhost:8080/"
        },
        "id": "T0aJ-o3A9UH6",
        "outputId": "f8af1177-9015-49d8-da75-2fe96e69e382"
      },
      "execution_count": 4,
      "outputs": [
        {
          "output_type": "stream",
          "name": "stdout",
          "text": [
            "Mi vaiable es igual a fruta\n",
            "Esta línea se ejecuta aunque la condición sea False\n"
          ]
        }
      ]
    },
    {
      "cell_type": "code",
      "source": [
        "# Ejercicio básico 3\n",
        "valor_1 = 100.5\n",
        "valor_2 = 100.6\n",
        "\n",
        "if valor_1 > valor_2:\n",
        "  print('El valor_1 es mayor que el valor_2')\n",
        "else:\n",
        "  print('El valor_2 es mayor que el valor_1')"
      ],
      "metadata": {
        "colab": {
          "base_uri": "https://localhost:8080/"
        },
        "id": "_sVjKloe99g4",
        "outputId": "4b55cf31-f28b-47fc-ca01-0224f35945cd"
      },
      "execution_count": 6,
      "outputs": [
        {
          "output_type": "stream",
          "name": "stdout",
          "text": [
            "El valor_2 es mayor que el valor_1\n"
          ]
        }
      ]
    },
    {
      "cell_type": "code",
      "source": [
        "# Ejercicio básico 4\n",
        "numero = int(input('Ingresa un número entre 1 y 5: '))\n",
        "if numero == 1:\n",
        "  print('Ingresaste el número 1')\n",
        "elif  numero == 2:\n",
        "  print('Ingresaste el número 2')\n",
        "elif  numero == 3:\n",
        "  print('Ingresaste el número 3')\n",
        "elif  numero == 4:\n",
        "  print('Ingresaste el número 4')\n",
        "elif  numero == 5:\n",
        "  print('Ingresaste el número 5')\n",
        "else:\n",
        "  print('ERROR')"
      ],
      "metadata": {
        "colab": {
          "base_uri": "https://localhost:8080/"
        },
        "id": "JHlLCLdP-6Fo",
        "outputId": "6b1d27c1-55f7-4b51-de3a-c32e31402ecf"
      },
      "execution_count": 13,
      "outputs": [
        {
          "output_type": "stream",
          "name": "stdout",
          "text": [
            "Ingresa un número entre 1 y 5: 6\n",
            "ERROR\n"
          ]
        }
      ]
    },
    {
      "cell_type": "markdown",
      "source": [
        "# Lab: 'No voy a trabajar'\n",
        "\n",
        "Convertir la canción *No voy a trabajar* a una sentencia de tipo if, elif, else, para los días de la semana."
      ],
      "metadata": {
        "id": "fRG5Lqp0S2o9"
      }
    },
    {
      "cell_type": "code",
      "source": [
        "#Semana = \"Lunes\"\n",
        "#Semana = \"Martes\"\n",
        "#Semana = \"Miércoles\"\n",
        "#Semana = \"Jueves\"\n",
        "#Semana = \"Viernes\"\n",
        "#Semana = \"Sábado\"\n",
        "#Semana = \"Domingo\"\n",
        "Semana = input('Ingrese un día de la semana: ')\n",
        "\n",
        "if Semana == 'Lunes':\n",
        "  print(\"Principio de semana \\nPrincipio de semana? \\nNo voy a trabajar!\")\n",
        "elif Semana == 'Martes':\n",
        "  print(\"Ni te cases ni te embarques \\nPa´ que voy a arriesgarme \\nNo voy a trabajar!\")\n",
        "elif Semana == 'Miércoles':\n",
        "  print(\"Se casa la patrona \\nAy que pachangona! \\nNo voy a trabajar!\")\n",
        "elif Semana == 'Jueves':\n",
        "  print(\"Estoy muy desvelado \\nMe siento hasta mareado \\nNo voy a trabajar!\")\n",
        "elif Semana == 'Viernes':\n",
        "  print(\"Que muere jesucristo! \\nDonde se ha visto? \\nNo voy a trabajar!\")\n",
        "elif Semana == 'Sábado':\n",
        "  print(\"Trabajo medio día \\nPor medio día \\nNo voy a trabajar!\")\n",
        "elif Semana == 'Domingo':\n",
        "  print(\"Día de descanso \\nBien merecido \\nNo voy a trabajar!\")\n",
        "else:\n",
        "  print('ERROR')"
      ],
      "metadata": {
        "colab": {
          "base_uri": "https://localhost:8080/"
        },
        "id": "7fWYxhWSUG0Q",
        "outputId": "5b1e8abd-da1d-4037-844c-6c364e940b8d"
      },
      "execution_count": 15,
      "outputs": [
        {
          "output_type": "stream",
          "name": "stdout",
          "text": [
            "Ingrese un día de la semana: Sanbuena\n",
            "ERROR\n"
          ]
        }
      ]
    },
    {
      "cell_type": "markdown",
      "source": [
        "# Ejercicio: Números pares e impares\n",
        "Generá un código para determinar si un número es par o impar."
      ],
      "metadata": {
        "id": "A6wwWwGOUHyL"
      }
    },
    {
      "cell_type": "code",
      "source": [
        "#num = 1\n",
        "num = 2\n",
        "\n",
        "if num % 2 == 0:\n",
        "  print('El número proporcionado es par')\n",
        "else:\n",
        "  print('El número proporcionado es impar')"
      ],
      "metadata": {
        "colab": {
          "base_uri": "https://localhost:8080/"
        },
        "id": "MnMS0_HsUII0",
        "outputId": "aeaea226-ef7d-4731-968a-2911109dbed2"
      },
      "execution_count": null,
      "outputs": [
        {
          "output_type": "stream",
          "name": "stdout",
          "text": [
            "El número proporcionado es par\n"
          ]
        }
      ]
    },
    {
      "cell_type": "markdown",
      "source": [
        "# Ejercicio: Impuestos\n",
        "Los tramos impositivos para la declaración de ingresos son los siguientes:"
      ],
      "metadata": {
        "id": "tM-CxESAUP3w"
      }
    },
    {
      "cell_type": "code",
      "source": [
        "import pandas as pd\n",
        "pd.DataFrame(columns=['Ingresos', 'Tasa impositiva'],\n",
        "             index=[1, 2, 3, 4],\n",
        "             data=[['Menos de 1,000', '5 %'],\n",
        "                   ['Entre 1,000 y 2,000', '15 %'],\n",
        "                   ['Entre 2,000 y 3,000', '20 %'],\n",
        "                   ['Más de 3,000', '30 %']])"
      ],
      "metadata": {
        "id": "6wHFIP1bUQLK",
        "colab": {
          "base_uri": "https://localhost:8080/",
          "height": 175
        },
        "outputId": "9dc18e1f-23c9-4709-f621-4847c1259753"
      },
      "execution_count": 16,
      "outputs": [
        {
          "output_type": "execute_result",
          "data": {
            "text/plain": [
              "              Ingresos Tasa impositiva\n",
              "1       Menos de 1,000             5 %\n",
              "2  Entre 1,000 y 2,000            15 %\n",
              "3  Entre 2,000 y 3,000            20 %\n",
              "4         Más de 3,000            30 %"
            ],
            "text/html": [
              "\n",
              "\n",
              "  <div id=\"df-04a4ad71-4df6-4880-8ab0-2fab24902982\">\n",
              "    <div class=\"colab-df-container\">\n",
              "      <div>\n",
              "<style scoped>\n",
              "    .dataframe tbody tr th:only-of-type {\n",
              "        vertical-align: middle;\n",
              "    }\n",
              "\n",
              "    .dataframe tbody tr th {\n",
              "        vertical-align: top;\n",
              "    }\n",
              "\n",
              "    .dataframe thead th {\n",
              "        text-align: right;\n",
              "    }\n",
              "</style>\n",
              "<table border=\"1\" class=\"dataframe\">\n",
              "  <thead>\n",
              "    <tr style=\"text-align: right;\">\n",
              "      <th></th>\n",
              "      <th>Ingresos</th>\n",
              "      <th>Tasa impositiva</th>\n",
              "    </tr>\n",
              "  </thead>\n",
              "  <tbody>\n",
              "    <tr>\n",
              "      <th>1</th>\n",
              "      <td>Menos de 1,000</td>\n",
              "      <td>5 %</td>\n",
              "    </tr>\n",
              "    <tr>\n",
              "      <th>2</th>\n",
              "      <td>Entre 1,000 y 2,000</td>\n",
              "      <td>15 %</td>\n",
              "    </tr>\n",
              "    <tr>\n",
              "      <th>3</th>\n",
              "      <td>Entre 2,000 y 3,000</td>\n",
              "      <td>20 %</td>\n",
              "    </tr>\n",
              "    <tr>\n",
              "      <th>4</th>\n",
              "      <td>Más de 3,000</td>\n",
              "      <td>30 %</td>\n",
              "    </tr>\n",
              "  </tbody>\n",
              "</table>\n",
              "</div>\n",
              "      <button class=\"colab-df-convert\" onclick=\"convertToInteractive('df-04a4ad71-4df6-4880-8ab0-2fab24902982')\"\n",
              "              title=\"Convert this dataframe to an interactive table.\"\n",
              "              style=\"display:none;\">\n",
              "\n",
              "  <svg xmlns=\"http://www.w3.org/2000/svg\" height=\"24px\"viewBox=\"0 0 24 24\"\n",
              "       width=\"24px\">\n",
              "    <path d=\"M0 0h24v24H0V0z\" fill=\"none\"/>\n",
              "    <path d=\"M18.56 5.44l.94 2.06.94-2.06 2.06-.94-2.06-.94-.94-2.06-.94 2.06-2.06.94zm-11 1L8.5 8.5l.94-2.06 2.06-.94-2.06-.94L8.5 2.5l-.94 2.06-2.06.94zm10 10l.94 2.06.94-2.06 2.06-.94-2.06-.94-.94-2.06-.94 2.06-2.06.94z\"/><path d=\"M17.41 7.96l-1.37-1.37c-.4-.4-.92-.59-1.43-.59-.52 0-1.04.2-1.43.59L10.3 9.45l-7.72 7.72c-.78.78-.78 2.05 0 2.83L4 21.41c.39.39.9.59 1.41.59.51 0 1.02-.2 1.41-.59l7.78-7.78 2.81-2.81c.8-.78.8-2.07 0-2.86zM5.41 20L4 18.59l7.72-7.72 1.47 1.35L5.41 20z\"/>\n",
              "  </svg>\n",
              "      </button>\n",
              "\n",
              "\n",
              "\n",
              "    <div id=\"df-bd969365-be12-4de0-82f2-98d9651a7a7e\">\n",
              "      <button class=\"colab-df-quickchart\" onclick=\"quickchart('df-bd969365-be12-4de0-82f2-98d9651a7a7e')\"\n",
              "              title=\"Suggest charts.\"\n",
              "              style=\"display:none;\">\n",
              "\n",
              "<svg xmlns=\"http://www.w3.org/2000/svg\" height=\"24px\"viewBox=\"0 0 24 24\"\n",
              "     width=\"24px\">\n",
              "    <g>\n",
              "        <path d=\"M19 3H5c-1.1 0-2 .9-2 2v14c0 1.1.9 2 2 2h14c1.1 0 2-.9 2-2V5c0-1.1-.9-2-2-2zM9 17H7v-7h2v7zm4 0h-2V7h2v10zm4 0h-2v-4h2v4z\"/>\n",
              "    </g>\n",
              "</svg>\n",
              "      </button>\n",
              "    </div>\n",
              "\n",
              "<style>\n",
              "  .colab-df-quickchart {\n",
              "    background-color: #E8F0FE;\n",
              "    border: none;\n",
              "    border-radius: 50%;\n",
              "    cursor: pointer;\n",
              "    display: none;\n",
              "    fill: #1967D2;\n",
              "    height: 32px;\n",
              "    padding: 0 0 0 0;\n",
              "    width: 32px;\n",
              "  }\n",
              "\n",
              "  .colab-df-quickchart:hover {\n",
              "    background-color: #E2EBFA;\n",
              "    box-shadow: 0px 1px 2px rgba(60, 64, 67, 0.3), 0px 1px 3px 1px rgba(60, 64, 67, 0.15);\n",
              "    fill: #174EA6;\n",
              "  }\n",
              "\n",
              "  [theme=dark] .colab-df-quickchart {\n",
              "    background-color: #3B4455;\n",
              "    fill: #D2E3FC;\n",
              "  }\n",
              "\n",
              "  [theme=dark] .colab-df-quickchart:hover {\n",
              "    background-color: #434B5C;\n",
              "    box-shadow: 0px 1px 3px 1px rgba(0, 0, 0, 0.15);\n",
              "    filter: drop-shadow(0px 1px 2px rgba(0, 0, 0, 0.3));\n",
              "    fill: #FFFFFF;\n",
              "  }\n",
              "</style>\n",
              "\n",
              "    <script>\n",
              "      async function quickchart(key) {\n",
              "        const containerElement = document.querySelector('#' + key);\n",
              "        const charts = await google.colab.kernel.invokeFunction(\n",
              "            'suggestCharts', [key], {});\n",
              "      }\n",
              "    </script>\n",
              "\n",
              "      <script>\n",
              "\n",
              "function displayQuickchartButton(domScope) {\n",
              "  let quickchartButtonEl =\n",
              "    domScope.querySelector('#df-bd969365-be12-4de0-82f2-98d9651a7a7e button.colab-df-quickchart');\n",
              "  quickchartButtonEl.style.display =\n",
              "    google.colab.kernel.accessAllowed ? 'block' : 'none';\n",
              "}\n",
              "\n",
              "        displayQuickchartButton(document);\n",
              "      </script>\n",
              "      <style>\n",
              "    .colab-df-container {\n",
              "      display:flex;\n",
              "      flex-wrap:wrap;\n",
              "      gap: 12px;\n",
              "    }\n",
              "\n",
              "    .colab-df-convert {\n",
              "      background-color: #E8F0FE;\n",
              "      border: none;\n",
              "      border-radius: 50%;\n",
              "      cursor: pointer;\n",
              "      display: none;\n",
              "      fill: #1967D2;\n",
              "      height: 32px;\n",
              "      padding: 0 0 0 0;\n",
              "      width: 32px;\n",
              "    }\n",
              "\n",
              "    .colab-df-convert:hover {\n",
              "      background-color: #E2EBFA;\n",
              "      box-shadow: 0px 1px 2px rgba(60, 64, 67, 0.3), 0px 1px 3px 1px rgba(60, 64, 67, 0.15);\n",
              "      fill: #174EA6;\n",
              "    }\n",
              "\n",
              "    [theme=dark] .colab-df-convert {\n",
              "      background-color: #3B4455;\n",
              "      fill: #D2E3FC;\n",
              "    }\n",
              "\n",
              "    [theme=dark] .colab-df-convert:hover {\n",
              "      background-color: #434B5C;\n",
              "      box-shadow: 0px 1px 3px 1px rgba(0, 0, 0, 0.15);\n",
              "      filter: drop-shadow(0px 1px 2px rgba(0, 0, 0, 0.3));\n",
              "      fill: #FFFFFF;\n",
              "    }\n",
              "  </style>\n",
              "\n",
              "      <script>\n",
              "        const buttonEl =\n",
              "          document.querySelector('#df-04a4ad71-4df6-4880-8ab0-2fab24902982 button.colab-df-convert');\n",
              "        buttonEl.style.display =\n",
              "          google.colab.kernel.accessAllowed ? 'block' : 'none';\n",
              "\n",
              "        async function convertToInteractive(key) {\n",
              "          const element = document.querySelector('#df-04a4ad71-4df6-4880-8ab0-2fab24902982');\n",
              "          const dataTable =\n",
              "            await google.colab.kernel.invokeFunction('convertToInteractive',\n",
              "                                                     [key], {});\n",
              "          if (!dataTable) return;\n",
              "\n",
              "          const docLinkHtml = 'Like what you see? Visit the ' +\n",
              "            '<a target=\"_blank\" href=https://colab.research.google.com/notebooks/data_table.ipynb>data table notebook</a>'\n",
              "            + ' to learn more about interactive tables.';\n",
              "          element.innerHTML = '';\n",
              "          dataTable['output_type'] = 'display_data';\n",
              "          await google.colab.output.renderOutput(dataTable, element);\n",
              "          const docLink = document.createElement('div');\n",
              "          docLink.innerHTML = docLinkHtml;\n",
              "          element.appendChild(docLink);\n",
              "        }\n",
              "      </script>\n",
              "    </div>\n",
              "  </div>\n"
            ]
          },
          "metadata": {},
          "execution_count": 16
        }
      ]
    },
    {
      "cell_type": "markdown",
      "source": [
        "Escribir un programa que pregunte al usuario su renta anual y muestre por pantalla el tipo el total de impuestos a pagar en función de la tasa impositiva.\n",
        "1.   Usa la función **input** para solicitar el ingreso del usuario\n",
        "2.   Usa las sentencias condicionales (if, elif, else) para crear el flujo\n",
        "3.   Realiza la operación para obtener el total de impuestos a pagar\n",
        "4.   Imprime los resultados"
      ],
      "metadata": {
        "id": "caNJJgvrUVPx"
      }
    },
    {
      "cell_type": "code",
      "source": [
        "ingreso = float(input('Teclee su ingreso anual: '))\n",
        "if ingreso <= 1000:\n",
        "  impuesto = 0.05*ingreso\n",
        "  print('Como su ingreso anual es menor o igual a $1,000.00 \\nUsted debe pagar de impuestos una tasa del 5% \\nLo que es equivalente a $', impuesto)\n",
        "elif ingreso >= 1001 and ingreso <= 2000:\n",
        "  impuesto = 0.15*ingreso\n",
        "  print('Como su ingreso anual está entre $1,001.00 y $2,000.00 \\nUsted debe pagar de impuestos una tasa del 15% \\nLo que es equivalente a $', impuesto)\n",
        "elif ingreso >= 2001 and ingreso <= 3000:\n",
        "  impuesto = 0.2*ingreso\n",
        "  print('Como su ingreso anual está entre $2,001.00 y $3,000.00 \\nUsted debe pagar de impuestos una tasa del 20% \\nLo que es equivalente a $', impuesto)\n",
        "else:\n",
        "  impuesto = 0.3*ingreso\n",
        "  print('Como su ingreso anual es mayor o igual a $3,001.00 \\nUsted debe pagar de impuestos una tasa del 30% \\nLo que es equivalente a $', impuesto)"
      ],
      "metadata": {
        "id": "3yxGdu-6UVbS",
        "colab": {
          "base_uri": "https://localhost:8080/"
        },
        "outputId": "aaebe8d8-cea7-4c0e-8d5d-e9d230a21b25"
      },
      "execution_count": 31,
      "outputs": [
        {
          "output_type": "stream",
          "name": "stdout",
          "text": [
            "Teclee su ingreso anual: 3555\n",
            "Como su ingreso anual es mayor o igual a $3,001.00 \n",
            "Usted debe pagar de impuestos una tasa del 30% \n",
            "Lo que es equivalente a $ 1066.5\n"
          ]
        }
      ]
    },
    {
      "cell_type": "markdown",
      "source": [
        "## Condicionales anidados\n",
        "\n",
        "```\n",
        "if primer_condicion:\n",
        "----bloque 1 de código.\n",
        "----if segunda_condicion:\n",
        "--------bloque 1A de código.\n",
        "----else:\n",
        "--------bloque 1B de código.\n",
        "else:\n",
        "----bloque 2 de código.\n",
        "----if segunda_condicion:\n",
        "--------bloque 2A de código.\n",
        "----else:\n",
        "--------bloque 2B de código.\n",
        "```"
      ],
      "metadata": {
        "id": "eq_DHXJsUZy6"
      }
    },
    {
      "cell_type": "markdown",
      "source": [
        "## Lab: Login\n",
        "Escribir un programa que pida un usuario y contraseña para iniciar sesión.\n",
        "\n",
        "1.   Solicita el nombre de usuario\n",
        "2.   Solicita el password\n",
        "3.   Revisa que el nombre de usuario sea válido\n",
        "4.   Verifica que la contraseña sea correcta"
      ],
      "metadata": {
        "id": "zzX-iAw-Ukmk"
      }
    },
    {
      "cell_type": "code",
      "source": [
        "# BASE DE DATOS DB\n",
        "user_db = 'cuau2077'\n",
        "password_db = '1234'\n",
        "\n",
        "# Paso 1\n",
        "user = input('Ingrese su usuario: ')\n",
        "print(user)\n",
        "\n",
        "# Paso 2\n",
        "password = input('Ingrese su contraseña: ')\n",
        "print(password)\n",
        "print(type(password))\n",
        "\n",
        "# Paso 3\n",
        "# Verificamos que el usaurio existe en\n",
        "# la base de datos\n",
        "if user == 'cuau2077':\n",
        "  print('El usuario existe')\n",
        "else:\n",
        "  print('Verifique el nombre de usuario')\n",
        "\n",
        "# Verificamos que el usaurio existe en\n",
        "# la base de datos\n",
        "if user == 'cuau2077':\n",
        "  print('El usuario existe')\n",
        "  if password == password: # Paso 4\n",
        "    print('Iniciaste sesión exitosamente')\n",
        "  else:\n",
        "    print('Contraseña incorrecta')\n",
        "else:\n",
        "  print('Verifique el nombre de usuario')"
      ],
      "metadata": {
        "id": "ezUje2HfUZ-b"
      },
      "execution_count": null,
      "outputs": []
    }
  ]
}