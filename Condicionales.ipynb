{
  "nbformat": 4,
  "nbformat_minor": 0,
  "metadata": {
    "colab": {
      "provenance": [],
      "authorship_tag": "ABX9TyO9BIZXfIh471AuclRGTxcl",
      "include_colab_link": true
    },
    "kernelspec": {
      "name": "python3",
      "display_name": "Python 3"
    },
    "language_info": {
      "name": "python"
    }
  },
  "cells": [
    {
      "cell_type": "markdown",
      "metadata": {
        "id": "view-in-github",
        "colab_type": "text"
      },
      "source": [
        "<a href=\"https://colab.research.google.com/github/Sulivart/Curso-Python-2023/blob/main/Condicionales.ipynb\" target=\"_parent\"><img src=\"https://colab.research.google.com/assets/colab-badge.svg\" alt=\"Open In Colab\"/></a>"
      ]
    },
    {
      "cell_type": "markdown",
      "source": [
        "# Condicionales\n",
        "\n",
        "Las sentencias condicionales o simplemente **condicionales**, nos permite controlar o condicionar el flujo de nuestro código. <br>\n",
        "\n",
        "Dicho de otro modo, nos permite tomar decisiones. <br>\n",
        "\n",
        "\n",
        "**Palabras clave:**\n",
        "if, elif, else\n",
        "\n",
        "## Bloque de código\n",
        "\n",
        "Es un grupo de sentencias (líneas de código) que se ejecuta como una unidad. <br>\n",
        "Están relacionadas y se encuentran bien delimitadas. <br>\n",
        "En Python se usa la **identación** (4 espacios o 1 tabulación (tab)) al inicio de la línea de código.\n",
        "\n",
        "**Depuración de código** <br>\n",
        "**IndentationError:** expected an indented block\n",
        "Este error sucede cuando no tenemos los 4 espacios o 1 tabulación (tab)"
      ],
      "metadata": {
        "id": "u8TecBAORNdf"
      }
    },
    {
      "cell_type": "markdown",
      "source": [
        "# Condicional if\n",
        "\n",
        "Si se cumple la condición, se ejecuta el bloque de código.\n",
        "\n",
        "```\n",
        "if condicion:\n",
        "----bloque de código que se ejecuta.\n",
        "\n",
        "if condicion:\n",
        "    bloque de código que se ejecuta.\n",
        "\n",
        "if True:\n",
        "    bloque de código que se ejecuta.\n",
        "    \n",
        "\n",
        "# Nota: los guiones son una ayuda visual para identificar la identación.\n"
      ],
      "metadata": {
        "id": "VCd6mua9RrCq"
      }
    },
    {
      "cell_type": "markdown",
      "source": [
        "La condición siempre se evalúa.\n",
        "- Si es True se ejecuta el bloque\n",
        "- Si es False NO se ejecuta el bloque\n",
        "\n",
        "Es lunes por la mañana, suena el timbre, despierto con flojera y pienso: <br>\n",
        "- ¿Me quedo más tiempo en la cama o me levanto?\n"
      ],
      "metadata": {
        "id": "foT-MyHWSNXy"
      }
    },
    {
      "cell_type": "markdown",
      "source": [
        "\n",
        "```\n",
        "accion = 'dormir' ó accion = 'levantarse'\n",
        "\n",
        "if accion == 'dormir':\n",
        "    # Inicia bloque\n",
        "    print('Llegaré tarde a trabajar')\n",
        "    print('Me la juego')\n",
        "    # Termina bloque\n",
        "\n",
        "print('Hoy si me duermo más temprano')\n",
        "\n",
        "```"
      ],
      "metadata": {
        "id": "qUeZ-4N2STkA"
      }
    },
    {
      "cell_type": "code",
      "execution_count": null,
      "metadata": {
        "id": "EKpzEHMTQ4ue"
      },
      "outputs": [],
      "source": [
        "accion = True\n",
        "if accion:\n",
        "  print('Se ejecuta este código')"
      ]
    },
    {
      "cell_type": "markdown",
      "source": [
        "# Condicional if, else\n",
        "Si se cumple la condición, se ejecuta el **primer** bloque de código. <br>\n",
        "Si NO se cumple la condición, se ejecuta el **segundo** bloque de código\n",
        "\n",
        "```\n",
        "if condicion:\n",
        "----PRIMER bloque de código.\n",
        "else:\n",
        "----SEGUNDO bloque de código.\n",
        "```\n",
        "\n",
        "**Nota:** El condicional **else** es opcional, pero es una buena práctica siempre escribirlo para finalizar nuestro condicional."
      ],
      "metadata": {
        "id": "G7Jx9NwuSnok"
      }
    },
    {
      "cell_type": "code",
      "source": [
        "accion = 'dormir'\n",
        "# accion = 'levantarse'\n",
        "\n",
        "if accion == 'dormir':\n",
        "  print('Llegaré tarde a trabajar')\n",
        "else:\n",
        "  print('LLegaré con sueño al trabajo')"
      ],
      "metadata": {
        "id": "ujP69_7DSmqK"
      },
      "execution_count": null,
      "outputs": []
    },
    {
      "cell_type": "markdown",
      "source": [
        "# Condicional if, else, elif\n",
        "\n",
        "Con el condicional **if** iniciamos la evaluación, y con **else** cerramos la evaluación. <br>\n",
        "\n",
        "El condicional **elif** es la parte intermedia, que nos permite tener más de dos opciones.\n",
        "\n",
        "\n",
        "\n",
        "```\n",
        "if condicion:\n",
        "----PRIMER bloque de código.\n",
        "elif condicion:\n",
        "----SEGUNDO bloque de código.\n",
        "elif condicion:\n",
        "----TERCER bloque de código.\n",
        "else:\n",
        "----CUARTO bloque de código.\n",
        "```"
      ],
      "metadata": {
        "id": "OemxD5rVSvEt"
      }
    },
    {
      "cell_type": "code",
      "source": [
        "accion = 'dormir'\n",
        "# accion = 'levantarse'\n",
        "\n",
        "if accion == 'dormir':\n",
        "  print('Llegaré tarde a trabajar')\n",
        "elif accion == 'levantarse':\n",
        "  print('LLegaré con sueño al trabajo')\n",
        "else:\n",
        "  print('Error: los valores aceptados son: `dormir` ó `levantarse`')"
      ],
      "metadata": {
        "id": "J_Lq5lkWSyEs"
      },
      "execution_count": null,
      "outputs": []
    },
    {
      "cell_type": "code",
      "source": [
        "temperatura = 15\n",
        "\n",
        "if temperatura < 0:\n",
        "  print('Me congelo!!')\n",
        "elif temperatura >= 0 and temperatura <= 10:\n",
        "  print('Que frío!!')\n",
        "else:\n",
        "  print('Hace calorcito')"
      ],
      "metadata": {
        "id": "xWo-8TZrS0jP"
      },
      "execution_count": null,
      "outputs": []
    },
    {
      "cell_type": "markdown",
      "source": [
        "# Lab: 'No voy a trabajar'\n",
        "\n",
        "Convertir la canción *No voy a trabajar* a una sentencia de tipo if, elif, else, para los días de la semana."
      ],
      "metadata": {
        "id": "fRG5Lqp0S2o9"
      }
    },
    {
      "cell_type": "code",
      "source": [],
      "metadata": {
        "id": "7fWYxhWSUG0Q"
      },
      "execution_count": null,
      "outputs": []
    },
    {
      "cell_type": "markdown",
      "source": [
        "# Ejercicio: Números pares e impares\n",
        "Generá un código para determinar si un número es par o impar."
      ],
      "metadata": {
        "id": "A6wwWwGOUHyL"
      }
    },
    {
      "cell_type": "code",
      "source": [],
      "metadata": {
        "id": "MnMS0_HsUII0"
      },
      "execution_count": null,
      "outputs": []
    },
    {
      "cell_type": "markdown",
      "source": [
        "# Ejercicio: Impuestos\n",
        "Los tramos impositivos para la declaración de ingresos son los siguientes:"
      ],
      "metadata": {
        "id": "tM-CxESAUP3w"
      }
    },
    {
      "cell_type": "code",
      "source": [
        "import pandas as pd\n",
        "pd.DataFrame(columns=['Ingresos', 'Tasa impositiva'],\n",
        "             index=[1, 2, 3, 4],\n",
        "             data=[['Menos de 1,000', '5 %'],\n",
        "                   ['Entre 1,000 y 2,000', '15 %'],\n",
        "                   ['Entre 2,000 y 3,000', '20 %'],\n",
        "                   ['Más de 3,000', '30 %']])"
      ],
      "metadata": {
        "id": "6wHFIP1bUQLK"
      },
      "execution_count": null,
      "outputs": []
    },
    {
      "cell_type": "markdown",
      "source": [
        "Escribir un programa que pregunte al usuario su renta anual y muestre por pantalla el tipo el total de impuestos a pagar en función de la tasa impositiva.\n",
        "1.   Usa la función **input** para solicitar el ingreso del usuario\n",
        "2.   Usa las sentencias condicionales (if, elif, else) para crear el flujo\n",
        "3.   Realiza la operación para obtener el total de impuestos a pagar\n",
        "4.   Imprime los resultados"
      ],
      "metadata": {
        "id": "caNJJgvrUVPx"
      }
    },
    {
      "cell_type": "code",
      "source": [],
      "metadata": {
        "id": "3yxGdu-6UVbS"
      },
      "execution_count": null,
      "outputs": []
    },
    {
      "cell_type": "markdown",
      "source": [
        "## Condicionales anidados\n",
        "\n",
        "```\n",
        "if primer_condicion:\n",
        "----bloque 1 de código.\n",
        "----if segunda_condicion:\n",
        "--------bloque 1A de código.\n",
        "----else:\n",
        "--------bloque 1B de código.\n",
        "else:\n",
        "----bloque 2 de código.\n",
        "----if segunda_condicion:\n",
        "--------bloque 2A de código.\n",
        "----else:\n",
        "--------bloque 2B de código.\n",
        "```"
      ],
      "metadata": {
        "id": "eq_DHXJsUZy6"
      }
    },
    {
      "cell_type": "markdown",
      "source": [
        "## Lab: Login\n",
        "Escribir un programa que pida un usuario y contraseña para iniciar sesión.\n",
        "\n",
        "1.   Solicita el nombre de usuario\n",
        "2.   Solicita el password\n",
        "3.   Revisa que el nombre de usuario sea válido\n",
        "4.   Verifica que la contraseña sea correcta"
      ],
      "metadata": {
        "id": "zzX-iAw-Ukmk"
      }
    },
    {
      "cell_type": "code",
      "source": [
        "# BASE DE DATOS DB\n",
        "user_db = 'cuau2077'\n",
        "password_db = '1234'\n",
        "\n",
        "# Paso 1\n",
        "user = input('Ingrese su usuario: ')\n",
        "print(user)\n",
        "\n",
        "# Paso 2\n",
        "password = input('Ingrese su contraseña: ')\n",
        "print(password)\n",
        "print(type(password))\n",
        "\n",
        "# Paso 3\n",
        "# Verificamos que el usaurio existe en\n",
        "# la base de datos\n",
        "if user == 'cuau2077':\n",
        "  print('El usuario existe')\n",
        "else:\n",
        "  print('Verifique el nombre de usuario')\n",
        "\n",
        "# Verificamos que el usaurio existe en\n",
        "# la base de datos\n",
        "if user == 'cuau2077':\n",
        "  print('El usuario existe')\n",
        "  if password == password: # Paso 4\n",
        "    print('Iniciaste sesión exitosamente')\n",
        "  else:\n",
        "    print('Contraseña incorrecta')\n",
        "else:\n",
        "  print('Verifique el nombre de usuario')"
      ],
      "metadata": {
        "id": "ezUje2HfUZ-b"
      },
      "execution_count": null,
      "outputs": []
    }
  ]
}