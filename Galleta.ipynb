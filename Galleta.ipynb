{
  "nbformat": 4,
  "nbformat_minor": 0,
  "metadata": {
    "colab": {
      "provenance": [],
      "authorship_tag": "ABX9TyPxbASVY0DKbDrto+4ayeni",
      "include_colab_link": true
    },
    "kernelspec": {
      "name": "python3",
      "display_name": "Python 3"
    },
    "language_info": {
      "name": "python"
    }
  },
  "cells": [
    {
      "cell_type": "markdown",
      "metadata": {
        "id": "view-in-github",
        "colab_type": "text"
      },
      "source": [
        "<a href=\"https://colab.research.google.com/github/Sulivart/Curso-Python-2023/blob/main/Galleta.ipynb\" target=\"_parent\"><img src=\"https://colab.research.google.com/assets/colab-badge.svg\" alt=\"Open In Colab\"/></a>"
      ]
    },
    {
      "cell_type": "markdown",
      "source": [
        "# Galleta\n",
        "Crear la clase **Galleta**, la cual reciba los siguiente argumentos:\n",
        "\n",
        "- sabor: string\n",
        "- diametro: float\n",
        "- chispas: bool\n",
        "\n",
        "La clase deberá regresar el peso de la galleta. Una galleta Oreo mide 4.4 cm de diametro con un peso de 11 g.\n",
        "\n",
        "Si la galleta tiene chispas, añade 2 gr al peso final.\n",
        "\n",
        "Ejemplo: Una galleta con chispas y un diametro de 4.4 cm, pesará 13 gr"
      ],
      "metadata": {
        "id": "mH3mijKBUuT4"
      }
    },
    {
      "cell_type": "code",
      "source": [
        "class Galleta:\n",
        "  def __init__(self, sabor, diametro, chispas):\n",
        "    self.sabor = str(sabor)\n",
        "    self.diametro = float(diametro)\n",
        "    self.chispas =  bool(chispas)\n",
        "\n",
        "  def peso(self):\n",
        "    if self.chispas == 0:\n",
        "      peso = (self.diametro * 11)/ 4.4\n",
        "    elif self.chispas == 1:\n",
        "      peso = (((self.diametro * 11)/ 4.4) + 2)\n",
        "    return peso"
      ],
      "metadata": {
        "id": "xQHu9_scUzKW"
      },
      "execution_count": 1,
      "outputs": []
    },
    {
      "cell_type": "code",
      "source": [
        "galletas = Galleta('chocolate', 4.4, 0)"
      ],
      "metadata": {
        "id": "FNKoAV8if7A4"
      },
      "execution_count": 2,
      "outputs": []
    },
    {
      "cell_type": "code",
      "source": [
        "galletas.peso()"
      ],
      "metadata": {
        "colab": {
          "base_uri": "https://localhost:8080/"
        },
        "id": "fV-A_JszgCvp",
        "outputId": "49088e26-83a0-4593-c45d-fd6ab98d395b"
      },
      "execution_count": 3,
      "outputs": [
        {
          "output_type": "execute_result",
          "data": {
            "text/plain": [
              "11.0"
            ]
          },
          "metadata": {},
          "execution_count": 3
        }
      ]
    },
    {
      "cell_type": "code",
      "source": [
        "galletas = Galleta('chocolate', 4.4, 1)"
      ],
      "metadata": {
        "id": "Nfs2sOqVaSDD"
      },
      "execution_count": 4,
      "outputs": []
    },
    {
      "cell_type": "code",
      "source": [
        "galletas.peso()"
      ],
      "metadata": {
        "colab": {
          "base_uri": "https://localhost:8080/"
        },
        "id": "yCpSSClMeqmI",
        "outputId": "47470951-f08d-43a8-bd31-74fcff214640"
      },
      "execution_count": 5,
      "outputs": [
        {
          "output_type": "execute_result",
          "data": {
            "text/plain": [
              "13.0"
            ]
          },
          "metadata": {},
          "execution_count": 5
        }
      ]
    }
  ]
}