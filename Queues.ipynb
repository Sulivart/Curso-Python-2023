{
  "nbformat": 4,
  "nbformat_minor": 0,
  "metadata": {
    "colab": {
      "provenance": [],
      "authorship_tag": "ABX9TyPIeXiLmLM1h4Fzi5CGyO/N",
      "include_colab_link": true
    },
    "kernelspec": {
      "name": "python3",
      "display_name": "Python 3"
    },
    "language_info": {
      "name": "python"
    }
  },
  "cells": [
    {
      "cell_type": "markdown",
      "metadata": {
        "id": "view-in-github",
        "colab_type": "text"
      },
      "source": [
        "<a href=\"https://colab.research.google.com/github/Sulivart/Curso-Python-2023/blob/main/Queues.ipynb\" target=\"_parent\"><img src=\"https://colab.research.google.com/assets/colab-badge.svg\" alt=\"Open In Colab\"/></a>"
      ]
    },
    {
      "cell_type": "markdown",
      "source": [
        "# Queues\n",
        "\n",
        "- Otro adaptador de contenedor o ADT, que suele ser una estructura de datos de tipo primero en entrar, primero en salir (**FIFO**)\n",
        "- Imita la cola / línea del mundo real de personas que esperan algo\n",
        "- La regla que determina quién va a continuación se llama política de colas\n",
        "- La política de colas más general es la cola prioritaria, en la que a cada artículo/persona se le asigna una prioridad y el elemento con mayor prioridad va primero, independientemente del orden de llegada\n",
        "\n",
        "## Queue ADT\n",
        "\n",
        "- queque ADT se define mediante las siguientes operaciones:\n",
        "  - **\\_\\_init\\_\\_ :** inicializa\n",
        "  - **insert :** agrega un nuevo item a la fila\n",
        "  - **remove :** remueve y regresa el primer elemento que fue agregado\n",
        "  - **is_empty :** Valida si fila está vacía"
      ],
      "metadata": {
        "id": "D9SRy-c1N1pB"
      }
    },
    {
      "cell_type": "markdown",
      "source": [
        "## Linked Queue"
      ],
      "metadata": {
        "id": "dfrbV6_HOApZ"
      }
    },
    {
      "cell_type": "code",
      "execution_count": null,
      "metadata": {
        "id": "yTgDU_xaN0yT"
      },
      "outputs": [],
      "source": [
        "class Node:\n",
        "  def __init__(self, data):\n",
        "    self.cargo = data\n",
        "    # next es de tipo Node\n",
        "    self.next:Node = None\n",
        "\n",
        "  def __str__(self):\n",
        "    return f\"Estoy dentro del nodo y tengo el valor igual a {self.cargo}\""
      ]
    },
    {
      "cell_type": "code",
      "source": [
        "node = Node(10)"
      ],
      "metadata": {
        "id": "aYgadTcNOLI7"
      },
      "execution_count": null,
      "outputs": []
    },
    {
      "cell_type": "code",
      "source": [
        "print(f\"El valor es igual a {node.cargo}\")"
      ],
      "metadata": {
        "id": "VP0lX-jUOM20"
      },
      "execution_count": null,
      "outputs": []
    },
    {
      "cell_type": "code",
      "source": [
        "print(node)"
      ],
      "metadata": {
        "id": "qnDvpVqSQsRx"
      },
      "execution_count": null,
      "outputs": []
    },
    {
      "cell_type": "code",
      "source": [
        "class Queue:\n",
        "    def __init__(self):\n",
        "        self.length = 0\n",
        "        self.head = None\n",
        "        self.tail = None\n",
        "\n",
        "    def is_empty(self):\n",
        "        return self.length == 0\n",
        "\n",
        "    def insert(self, data):\n",
        "        node = Node(data)\n",
        "        if not self.head: # empty queue\n",
        "            print(\"Creando head y tail\")\n",
        "            self.head = self.tail = node\n",
        "        else:\n",
        "            print(\"Agregando un nuevo nodo\")\n",
        "            # agrega un nuevo nodo, al último nodo\n",
        "            self.tail.next = node\n",
        "            self.tail = node\n",
        "        self.length += 1\n",
        "\n",
        "    def remove(self):\n",
        "        data = self.head.cargo\n",
        "        # make the head point to 2nd element\n",
        "        self.head = self.head.next\n",
        "        self.length -= 1\n",
        "        # update tail if the queue becomes empty after removing the first node\n",
        "        if self.length == 0:\n",
        "            self.tail = None\n",
        "\n",
        "        return data\n",
        "\n",
        "    def __len__(self):\n",
        "        return self.length"
      ],
      "metadata": {
        "id": "CUrgGNvmOOlb"
      },
      "execution_count": null,
      "outputs": []
    },
    {
      "cell_type": "markdown",
      "source": [
        "## Test of Queue ADT\n",
        "Insertando primer elemento"
      ],
      "metadata": {
        "id": "cVVg31HgOT0z"
      }
    },
    {
      "cell_type": "code",
      "source": [
        "q = Queue()\n",
        "q.insert(1)"
      ],
      "metadata": {
        "id": "Hu5LApNEOQz0"
      },
      "execution_count": null,
      "outputs": []
    },
    {
      "cell_type": "code",
      "source": [
        "type(q.head)"
      ],
      "metadata": {
        "id": "yGhKxbZQOftV"
      },
      "execution_count": null,
      "outputs": []
    },
    {
      "cell_type": "code",
      "source": [
        "q.head.cargo"
      ],
      "metadata": {
        "id": "GkYoBizGOg_i"
      },
      "execution_count": null,
      "outputs": []
    },
    {
      "cell_type": "code",
      "source": [
        "type(q.tail)"
      ],
      "metadata": {
        "id": "i_GKAXWVQ9T8"
      },
      "execution_count": null,
      "outputs": []
    },
    {
      "cell_type": "code",
      "source": [
        "q.tail.cargo"
      ],
      "metadata": {
        "id": "x4b4s0f1Oiau"
      },
      "execution_count": null,
      "outputs": []
    },
    {
      "cell_type": "code",
      "source": [
        "q.head.next"
      ],
      "metadata": {
        "id": "QlMsGhXKOjuT"
      },
      "execution_count": null,
      "outputs": []
    },
    {
      "cell_type": "code",
      "source": [
        "q.tail.next"
      ],
      "metadata": {
        "id": "huFoQ7CPOlI2"
      },
      "execution_count": null,
      "outputs": []
    },
    {
      "cell_type": "markdown",
      "source": [
        "Insertando segundo elemento"
      ],
      "metadata": {
        "id": "hRGNvFt8Om5e"
      }
    },
    {
      "cell_type": "code",
      "source": [
        "q.insert(2)"
      ],
      "metadata": {
        "id": "ukXph0jWOpk3"
      },
      "execution_count": null,
      "outputs": []
    },
    {
      "cell_type": "code",
      "source": [
        "q.head.cargo"
      ],
      "metadata": {
        "id": "69fusUt-Opw3"
      },
      "execution_count": null,
      "outputs": []
    },
    {
      "cell_type": "code",
      "source": [
        "q.head.next"
      ],
      "metadata": {
        "id": "4jh7ER7HOp0n"
      },
      "execution_count": null,
      "outputs": []
    },
    {
      "cell_type": "code",
      "source": [
        "q.head.next.cargo"
      ],
      "metadata": {
        "id": "-RTPHzFZOp4Y"
      },
      "execution_count": null,
      "outputs": []
    },
    {
      "cell_type": "code",
      "source": [
        "q.tail.cargo"
      ],
      "metadata": {
        "id": "UA1AgZ0iOp7S"
      },
      "execution_count": null,
      "outputs": []
    },
    {
      "cell_type": "code",
      "source": [
        "q.tail.next"
      ],
      "metadata": {
        "id": "ZMtW1C73Op-O"
      },
      "execution_count": null,
      "outputs": []
    },
    {
      "cell_type": "markdown",
      "source": [
        "Insertando el tercer elemento"
      ],
      "metadata": {
        "id": "jFBLOBFzO2KC"
      }
    },
    {
      "cell_type": "code",
      "source": [
        "q.insert('a')"
      ],
      "metadata": {
        "id": "4Aa2I_UXO60J"
      },
      "execution_count": null,
      "outputs": []
    },
    {
      "cell_type": "code",
      "source": [
        "q.head.cargo"
      ],
      "metadata": {
        "id": "urcJf52LO7Yx"
      },
      "execution_count": null,
      "outputs": []
    },
    {
      "cell_type": "code",
      "source": [
        "q.head.next.next.next.cargo"
      ],
      "metadata": {
        "id": "TfsmeS8kO7fS"
      },
      "execution_count": null,
      "outputs": []
    },
    {
      "cell_type": "code",
      "source": [
        "type(q)"
      ],
      "metadata": {
        "id": "imgvLVl3RShH"
      },
      "execution_count": null,
      "outputs": []
    },
    {
      "cell_type": "code",
      "source": [
        "len(q)"
      ],
      "metadata": {
        "id": "hSGb9FkmO7nE"
      },
      "execution_count": null,
      "outputs": []
    },
    {
      "cell_type": "code",
      "source": [
        "q.tail.cargo"
      ],
      "metadata": {
        "id": "IwBilNk3O7wM"
      },
      "execution_count": null,
      "outputs": []
    },
    {
      "cell_type": "markdown",
      "source": [
        "Eliminando el head"
      ],
      "metadata": {
        "id": "U16T4b_jPD46"
      }
    },
    {
      "cell_type": "code",
      "source": [
        "q.remove()"
      ],
      "metadata": {
        "id": "D2dRk5FvPEcc"
      },
      "execution_count": null,
      "outputs": []
    },
    {
      "cell_type": "code",
      "source": [
        "q.head.cargo"
      ],
      "metadata": {
        "id": "x7itTXSXPEgZ"
      },
      "execution_count": null,
      "outputs": []
    },
    {
      "cell_type": "code",
      "source": [
        "len(q)"
      ],
      "metadata": {
        "id": "aWWjjOk1RYfX"
      },
      "execution_count": null,
      "outputs": []
    },
    {
      "cell_type": "markdown",
      "source": [
        "## Priority Queue ADT\n",
        "- Usa los mismos métodos que Queue con la única diferencia en la función de eliminación; donde el elemento eliminado es la prioridad más alta\n",
        "    - el elemento eliminado no es necesariamente el primero que se agregó; más bien un elemento en la cola con la prioridad más alta\n",
        "    - por ejemplo, si los elementos en la cola tienen nombres, podemos elegir el elemento en orden alfabético"
      ],
      "metadata": {
        "id": "EPVCamq6PNH-"
      }
    },
    {
      "cell_type": "code",
      "source": [
        "class PriorityQueue:\n",
        "    def __init__(self):\n",
        "        self.items = []\n",
        "\n",
        "    def is_empty(self):\n",
        "        return self.items == []\n",
        "\n",
        "    def insert(self, data):\n",
        "        self.items.append(data)\n",
        "\n",
        "    def remove(self):\n",
        "        maxi = 0\n",
        "        for i in range(1, len(self.items)):\n",
        "            if self.items[i] > self.items[maxi]:\n",
        "                maxi = i\n",
        "        item = self.items[maxi]\n",
        "        del self.items[maxi]\n",
        "        return item\n",
        "\n",
        "    def __len__(self):\n",
        "        return len(self.items)"
      ],
      "metadata": {
        "id": "6IezzS6xPEk6"
      },
      "execution_count": null,
      "outputs": []
    },
    {
      "cell_type": "markdown",
      "source": [
        "### Test priority queue ADT"
      ],
      "metadata": {
        "id": "54L6BQr9PSS_"
      }
    },
    {
      "cell_type": "code",
      "source": [
        "q = PriorityQueue()\n",
        "for num in [15, 13, 11, 19, 2]:\n",
        "    q.insert(num)"
      ],
      "metadata": {
        "id": "DyZiFZ-MPEv8"
      },
      "execution_count": null,
      "outputs": []
    },
    {
      "cell_type": "code",
      "source": [
        "q.items"
      ],
      "metadata": {
        "id": "Tt-_HSkWPE7j"
      },
      "execution_count": null,
      "outputs": []
    },
    {
      "cell_type": "code",
      "source": [
        "while not q.is_empty():\n",
        "    print(q.remove())"
      ],
      "metadata": {
        "id": "bD-vuxhePYg2"
      },
      "execution_count": null,
      "outputs": []
    },
    {
      "cell_type": "markdown",
      "source": [
        "# Clase Driver"
      ],
      "metadata": {
        "id": "hsjUtfjdPYnG"
      }
    },
    {
      "cell_type": "code",
      "source": [
        "class Driver:\n",
        "    def __init__(self, name, score):\n",
        "      self.name = name\n",
        "      self.score = score\n",
        "\n",
        "    def __str__(self):\n",
        "      return f\"El piloto {self.name} tiene un puntaje de {self.score}\"\n",
        "\n",
        "    # Puntaje más bajo tiene la prioridad más alta.\n",
        "    # other es otro objeto de la clase Driver\n",
        "    def __gt__(self, other):\n",
        "      # __gt__ greater than\n",
        "      return self.score < other.score"
      ],
      "metadata": {
        "id": "vSupIHNPPa9G"
      },
      "execution_count": null,
      "outputs": []
    },
    {
      "cell_type": "code",
      "source": [
        "checo = Driver('Sergio Pérez', 171)"
      ],
      "metadata": {
        "id": "AlZ8iQf-PbC4"
      },
      "execution_count": null,
      "outputs": []
    },
    {
      "cell_type": "code",
      "source": [
        "print(checo)"
      ],
      "metadata": {
        "id": "oNpSfm0PPbJN"
      },
      "execution_count": null,
      "outputs": []
    },
    {
      "cell_type": "code",
      "source": [
        "fer = Driver('Fernando Alonso', 139)\n",
        "max = Driver('Max Verstappen', 281)\n",
        "lewis = Driver('Lewis Hamilton', 133)"
      ],
      "metadata": {
        "id": "EUMvo7IAPbRG"
      },
      "execution_count": null,
      "outputs": []
    },
    {
      "cell_type": "code",
      "source": [
        "checo.score > max.score"
      ],
      "metadata": {
        "id": "Nuyt1Lu2PbY-"
      },
      "execution_count": null,
      "outputs": []
    },
    {
      "cell_type": "code",
      "source": [
        "checo > max"
      ],
      "metadata": {
        "id": "Fho72wEUPnlg"
      },
      "execution_count": null,
      "outputs": []
    },
    {
      "cell_type": "code",
      "source": [
        "pq = PriorityQueue()\n",
        "pq.insert(checo)\n",
        "pq.insert(max)\n",
        "pq.insert(fer)\n",
        "pq.insert(lewis)"
      ],
      "metadata": {
        "id": "dUsHQQ_aPnrQ"
      },
      "execution_count": null,
      "outputs": []
    },
    {
      "cell_type": "code",
      "source": [
        "pq.items"
      ],
      "metadata": {
        "id": "u-L46lV5RoVH"
      },
      "execution_count": null,
      "outputs": []
    },
    {
      "cell_type": "code",
      "source": [
        "for i in pq.items:\n",
        "  print(i)"
      ],
      "metadata": {
        "id": "sS9_M_FQPnyv"
      },
      "execution_count": null,
      "outputs": []
    },
    {
      "cell_type": "code",
      "source": [
        "print(pq.remove())"
      ],
      "metadata": {
        "id": "jgrq_KFQPn5H"
      },
      "execution_count": null,
      "outputs": []
    },
    {
      "cell_type": "code",
      "source": [
        "while not pq.is_empty():\n",
        "    print(pq.remove())"
      ],
      "metadata": {
        "id": "pp_GpYtnPoBo"
      },
      "execution_count": null,
      "outputs": []
    }
  ]
}