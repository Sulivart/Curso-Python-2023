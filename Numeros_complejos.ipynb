{
  "nbformat": 4,
  "nbformat_minor": 0,
  "metadata": {
    "colab": {
      "provenance": [],
      "authorship_tag": "ABX9TyP3c6VHZeOwrS1VzhOlIdLi",
      "include_colab_link": true
    },
    "kernelspec": {
      "name": "python3",
      "display_name": "Python 3"
    },
    "language_info": {
      "name": "python"
    }
  },
  "cells": [
    {
      "cell_type": "markdown",
      "metadata": {
        "id": "view-in-github",
        "colab_type": "text"
      },
      "source": [
        "<a href=\"https://colab.research.google.com/github/Sulivart/Curso-Python-2023/blob/main/Numeros_complejos.ipynb\" target=\"_parent\"><img src=\"https://colab.research.google.com/assets/colab-badge.svg\" alt=\"Open In Colab\"/></a>"
      ]
    },
    {
      "cell_type": "markdown",
      "source": [
        "# Los números complejos y sus distintas formas"
      ],
      "metadata": {
        "id": "cE5kKGNosnHU"
      }
    },
    {
      "cell_type": "code",
      "source": [
        "import math\n",
        "import cmath"
      ],
      "metadata": {
        "id": "T5O_aZru5zf5"
      },
      "execution_count": 1,
      "outputs": []
    },
    {
      "cell_type": "markdown",
      "source": [
        "## De forma rectangular o cartesiana a forma polar o trigonométrica y viceversa"
      ],
      "metadata": {
        "id": "bOJa0zZl1dX1"
      }
    },
    {
      "cell_type": "code",
      "source": [
        "def cartesiana_a_polar(real, imag):\n",
        "    z = complex(real, imag)\n",
        "    r = abs(z)\n",
        "    theta_rad = cmath.phase(z)\n",
        "    theta_gra = math.degrees(theta_rad)\n",
        "    return (round(r, 5), round(theta_rad, 5), round(theta_gra, 5))\n",
        "\n",
        "def polar_a_cartesiana(r, theta, grados = True):\n",
        "    if grados: theta_rad = math.radians(theta)\n",
        "    else: theta_rad = theta\n",
        "    real = r * math.cos(theta_rad)\n",
        "    imag = r * math.sin(theta_rad)\n",
        "    return (round(real, 5), round(imag, 5))\n",
        "\n",
        "def main():\n",
        "    print(\"Bienvenido al conversor de números complejos.\")\n",
        "    n = int(input(\"Ingrese la cantidad de números complejos que desea convertir: \"))\n",
        "\n",
        "    for i in range(n):\n",
        "        print(f\"\\nNúmero complejo #{i + 1}:\")\n",
        "        print(\"1. Convertir de cartesiana a polar.\")\n",
        "        print(\"2. Convertir de polar a cartesiana.\")\n",
        "        eleccion = int(input(\"Seleccione una opción: \"))\n",
        "\n",
        "        if eleccion == 1:\n",
        "            real = float(input(\"\\nIngrese la parte real del número complejo: \"))\n",
        "            imag = float(input(\"Ingrese la parte imaginaria del número complejo: \"))\n",
        "            r, theta_rad, theta_deg = cartesiana_a_polar(real, imag)\n",
        "            print(f\"\\nForma polar en radianes del número complejo: z = {r} * (cos({theta_rad}) + (i * sin({theta_rad}°)))\")\n",
        "            print(f\"Forma polar en grados del número complejo: z = {r} * (cos({theta_deg}°) + (i * sin({theta_deg}°)))\")\n",
        "\n",
        "        elif eleccion == 2:\n",
        "            r = float(input(\"\\nIngrese el valor de r (modulo): \"))\n",
        "            theta = float(input(\"Ingrese el valor del argumento en grados o radianes: \"))\n",
        "            grados = bool(int(input(\"¿El argumento está en grados (1) o radianes (0)? \")))\n",
        "            real, imag = polar_a_cartesiana(r, theta, grados)\n",
        "            print(f\"\\nForma cartesiana del número complejo: z = {real} + ({imag} * i)\")\n",
        "\n",
        "        else: print(\"Opción inválida. Por favor, seleccione 1 o 2.\")\n",
        "\n",
        "if __name__ == \"__main__\": main()"
      ],
      "metadata": {
        "id": "r_f0P10V2WJH",
        "colab": {
          "base_uri": "https://localhost:8080/"
        },
        "outputId": "462c6e0c-507f-485a-f1be-569ea6aeebd6"
      },
      "execution_count": 2,
      "outputs": [
        {
          "output_type": "stream",
          "name": "stdout",
          "text": [
            "Bienvenido al conversor de números complejos.\n",
            "Ingrese la cantidad de números complejos que desea convertir: 3\n",
            "\n",
            "Número complejo #1:\n",
            "1. Convertir de cartesiana a polar.\n",
            "2. Convertir de polar a cartesiana.\n",
            "Seleccione una opción: 1\n",
            "\n",
            "Ingrese la parte real del número complejo: -5\n",
            "Ingrese la parte imaginaria del número complejo: 5\n",
            "\n",
            "Forma polar en radianes del número complejo: z = 7.07107 * (cos(2.35619) + (i * sin(2.35619°)))\n",
            "Forma polar en grados del número complejo: z = 7.07107 * (cos(135.0°) + (i * sin(135.0°)))\n",
            "\n",
            "Número complejo #2:\n",
            "1. Convertir de cartesiana a polar.\n",
            "2. Convertir de polar a cartesiana.\n",
            "Seleccione una opción: 2\n",
            "\n",
            "Ingrese el valor de r (modulo): 7.07107\n",
            "Ingrese el valor del argumento en grados o radianes: 2.35619\n",
            "¿El argumento está en grados (1) o radianes (0)? 0\n",
            "\n",
            "Forma cartesiana del número complejo: z = -4.99998 + (5.00002 * i)\n",
            "\n",
            "Número complejo #3:\n",
            "1. Convertir de cartesiana a polar.\n",
            "2. Convertir de polar a cartesiana.\n",
            "Seleccione una opción: 2\n",
            "\n",
            "Ingrese el valor de r (modulo): 7.07107\n",
            "Ingrese el valor del argumento en grados o radianes: 135\n",
            "¿El argumento está en grados (1) o radianes (0)? 1\n",
            "\n",
            "Forma cartesiana del número complejo: z = -5.0 + (5.0 * i)\n"
          ]
        }
      ]
    },
    {
      "cell_type": "markdown",
      "source": [
        "# Operaciones con números complejos"
      ],
      "metadata": {
        "id": "k-UtFkdwwE5R"
      }
    },
    {
      "cell_type": "markdown",
      "source": [
        "## Adición y sustracción en forma rectangular o cartesiana"
      ],
      "metadata": {
        "id": "m9zg9D2pyen4"
      }
    },
    {
      "cell_type": "code",
      "source": [
        "class NumeroComplejo:\n",
        "    def __init__(self, real, imaginario):\n",
        "        self.real = real\n",
        "        self.imaginario = imaginario\n",
        "\n",
        "    def suma(self, otro):\n",
        "        nuevo_real = self.real + otro.real\n",
        "        nuevo_imaginario = self.imaginario + otro.imaginario\n",
        "        return (NumeroComplejo(nuevo_real, nuevo_imaginario))\n",
        "\n",
        "    def cartesiana(self):\n",
        "      return (f\"z = {round(self.real, 5)} + ({round(self.imaginario, 5)} * i)\")\n",
        "\n",
        "def main():\n",
        "    print(\"Bienvenido a la adición y sustración de números complejos.\")\n",
        "    n = int(input(\"Ingrese la cantidad de números complejos en forma cartesiana a sumar y/o restar: \"))\n",
        "    numeros = []\n",
        "\n",
        "    for i in range(n):\n",
        "        print(f\"\\nNúmero complejo #{i+1}:\")\n",
        "        real = float(input(\"Parte real: \"))\n",
        "        imaginario = float(input(\"Parte imaginaria: \"))\n",
        "        numeros.append(NumeroComplejo(real, imaginario))\n",
        "\n",
        "    resultado = NumeroComplejo(0, 0)\n",
        "    for numero in numeros: resultado = resultado.suma(numero)\n",
        "    print(f\"\\nEl resultado en forma cartesiana es: {resultado.cartesiana()}\")\n",
        "\n",
        "if __name__ == \"__main__\": main()"
      ],
      "metadata": {
        "id": "tfdGttLUwFOw",
        "colab": {
          "base_uri": "https://localhost:8080/"
        },
        "outputId": "9c121433-b3e4-40a7-8520-c45ec17af905"
      },
      "execution_count": 3,
      "outputs": [
        {
          "output_type": "stream",
          "name": "stdout",
          "text": [
            "Bienvenido a la adición y sustración de números complejos.\n",
            "Ingrese la cantidad de números complejos en forma cartesiana a sumar y/o restar: 2\n",
            "\n",
            "Número complejo #1:\n",
            "Parte real: 4\n",
            "Parte imaginaria: -3\n",
            "\n",
            "Número complejo #2:\n",
            "Parte real: -8\n",
            "Parte imaginaria: 2\n",
            "\n",
            "El resultado en forma cartesiana es: z = -4.0 + (-1.0 * i)\n"
          ]
        }
      ]
    },
    {
      "cell_type": "markdown",
      "source": [
        "## Producto en forma polar o trigonométrica"
      ],
      "metadata": {
        "id": "JXPN--gXBHIQ"
      }
    },
    {
      "cell_type": "code",
      "source": [
        "def producto_polar(numeros):\n",
        "    producto_r = 1\n",
        "    suma_theta_rad = 0\n",
        "    for r, theta_rad in numeros:\n",
        "        producto_r *= r\n",
        "        suma_theta_rad += theta_rad\n",
        "    return round(producto_r, 5), round(suma_theta_rad, 5)\n",
        "\n",
        "def polar_a_str(r, theta_rad):\n",
        "    theta_gra = round(math.degrees(theta_rad), 5)\n",
        "    return f\"z = {r} * (cos({theta_rad}) + (i * sin({theta_rad})))\", f\"z = {r} * (cos({theta_gra}°) + (i * sin({theta_gra}°)))\"\n",
        "\n",
        "def main():\n",
        "    print(\"Bienvenido al producto de números complejos.\")\n",
        "    n = int(input(\"Ingrese la cantidad de números complejos en forma polar que desea multiplicar: \"))\n",
        "    numeros = []\n",
        "\n",
        "    for i in range(1, n+1):\n",
        "        print(f\"\\nNúmero complejo #{i}:\")\n",
        "        r = float(input(\"Ingrese r (modulo): \"))\n",
        "        angulo = input(\"¿El argumento está en grados o radianes? (Ingrese 'g' o 'r') \").lower()\n",
        "\n",
        "        if angulo == \"g\":\n",
        "            theta_gra = float(input(\"Ingrese el argumento en grados: \"))\n",
        "            theta_rad = math.radians(theta_gra)\n",
        "        elif angulo == \"r\":\n",
        "            theta_rad = float(input(\"Ingrese el argumento en radianes: \"))\n",
        "        else:\n",
        "            print(\"Unidad de ángulo no válida. Por favor, ingrese 'grados' o 'radianes'.\")\n",
        "            return\n",
        "\n",
        "        numeros.append((r, theta_rad))\n",
        "\n",
        "    resultado_polar = producto_polar(numeros)\n",
        "    resultado_polar_gra, resultado_polar_rad = polar_a_str(*resultado_polar)\n",
        "\n",
        "    print(\"\\nEl resultado en forma polar en grados es:\", resultado_polar_gra)\n",
        "    print(\"El resultado en forma polar en radianes es:\", resultado_polar_rad)\n",
        "\n",
        "if __name__ == \"__main__\": main()"
      ],
      "metadata": {
        "colab": {
          "base_uri": "https://localhost:8080/"
        },
        "id": "eWesBD_Ld0mL",
        "outputId": "cc3c2181-d322-4842-e86f-faa1820d3d1a"
      },
      "execution_count": 4,
      "outputs": [
        {
          "output_type": "stream",
          "name": "stdout",
          "text": [
            "Bienvenido al producto de números complejos.\n",
            "Ingrese la cantidad de números complejos en forma polar que desea multiplicar: 2\n",
            "\n",
            "Número complejo #1:\n",
            "Ingrese r (modulo): 3\n",
            "¿El argumento está en grados o radianes? (Ingrese 'g' o 'r') g\n",
            "Ingrese el argumento en grados: 40\n",
            "\n",
            "Número complejo #2:\n",
            "Ingrese r (modulo): 4\n",
            "¿El argumento está en grados o radianes? (Ingrese 'g' o 'r') g\n",
            "Ingrese el argumento en grados: 80\n",
            "\n",
            "El resultado en forma polar en grados es: z = 12.0 * (cos(2.0944) + (i * sin(2.0944)))\n",
            "El resultado en forma polar en radianes es: z = 12.0 * (cos(120.00028°) + (i * sin(120.00028°)))\n"
          ]
        }
      ]
    },
    {
      "cell_type": "markdown",
      "source": [
        "## Cociente en forma polar o trigonométrica"
      ],
      "metadata": {
        "id": "noFuesnUo8nM"
      }
    },
    {
      "cell_type": "code",
      "source": [
        "def polar_a_rectangular(modulo, argumento, grados = True):\n",
        "    if grados:\n",
        "        argumento = math.radians(argumento)\n",
        "    real = modulo * math.cos(argumento)\n",
        "    imaginario = modulo * math.sin(argumento)\n",
        "    return complex(round(real, 5), round(imaginario, 5))\n",
        "\n",
        "def division_polar(numeros):\n",
        "    resultado = polar_a_rectangular(*numeros[0])\n",
        "    for i in range(1, len(numeros)):\n",
        "        modulo, argumento, grados = numeros[i]\n",
        "        z = polar_a_rectangular(modulo, argumento, grados)\n",
        "        resultado /= z\n",
        "    return resultado\n",
        "\n",
        "def main():\n",
        "    print(\"Bienvenido al cociente de números complejos.\")\n",
        "    n = int(input(\"Ingrese la cantidad de números complejos en forma polar que desea dividir: \"))\n",
        "    numeros = []\n",
        "\n",
        "    for i in range(n):\n",
        "        print(f\"\\nNúmero complejo #{i+1}:\")\n",
        "        modulo = float(input(\"Ingrese el módulo (r): \"))\n",
        "        angulo = input(\"¿El argumento está en grados o radianes? (g/r): \").lower()\n",
        "        if angulo not in ('g', 'r'):\n",
        "            print(\"Error: Ingrese 'g' si el ángulo está en grados o 'r' si está en radianes.\")\n",
        "            continue\n",
        "\n",
        "        argumento = float(input(\"Ingrese el argumento (θ): \"))\n",
        "        grados = angulo == \"g\"\n",
        "        numeros.append((modulo, argumento, grados))\n",
        "\n",
        "    resultado = division_polar(numeros)\n",
        "    r = round(abs(resultado), 5)\n",
        "    angulo_rad = round(math.atan2(resultado.imag, resultado.real), 5)\n",
        "    angulo_gra = round(math.degrees(angulo_rad), 5)\n",
        "\n",
        "    print(f\"\\nEl resultado de la división en forma polar es:\")\n",
        "    print(f\"En radianes: z = {r} * (cos({angulo_rad}) + (i * sin({angulo_rad})))\")\n",
        "    print(f\"En grados: z = {r} * (cos({angulo_gra}°) + (i * sin({angulo_gra}°)))\")\n",
        "\n",
        "if __name__ == \"__main__\": main()"
      ],
      "metadata": {
        "colab": {
          "base_uri": "https://localhost:8080/"
        },
        "id": "Wva8B-55vUB7",
        "outputId": "718883f8-1440-458f-bc78-29be8b8e70a4"
      },
      "execution_count": 5,
      "outputs": [
        {
          "output_type": "stream",
          "name": "stdout",
          "text": [
            "Bienvenido al cociente de números complejos.\n",
            "Ingrese la cantidad de números complejos en forma polar que desea dividir: 2\n",
            "\n",
            "Número complejo #1:\n",
            "Ingrese el módulo (r): 128\n",
            "¿El argumento está en grados o radianes? (g/r): g\n",
            "Ingrese el argumento (θ): 105\n",
            "\n",
            "Número complejo #2:\n",
            "Ingrese el módulo (r): 64\n",
            "¿El argumento está en grados o radianes? (g/r): g\n",
            "Ingrese el argumento (θ): 135\n",
            "\n",
            "El resultado de la división en forma polar es:\n",
            "En radianes: z = 2.0 * (cos(-0.5236) + (i * sin(-0.5236)))\n",
            "En grados: z = 2.0 * (cos(-30.00007°) + (i * sin(-30.00007°)))\n"
          ]
        }
      ]
    },
    {
      "cell_type": "markdown",
      "source": [
        "## Potenciación en forma polar o trigonométrica"
      ],
      "metadata": {
        "id": "gfVoxw077k_e"
      }
    },
    {
      "cell_type": "code",
      "source": [
        "def rectangular_a_polar(real, imag, grados):\n",
        "    r = abs(complex(real, imag))\n",
        "    theta = math.atan2(imag, real)\n",
        "    if grados:\n",
        "        theta = math.degrees(theta)\n",
        "    return round(r, 5), round(theta, 5)\n",
        "\n",
        "def main():\n",
        "    print(\"Bienvenido a la potenciación de números complejos en forma polar a la enésima potencia.\")\n",
        "    num = int(input(\"Ingrese la cantidad de números complejos que desea elevar: \"))\n",
        "\n",
        "    for i in range(num):\n",
        "        print(f\"\\nNúmero complejo #{i + 1}:\")\n",
        "        r = float(input(\"Ingrese el módulo (r): \"))\n",
        "        angulo = input(\"¿El argumento está en grados o radianes? (g/r): \").lower()\n",
        "\n",
        "        if angulo not in ('g', 'r'):\n",
        "            print(\"Error: Ingrese 'g' si el ángulo está en grados o 'r' si está en radianes.\")\n",
        "            continue\n",
        "\n",
        "        grados_input = angulo == 'g'\n",
        "        if grados_input:\n",
        "            theta = float(input(\"Ingrese el ángulo en grados: \"))\n",
        "            theta = math.radians(theta)\n",
        "        else: theta = float(input(\"Ingrese el ángulo en radianes: \"))\n",
        "\n",
        "        n = int(input(\"Ingrese a qué potencia desea elevar el número complejo: \"))\n",
        "        r = r ** n\n",
        "        theta *= n\n",
        "        result_r, result_theta = rectangular_a_polar(r * math.cos(theta), r * math.sin(theta), grados_input)\n",
        "\n",
        "        if grados_input:\n",
        "          radianes = round(math.radians(result_theta), 5)\n",
        "          print(f\"\\nResultado en forma polar (radianes): z = {result_r} * (cos({radianes}) + (i * sen({radianes})))\")\n",
        "          print(f\"Resultado en forma polar (grados): z = {result_r} * (cos({result_theta}°) + (i * sen({result_theta}°)))\")\n",
        "        else:\n",
        "          grados = round(math.degrees(result_theta), 5)\n",
        "          print(f\"\\nResultado en forma polar (radianes): z = {result_r} * (cos({result_theta}) + (i * sen({result_theta}))\")\n",
        "          print(f\"Resultado en forma polar (grados): z = {result_r} * (cos({grados}) + (i * sen({grados}°)))\")\n",
        "\n",
        "if __name__ == \"__main__\": main()"
      ],
      "metadata": {
        "colab": {
          "base_uri": "https://localhost:8080/"
        },
        "id": "GzVPrpw9hVqN",
        "outputId": "c18e1894-bdb1-4acd-fbc7-c3abc85896c0"
      },
      "execution_count": 6,
      "outputs": [
        {
          "output_type": "stream",
          "name": "stdout",
          "text": [
            "Bienvenido a la potenciación de números complejos en forma polar a la enésima potencia.\n",
            "Ingrese la cantidad de números complejos que desea elevar: 4\n",
            "\n",
            "Número complejo #1:\n",
            "Ingrese el módulo (r): 2\n",
            "¿El argumento está en grados o radianes? (g/r): g\n",
            "Ingrese el ángulo en grados: 15\n",
            "Ingrese a qué potencia desea elevar el número complejo: 7\n",
            "\n",
            "Resultado en forma polar (radianes): z = 128.0 * (cos(1.8326) + (i * sen(1.8326)))\n",
            "Resultado en forma polar (grados): z = 128.0 * (cos(105.0°) + (i * sen(105.0°)))\n",
            "\n",
            "Número complejo #2:\n",
            "Ingrese el módulo (r): 2\n",
            "¿El argumento está en grados o radianes? (g/r): r\n",
            "Ingrese el ángulo en radianes: 0.2617993878\n",
            "Ingrese a qué potencia desea elevar el número complejo: 7\n",
            "\n",
            "Resultado en forma polar (radianes): z = 128.0 * (cos(1.8326) + (i * sen(1.8326))\n",
            "Resultado en forma polar (grados): z = 128.0 * (cos(105.00025) + (i * sen(105.00025°)))\n",
            "\n",
            "Número complejo #3:\n",
            "Ingrese el módulo (r): 4\n",
            "¿El argumento está en grados o radianes? (g/r): g\n",
            "Ingrese el ángulo en grados: 45\n",
            "Ingrese a qué potencia desea elevar el número complejo: 3\n",
            "\n",
            "Resultado en forma polar (radianes): z = 64.0 * (cos(2.35619) + (i * sen(2.35619)))\n",
            "Resultado en forma polar (grados): z = 64.0 * (cos(135.0°) + (i * sen(135.0°)))\n",
            "\n",
            "Número complejo #4:\n",
            "Ingrese el módulo (r): 4\n",
            "¿El argumento está en grados o radianes? (g/r): r\n",
            "Ingrese el ángulo en radianes: 0.7853981634\n",
            "Ingrese a qué potencia desea elevar el número complejo: 3\n",
            "\n",
            "Resultado en forma polar (radianes): z = 64.0 * (cos(2.35619) + (i * sen(2.35619))\n",
            "Resultado en forma polar (grados): z = 64.0 * (cos(134.99974) + (i * sen(134.99974°)))\n"
          ]
        }
      ]
    },
    {
      "cell_type": "markdown",
      "source": [
        "## Radicación en forma polar o trigonométrica"
      ],
      "metadata": {
        "id": "tIaz_SeNAhmt"
      }
    },
    {
      "cell_type": "code",
      "source": [
        "def convertir_a_radianes(angulo, unidad):\n",
        "    if unidad.lower() == 'grados':\n",
        "        return math.radians(angulo)\n",
        "    elif unidad.lower() == 'radianes':\n",
        "        return angulo\n",
        "    else:\n",
        "        raise ValueError(\"Unidad de ángulo inválida. Debe ser 'grados' o 'radianes'.\")\n",
        "\n",
        "def trigonometrica_a_rectangular(r, angulo, unidad):\n",
        "    angulo_en_radianes = convertir_a_radianes(angulo, unidad)\n",
        "    return cmath.rect(r, angulo_en_radianes)\n",
        "\n",
        "def rectangular_a_trigonometrica(a, b):\n",
        "    numero_complejo = a + b*1j\n",
        "    r = abs(numero_complejo)\n",
        "    radianes = cmath.phase(numero_complejo)\n",
        "    grados = math.degrees(radianes)\n",
        "    return r, radianes, grados\n",
        "\n",
        "def raices_nesimas(numero_complejo, n):\n",
        "    return [numero_complejo ** (1/n) * cmath.rect(1, (2*k*cmath.pi)/n) for k in range(n)]\n",
        "\n",
        "def main():\n",
        "    print(\"Bienvenido a la radicación a la raíz enésima de números complejos en forma polar .\")\n",
        "    num = int(input(\"Ingrese la cantidad de números complejos que desea radicar: \"))\n",
        "\n",
        "    for i in range(num):\n",
        "        print(f\"\\nNúmero complejo #{i+1}:\")\n",
        "        r = float(input(\"Ingrese la magnitud (r): \"))\n",
        "        unidad_angulo = input(\"Ingrese la unidad del argumento (grados/radianes): \").lower()\n",
        "        angulo = float(input(\"Ingrese el argumento: \"))\n",
        "\n",
        "        try:\n",
        "            numero_polar = trigonometrica_a_rectangular(r, angulo, unidad_angulo)\n",
        "            n = int(input(\"Ingrese el valor de n para calcular las raíces n-ésimas: \"))\n",
        "            raices = raices_nesimas(numero_polar, n)\n",
        "\n",
        "            print(f\"\\nRaíces {n}-ésimas del número complejo:\")\n",
        "            print('En radianes:')\n",
        "            for k, raiz in enumerate(raices, 1):\n",
        "                r_raiz, radianes_raiz, grados_raiz = rectangular_a_trigonometrica(raiz.real, raiz.imag)\n",
        "                print(f\"Raíz {k}: z = {r_raiz:.5f} * (cos({radianes_raiz:.5f}) + (i * sen({radianes_raiz:.5f})))\")\n",
        "\n",
        "            print('En grados:')\n",
        "            for k, raiz in enumerate(raices, 1):\n",
        "                r_raiz, radianes_raiz, grados_raiz = rectangular_a_trigonometrica(raiz.real, raiz.imag)\n",
        "                print(f\"Raíz {k}: z = {r_raiz:.5f} * (cos({grados_raiz:.5f}°) + (i * sen({grados_raiz:.5f}°)))\")\n",
        "\n",
        "        except ValueError as e: print(f\"Error: {e}\")\n",
        "\n",
        "if __name__ == \"__main__\": main()"
      ],
      "metadata": {
        "colab": {
          "base_uri": "https://localhost:8080/"
        },
        "id": "1xcnqFUwhRMe",
        "outputId": "822102ed-ee9a-4f1b-96d6-5eda28d6ee19"
      },
      "execution_count": 7,
      "outputs": [
        {
          "output_type": "stream",
          "name": "stdout",
          "text": [
            "Bienvenido a la radicación a la raíz enésima de números complejos en forma polar .\n",
            "Ingrese la cantidad de números complejos que desea radicar: 2\n",
            "\n",
            "Número complejo #1:\n",
            "Ingrese la magnitud (r): 27\n",
            "Ingrese la unidad del argumento (grados/radianes): grados\n",
            "Ingrese el argumento: 270\n",
            "Ingrese el valor de n para calcular las raíces n-ésimas: 6\n",
            "\n",
            "Raíces 6-ésimas del número complejo:\n",
            "En radianes:\n",
            "Raíz 1: z = 1.73205 * (cos(-0.26180) + (i * sen(-0.26180)))\n",
            "Raíz 2: z = 1.73205 * (cos(0.78540) + (i * sen(0.78540)))\n",
            "Raíz 3: z = 1.73205 * (cos(1.83260) + (i * sen(1.83260)))\n",
            "Raíz 4: z = 1.73205 * (cos(2.87979) + (i * sen(2.87979)))\n",
            "Raíz 5: z = 1.73205 * (cos(-2.35619) + (i * sen(-2.35619)))\n",
            "Raíz 6: z = 1.73205 * (cos(-1.30900) + (i * sen(-1.30900)))\n",
            "En grados:\n",
            "Raíz 1: z = 1.73205 * (cos(-15.00000°) + (i * sen(-15.00000°)))\n",
            "Raíz 2: z = 1.73205 * (cos(45.00000°) + (i * sen(45.00000°)))\n",
            "Raíz 3: z = 1.73205 * (cos(105.00000°) + (i * sen(105.00000°)))\n",
            "Raíz 4: z = 1.73205 * (cos(165.00000°) + (i * sen(165.00000°)))\n",
            "Raíz 5: z = 1.73205 * (cos(-135.00000°) + (i * sen(-135.00000°)))\n",
            "Raíz 6: z = 1.73205 * (cos(-75.00000°) + (i * sen(-75.00000°)))\n",
            "\n",
            "Número complejo #2:\n",
            "Ingrese la magnitud (r): 27\n",
            "Ingrese la unidad del argumento (grados/radianes): radianes\n",
            "Ingrese el argumento: 4.7123889804\n",
            "Ingrese el valor de n para calcular las raíces n-ésimas: 6\n",
            "\n",
            "Raíces 6-ésimas del número complejo:\n",
            "En radianes:\n",
            "Raíz 1: z = 1.73205 * (cos(-0.26180) + (i * sen(-0.26180)))\n",
            "Raíz 2: z = 1.73205 * (cos(0.78540) + (i * sen(0.78540)))\n",
            "Raíz 3: z = 1.73205 * (cos(1.83260) + (i * sen(1.83260)))\n",
            "Raíz 4: z = 1.73205 * (cos(2.87979) + (i * sen(2.87979)))\n",
            "Raíz 5: z = 1.73205 * (cos(-2.35619) + (i * sen(-2.35619)))\n",
            "Raíz 6: z = 1.73205 * (cos(-1.30900) + (i * sen(-1.30900)))\n",
            "En grados:\n",
            "Raíz 1: z = 1.73205 * (cos(-15.00000°) + (i * sen(-15.00000°)))\n",
            "Raíz 2: z = 1.73205 * (cos(45.00000°) + (i * sen(45.00000°)))\n",
            "Raíz 3: z = 1.73205 * (cos(105.00000°) + (i * sen(105.00000°)))\n",
            "Raíz 4: z = 1.73205 * (cos(165.00000°) + (i * sen(165.00000°)))\n",
            "Raíz 5: z = 1.73205 * (cos(-135.00000°) + (i * sen(-135.00000°)))\n",
            "Raíz 6: z = 1.73205 * (cos(-75.00000°) + (i * sen(-75.00000°)))\n"
          ]
        }
      ]
    }
  ]
}