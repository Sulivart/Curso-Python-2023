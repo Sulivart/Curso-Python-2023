{
  "nbformat": 4,
  "nbformat_minor": 0,
  "metadata": {
    "colab": {
      "provenance": [],
      "authorship_tag": "ABX9TyMqfTZhz1lsT/cjrCCqwy0y",
      "include_colab_link": true
    },
    "kernelspec": {
      "name": "python3",
      "display_name": "Python 3"
    },
    "language_info": {
      "name": "python"
    }
  },
  "cells": [
    {
      "cell_type": "markdown",
      "metadata": {
        "id": "view-in-github",
        "colab_type": "text"
      },
      "source": [
        "<a href=\"https://colab.research.google.com/github/Sulivart/Curso-Python-2023/blob/main/Tupla_Rectangulo_Circulo.ipynb\" target=\"_parent\"><img src=\"https://colab.research.google.com/assets/colab-badge.svg\" alt=\"Open In Colab\"/></a>"
      ]
    },
    {
      "cell_type": "markdown",
      "source": [
        "#Lab\n",
        "Crear una función similar a 'calculate_square_properties' para un rectángulo o círculo, regrese 3 valores:\n",
        "- Perimetro\n",
        "- Área\n",
        "- Color\n",
        "\n",
        "**Nota**: Tu función debe aceptar 3 argumentos\n",
        "El tipo de dato esperado es una tupla"
      ],
      "metadata": {
        "id": "eUk97i-wJ9Gb"
      }
    },
    {
      "cell_type": "markdown",
      "source": [
        "#Rectangulo"
      ],
      "metadata": {
        "id": "aN2MYtIyLqM7"
      }
    },
    {
      "cell_type": "code",
      "execution_count": 1,
      "metadata": {
        "id": "SlBQBupLJ8UT"
      },
      "outputs": [],
      "source": [
        "def perimetro_area_rectangulo(altura, base, color):\n",
        "  perimetro = altura*2 + base*2\n",
        "  area = altura * base\n",
        "  return(perimetro, area, color)"
      ]
    },
    {
      "cell_type": "code",
      "source": [
        "altura = float(input('Ingrese la altura del rectangulo: '))\n",
        "base = float(input('Ingrese la base del rectangulo: '))\n",
        "color = str(input('Ingrese el color del rectangulo: '))\n",
        "resultados_rectangulo = perimetro_area_rectangulo(altura, base, color)"
      ],
      "metadata": {
        "colab": {
          "base_uri": "https://localhost:8080/"
        },
        "id": "zJ1r5HBdK9g-",
        "outputId": "c36358cf-5995-4619-8a55-adf2d8633ee2"
      },
      "execution_count": 2,
      "outputs": [
        {
          "name": "stdout",
          "output_type": "stream",
          "text": [
            "Ingrese la altura del rectangulo: 5.0\n",
            "Ingrese la base del rectangulo: 7.5\n",
            "Ingrese el color del rectangulo: negro\n"
          ]
        }
      ]
    },
    {
      "cell_type": "code",
      "source": [
        "resultados_rectangulo"
      ],
      "metadata": {
        "colab": {
          "base_uri": "https://localhost:8080/"
        },
        "id": "V-OPIIWyLOIi",
        "outputId": "500a21f0-4143-45a3-b2c6-24c927b8b1f6"
      },
      "execution_count": 3,
      "outputs": [
        {
          "output_type": "execute_result",
          "data": {
            "text/plain": [
              "(25.0, 37.5, 'negro')"
            ]
          },
          "metadata": {},
          "execution_count": 3
        }
      ]
    },
    {
      "cell_type": "code",
      "source": [
        "type(resultados_rectangulo)"
      ],
      "metadata": {
        "colab": {
          "base_uri": "https://localhost:8080/"
        },
        "id": "ZCqiENfGLPY1",
        "outputId": "6a41da2d-b5b4-4456-d990-5d0840f56038"
      },
      "execution_count": 4,
      "outputs": [
        {
          "output_type": "execute_result",
          "data": {
            "text/plain": [
              "tuple"
            ]
          },
          "metadata": {},
          "execution_count": 4
        }
      ]
    },
    {
      "cell_type": "code",
      "source": [
        "perimetro, area, color = resultados_rectangulo"
      ],
      "metadata": {
        "id": "6uQCPDq7LS3_"
      },
      "execution_count": 5,
      "outputs": []
    },
    {
      "cell_type": "code",
      "source": [
        "perimetro"
      ],
      "metadata": {
        "colab": {
          "base_uri": "https://localhost:8080/"
        },
        "id": "evalJwW3LczK",
        "outputId": "c9b6b652-2d9f-4161-fd02-dac25aacfc48"
      },
      "execution_count": 6,
      "outputs": [
        {
          "output_type": "execute_result",
          "data": {
            "text/plain": [
              "25.0"
            ]
          },
          "metadata": {},
          "execution_count": 6
        }
      ]
    },
    {
      "cell_type": "code",
      "source": [
        "area"
      ],
      "metadata": {
        "colab": {
          "base_uri": "https://localhost:8080/"
        },
        "id": "vFs4WsgHLdrP",
        "outputId": "970ee44d-5333-4d22-d219-a568a833a0bf"
      },
      "execution_count": 7,
      "outputs": [
        {
          "output_type": "execute_result",
          "data": {
            "text/plain": [
              "37.5"
            ]
          },
          "metadata": {},
          "execution_count": 7
        }
      ]
    },
    {
      "cell_type": "code",
      "source": [
        "color"
      ],
      "metadata": {
        "colab": {
          "base_uri": "https://localhost:8080/",
          "height": 36
        },
        "id": "vYU6xfASMPyY",
        "outputId": "ad4f0e95-4b4d-4c4d-af28-30f1fcea34e4"
      },
      "execution_count": 8,
      "outputs": [
        {
          "output_type": "execute_result",
          "data": {
            "text/plain": [
              "'negro'"
            ],
            "application/vnd.google.colaboratory.intrinsic+json": {
              "type": "string"
            }
          },
          "metadata": {},
          "execution_count": 8
        }
      ]
    },
    {
      "cell_type": "markdown",
      "source": [
        "#Círculo"
      ],
      "metadata": {
        "id": "odgmX9_NLtei"
      }
    },
    {
      "cell_type": "code",
      "source": [
        "pi = 3.14159\n",
        "def circunferencia_area_circulo(radio, color):\n",
        "  circunferencia = 2*pi*radio\n",
        "  area = pi*radio**2\n",
        "  return(circunferencia, area, color)"
      ],
      "metadata": {
        "id": "4v76OrdnLepQ"
      },
      "execution_count": 9,
      "outputs": []
    },
    {
      "cell_type": "code",
      "source": [
        "radio = float(input('Ingrese el radio del circulo: '))\n",
        "color = str(input('Ingrese el color del circulo: '))\n",
        "resultados_circulo = circunferencia_area_circulo(radio, color)"
      ],
      "metadata": {
        "colab": {
          "base_uri": "https://localhost:8080/"
        },
        "id": "h3OoTWhlMyub",
        "outputId": "d3529deb-d6b5-41fe-fb6d-bb4c8c263097"
      },
      "execution_count": 10,
      "outputs": [
        {
          "name": "stdout",
          "output_type": "stream",
          "text": [
            "Ingrese el radio del circulo: 5.0\n",
            "Ingrese el color del circulo: blanco\n"
          ]
        }
      ]
    },
    {
      "cell_type": "code",
      "source": [
        "resultados_circulo"
      ],
      "metadata": {
        "colab": {
          "base_uri": "https://localhost:8080/"
        },
        "id": "797uZRIcNBQ2",
        "outputId": "fc620007-e01c-47e4-a751-328fd9cd06f3"
      },
      "execution_count": 11,
      "outputs": [
        {
          "output_type": "execute_result",
          "data": {
            "text/plain": [
              "(31.4159, 78.53975, 'blanco')"
            ]
          },
          "metadata": {},
          "execution_count": 11
        }
      ]
    },
    {
      "cell_type": "code",
      "source": [
        "type(resultados_circulo)"
      ],
      "metadata": {
        "colab": {
          "base_uri": "https://localhost:8080/"
        },
        "id": "jMuZYXwQNDEN",
        "outputId": "5e749338-8b05-4941-a1f1-4ad1b1d4a475"
      },
      "execution_count": 12,
      "outputs": [
        {
          "output_type": "execute_result",
          "data": {
            "text/plain": [
              "tuple"
            ]
          },
          "metadata": {},
          "execution_count": 12
        }
      ]
    },
    {
      "cell_type": "code",
      "source": [
        "circunferencia, area, color = resultados_circulo"
      ],
      "metadata": {
        "id": "dMcymmnMNFkN"
      },
      "execution_count": 13,
      "outputs": []
    },
    {
      "cell_type": "code",
      "source": [
        "circunferencia"
      ],
      "metadata": {
        "colab": {
          "base_uri": "https://localhost:8080/"
        },
        "id": "TAUBOlzVNKCW",
        "outputId": "a2d7c56b-f018-41fd-c96a-ba3c1dbe53ad"
      },
      "execution_count": 14,
      "outputs": [
        {
          "output_type": "execute_result",
          "data": {
            "text/plain": [
              "31.4159"
            ]
          },
          "metadata": {},
          "execution_count": 14
        }
      ]
    },
    {
      "cell_type": "code",
      "source": [
        "area"
      ],
      "metadata": {
        "colab": {
          "base_uri": "https://localhost:8080/"
        },
        "id": "aZTmtm3hNNKo",
        "outputId": "274c12b8-299e-424e-dbce-664c14f02e1e"
      },
      "execution_count": 15,
      "outputs": [
        {
          "output_type": "execute_result",
          "data": {
            "text/plain": [
              "78.53975"
            ]
          },
          "metadata": {},
          "execution_count": 15
        }
      ]
    },
    {
      "cell_type": "code",
      "source": [
        "color"
      ],
      "metadata": {
        "colab": {
          "base_uri": "https://localhost:8080/",
          "height": 36
        },
        "id": "P3UeAuPCNOtO",
        "outputId": "4bad33e2-f041-4611-d1eb-2389f2d69565"
      },
      "execution_count": 16,
      "outputs": [
        {
          "output_type": "execute_result",
          "data": {
            "text/plain": [
              "'blanco'"
            ],
            "application/vnd.google.colaboratory.intrinsic+json": {
              "type": "string"
            }
          },
          "metadata": {},
          "execution_count": 16
        }
      ]
    }
  ]
}