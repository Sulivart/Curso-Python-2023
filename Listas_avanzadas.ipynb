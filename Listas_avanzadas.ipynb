{
  "nbformat": 4,
  "nbformat_minor": 0,
  "metadata": {
    "colab": {
      "provenance": [],
      "authorship_tag": "ABX9TyPNDSVj0meME7ufLEjm7fRt",
      "include_colab_link": true
    },
    "kernelspec": {
      "name": "python3",
      "display_name": "Python 3"
    },
    "language_info": {
      "name": "python"
    }
  },
  "cells": [
    {
      "cell_type": "markdown",
      "metadata": {
        "id": "view-in-github",
        "colab_type": "text"
      },
      "source": [
        "<a href=\"https://colab.research.google.com/github/Sulivart/Curso-Python-2023/blob/main/Listas_avanzadas.ipynb\" target=\"_parent\"><img src=\"https://colab.research.google.com/assets/colab-badge.svg\" alt=\"Open In Colab\"/></a>"
      ]
    },
    {
      "cell_type": "markdown",
      "source": [
        "# List comprehension\n",
        "Es una manera rápida y eficiente de ejecutar bucles y almacenar los resultados dentro de una lista"
      ],
      "metadata": {
        "id": "Rtpsi3fTkJuF"
      }
    },
    {
      "cell_type": "code",
      "execution_count": null,
      "metadata": {
        "id": "gIIw4BLkkGlQ"
      },
      "outputs": [],
      "source": [
        "# Mi variable nueva_lista es la lista donde almacenaremos el resultado de nuestro proceso\n",
        "nueva_lista = []\n",
        "\n",
        "for i in range(10):\n",
        "  nueva_lista.append(i**2)"
      ]
    },
    {
      "cell_type": "code",
      "source": [
        "print(nueva_lista)"
      ],
      "metadata": {
        "colab": {
          "base_uri": "https://localhost:8080/"
        },
        "id": "NOy140RWk-MR",
        "outputId": "cdef6294-e08f-43a7-df75-46d9ebb61059"
      },
      "execution_count": null,
      "outputs": [
        {
          "output_type": "stream",
          "name": "stdout",
          "text": [
            "[0, 1, 4, 9, 16, 25, 36, 49, 64, 81]\n"
          ]
        }
      ]
    },
    {
      "cell_type": "code",
      "source": [
        "# La primer parte de un list comprehension es el valor que queremos almacenar\n",
        "# En este ejemplo, el valor es igual a i**2\n",
        "nueva_lista = [i**2 for i in range(10)]"
      ],
      "metadata": {
        "id": "XGpGf8I1lNUO"
      },
      "execution_count": null,
      "outputs": []
    },
    {
      "cell_type": "code",
      "source": [
        "print(nueva_lista)"
      ],
      "metadata": {
        "colab": {
          "base_uri": "https://localhost:8080/"
        },
        "id": "y7jLulafletD",
        "outputId": "eb5d69f7-d1cd-42ff-c60c-c2c620994736"
      },
      "execution_count": null,
      "outputs": [
        {
          "output_type": "stream",
          "name": "stdout",
          "text": [
            "[0, 1, 4, 9, 16, 25, 36, 49, 64, 81]\n"
          ]
        }
      ]
    },
    {
      "cell_type": "code",
      "source": [
        "numeros_lista = [0,2,3,5,8,10,11,14]\n",
        "numeros_pares= []\n",
        "for num in numeros_lista:\n",
        "  if num %2 == 0 and num > 0:\n",
        "    numeros_pares.append(num)"
      ],
      "metadata": {
        "id": "zp06nwEDlpT2"
      },
      "execution_count": null,
      "outputs": []
    },
    {
      "cell_type": "code",
      "source": [
        "numeros_pares"
      ],
      "metadata": {
        "colab": {
          "base_uri": "https://localhost:8080/"
        },
        "id": "La4UA722mZRr",
        "outputId": "d76df2a9-71f6-4ba3-9da1-81bede5bd58b"
      },
      "execution_count": null,
      "outputs": [
        {
          "output_type": "execute_result",
          "data": {
            "text/plain": [
              "[2, 8, 10, 14]"
            ]
          },
          "metadata": {},
          "execution_count": 12
        }
      ]
    },
    {
      "cell_type": "code",
      "source": [
        "nuemros_pares = [num for num in numeros_lista if num %2 == 0 and num > 0]"
      ],
      "metadata": {
        "id": "Ov72WmW0mgqu"
      },
      "execution_count": null,
      "outputs": []
    },
    {
      "cell_type": "code",
      "source": [
        "numeros_pares"
      ],
      "metadata": {
        "colab": {
          "base_uri": "https://localhost:8080/"
        },
        "id": "M9QVVC84m4F0",
        "outputId": "36ae9702-1781-4430-cba2-1d18d43d9021"
      },
      "execution_count": null,
      "outputs": [
        {
          "output_type": "execute_result",
          "data": {
            "text/plain": [
              "[2, 8, 10, 14]"
            ]
          },
          "metadata": {},
          "execution_count": 14
        }
      ]
    },
    {
      "cell_type": "code",
      "source": [
        "'Volver al futuro'.split()"
      ],
      "metadata": {
        "colab": {
          "base_uri": "https://localhost:8080/"
        },
        "id": "W1ya0SZLouiC",
        "outputId": "bc89450c-9ada-4bec-badf-43eea0244cf8"
      },
      "execution_count": null,
      "outputs": [
        {
          "output_type": "execute_result",
          "data": {
            "text/plain": [
              "['Volver', 'al', 'futuro']"
            ]
          },
          "metadata": {},
          "execution_count": 15
        }
      ]
    },
    {
      "cell_type": "code",
      "source": [
        "texto_lista = [(palabra) for palabra in 'Volver al futuro'.split()]"
      ],
      "metadata": {
        "id": "8ALpYEKYm_fN"
      },
      "execution_count": null,
      "outputs": []
    },
    {
      "cell_type": "code",
      "source": [
        "texto_lista"
      ],
      "metadata": {
        "colab": {
          "base_uri": "https://localhost:8080/"
        },
        "id": "Uh2BY1Hjo7__",
        "outputId": "1571d74f-c31a-4db0-a74c-4978527ceaa9"
      },
      "execution_count": null,
      "outputs": [
        {
          "output_type": "execute_result",
          "data": {
            "text/plain": [
              "['Volver', 'al', 'futuro']"
            ]
          },
          "metadata": {},
          "execution_count": 18
        }
      ]
    },
    {
      "cell_type": "code",
      "source": [
        "texto_lista = [(palabra.upper(), palabra.lower(), len(palabra)) for palabra in 'Volver al futuro'.split()]"
      ],
      "metadata": {
        "id": "q-qAr9GVo_Qh"
      },
      "execution_count": null,
      "outputs": []
    },
    {
      "cell_type": "code",
      "source": [
        "texto_lista"
      ],
      "metadata": {
        "colab": {
          "base_uri": "https://localhost:8080/"
        },
        "id": "olZg4-DIpJIn",
        "outputId": "1c76ab18-ce8b-4654-d859-5c0fddb87ebf"
      },
      "execution_count": null,
      "outputs": [
        {
          "output_type": "execute_result",
          "data": {
            "text/plain": [
              "[('VOLVER', 'volver', 6), ('AL', 'al', 2), ('FUTURO', 'futuro', 6)]"
            ]
          },
          "metadata": {},
          "execution_count": 22
        }
      ]
    },
    {
      "cell_type": "code",
      "source": [
        "len(texto_lista)"
      ],
      "metadata": {
        "colab": {
          "base_uri": "https://localhost:8080/"
        },
        "id": "o4OpkmKUpeZS",
        "outputId": "4486c602-b7fb-45b0-a860-d2bbda758180"
      },
      "execution_count": null,
      "outputs": [
        {
          "output_type": "execute_result",
          "data": {
            "text/plain": [
              "3"
            ]
          },
          "metadata": {},
          "execution_count": 23
        }
      ]
    },
    {
      "cell_type": "markdown",
      "source": [
        "# Funciones lambda\n",
        "- Se utiliza la palabra reservda 'lambda'\n",
        "- Son funciones escritas en una linea de código\n",
        "- No tienen 'return' para devolver un valor\n",
        "- No tienen nombre"
      ],
      "metadata": {
        "id": "uNuklEDgpmIz"
      }
    },
    {
      "cell_type": "code",
      "source": [
        "def func(x):\n",
        "  return x**2"
      ],
      "metadata": {
        "id": "KBXX17nkpg7T"
      },
      "execution_count": null,
      "outputs": []
    },
    {
      "cell_type": "code",
      "source": [
        "func(5)"
      ],
      "metadata": {
        "colab": {
          "base_uri": "https://localhost:8080/"
        },
        "id": "sBuiuzrpqH-b",
        "outputId": "ece69a05-71ae-4f0d-96f5-425a88488fa7"
      },
      "execution_count": null,
      "outputs": [
        {
          "output_type": "execute_result",
          "data": {
            "text/plain": [
              "25"
            ]
          },
          "metadata": {},
          "execution_count": 29
        }
      ]
    },
    {
      "cell_type": "code",
      "source": [
        "func_lambda = lambda x: x**2"
      ],
      "metadata": {
        "id": "tSeIa_qaqU5Y"
      },
      "execution_count": null,
      "outputs": []
    },
    {
      "cell_type": "code",
      "source": [
        "print(func_lambda)"
      ],
      "metadata": {
        "colab": {
          "base_uri": "https://localhost:8080/"
        },
        "id": "hDBCmbEzqkTl",
        "outputId": "0e0b714f-c1bc-4bdf-ee82-29a156bac385"
      },
      "execution_count": null,
      "outputs": [
        {
          "output_type": "stream",
          "name": "stdout",
          "text": [
            "<function <lambda> at 0x7ea62ce73b50>\n"
          ]
        }
      ]
    },
    {
      "cell_type": "code",
      "source": [
        "func_lambda(9)"
      ],
      "metadata": {
        "colab": {
          "base_uri": "https://localhost:8080/"
        },
        "id": "SLgHiKfhqq6x",
        "outputId": "3a2b9e76-9304-4438-8595-67950c27ab8f"
      },
      "execution_count": null,
      "outputs": [
        {
          "output_type": "execute_result",
          "data": {
            "text/plain": [
              "81"
            ]
          },
          "metadata": {},
          "execution_count": 32
        }
      ]
    },
    {
      "cell_type": "markdown",
      "source": [
        "# Sorted"
      ],
      "metadata": {
        "id": "-KRRz_RGs6uW"
      }
    },
    {
      "cell_type": "code",
      "source": [
        "mi_lista = ['Apple', 'apple', 'ball', 'Ball', 'cat', 'Cat']\n",
        "mi_lista"
      ],
      "metadata": {
        "colab": {
          "base_uri": "https://localhost:8080/"
        },
        "id": "DSJ71jyztXoj",
        "outputId": "94294a96-afc0-42c0-e87b-75fb78f8dd2c"
      },
      "execution_count": null,
      "outputs": [
        {
          "output_type": "execute_result",
          "data": {
            "text/plain": [
              "['Apple', 'apple', 'ball', 'Ball', 'cat', 'Cat']"
            ]
          },
          "metadata": {},
          "execution_count": 37
        }
      ]
    },
    {
      "cell_type": "code",
      "source": [
        "sorted(mi_lista)"
      ],
      "metadata": {
        "colab": {
          "base_uri": "https://localhost:8080/"
        },
        "id": "jzAuBqZhq2F2",
        "outputId": "54b4afaf-9393-4427-e7d0-1b2b3817ea7d"
      },
      "execution_count": null,
      "outputs": [
        {
          "output_type": "execute_result",
          "data": {
            "text/plain": [
              "['Apple', 'Ball', 'Cat', 'apple', 'ball', 'cat']"
            ]
          },
          "metadata": {},
          "execution_count": 38
        }
      ]
    },
    {
      "cell_type": "code",
      "source": [
        "sorted(mi_lista, key = lambda x: x.lower())"
      ],
      "metadata": {
        "colab": {
          "base_uri": "https://localhost:8080/"
        },
        "id": "iWLM6ThetmAR",
        "outputId": "0a033153-8be8-46e0-9659-53aff03c618a"
      },
      "execution_count": null,
      "outputs": [
        {
          "output_type": "execute_result",
          "data": {
            "text/plain": [
              "['Apple', 'apple', 'ball', 'Ball', 'cat', 'Cat']"
            ]
          },
          "metadata": {},
          "execution_count": 39
        }
      ]
    },
    {
      "cell_type": "markdown",
      "source": [
        "# Filter\n",
        "Nos regresa una nueva lista que contiene cada elemento en el que una función regresa 'True'\n",
        "\n",
        "Nota: 'iterator protocol' está compuesto por __iter__() y __next__()"
      ],
      "metadata": {
        "id": "p78HFp_at1pw"
      }
    },
    {
      "cell_type": "code",
      "source": [
        "help(filter)"
      ],
      "metadata": {
        "colab": {
          "base_uri": "https://localhost:8080/"
        },
        "id": "I3g9FAJqt12Y",
        "outputId": "c434a6ad-5a40-4e09-f7c3-051548c8837a"
      },
      "execution_count": null,
      "outputs": [
        {
          "output_type": "stream",
          "name": "stdout",
          "text": [
            "Help on class filter in module builtins:\n",
            "\n",
            "class filter(object)\n",
            " |  filter(function or None, iterable) --> filter object\n",
            " |  \n",
            " |  Return an iterator yielding those items of iterable for which function(item)\n",
            " |  is true. If function is None, return the items that are true.\n",
            " |  \n",
            " |  Methods defined here:\n",
            " |  \n",
            " |  __getattribute__(self, name, /)\n",
            " |      Return getattr(self, name).\n",
            " |  \n",
            " |  __iter__(self, /)\n",
            " |      Implement iter(self).\n",
            " |  \n",
            " |  __next__(self, /)\n",
            " |      Implement next(self).\n",
            " |  \n",
            " |  __reduce__(...)\n",
            " |      Return state information for pickling.\n",
            " |  \n",
            " |  ----------------------------------------------------------------------\n",
            " |  Static methods defined here:\n",
            " |  \n",
            " |  __new__(*args, **kwargs) from builtins.type\n",
            " |      Create and return a new object.  See help(type) for accurate signature.\n",
            "\n"
          ]
        }
      ]
    },
    {
      "cell_type": "code",
      "source": [
        "numeros_lista = [2,18,9,22,17,24,8,12,27]"
      ],
      "metadata": {
        "id": "Uidhdu1uuF9n"
      },
      "execution_count": null,
      "outputs": []
    },
    {
      "cell_type": "code",
      "source": [
        "list(filter(lambda numero: numero %3 == 0, numeros_lista))"
      ],
      "metadata": {
        "colab": {
          "base_uri": "https://localhost:8080/"
        },
        "id": "VRPksZvDuxXc",
        "outputId": "bb2947ca-43b5-45f6-f17f-aaa44e760c65"
      },
      "execution_count": null,
      "outputs": [
        {
          "output_type": "execute_result",
          "data": {
            "text/plain": [
              "[18, 9, 24, 12, 27]"
            ]
          },
          "metadata": {},
          "execution_count": 43
        }
      ]
    },
    {
      "cell_type": "code",
      "source": [
        "numeros_lista = [2,18,9,22,17,24,8,12,27]\n",
        "filtrada_lista = []\n",
        "\n",
        "for num in numeros_lista:\n",
        "  if num %3 == 0:\n",
        "    filtrada_lista.append(num)\n",
        "\n",
        "filtrada_lista"
      ],
      "metadata": {
        "colab": {
          "base_uri": "https://localhost:8080/"
        },
        "id": "MPnUHjx8v3F_",
        "outputId": "8b15f066-2754-4f6a-dea3-9eb7b30fa816"
      },
      "execution_count": null,
      "outputs": [
        {
          "output_type": "execute_result",
          "data": {
            "text/plain": [
              "[18, 9, 24, 12, 27]"
            ]
          },
          "metadata": {},
          "execution_count": 44
        }
      ]
    },
    {
      "cell_type": "markdown",
      "source": [
        "# Map\n",
        "Regresa un iterador que aplica una función sobre cada elemento de una lista"
      ],
      "metadata": {
        "id": "shw2ABTqwo0E"
      }
    },
    {
      "cell_type": "code",
      "source": [
        "numeros_list = list(range (1,11))\n",
        "numeros_list"
      ],
      "metadata": {
        "colab": {
          "base_uri": "https://localhost:8080/"
        },
        "id": "Oql3Gq5fwqgH",
        "outputId": "9b4aa01b-88f8-4067-b490-defbbbf59cd2"
      },
      "execution_count": null,
      "outputs": [
        {
          "output_type": "execute_result",
          "data": {
            "text/plain": [
              "[1, 2, 3, 4, 5, 6, 7, 8, 9, 10]"
            ]
          },
          "metadata": {},
          "execution_count": 45
        }
      ]
    },
    {
      "cell_type": "code",
      "source": [
        "cuadrados_lista = []\n",
        "\n",
        "for numero in numeros_list:\n",
        "  cuadrado = numero**2\n",
        "  cuadrados_lista.append(cuadrado)"
      ],
      "metadata": {
        "id": "53oEtDTLxOAX"
      },
      "execution_count": null,
      "outputs": []
    },
    {
      "cell_type": "code",
      "source": [
        "list(map(lambda numero: numero**2, numeros_list))"
      ],
      "metadata": {
        "colab": {
          "base_uri": "https://localhost:8080/"
        },
        "id": "b7N7JrVzxBBd",
        "outputId": "4b7a23ff-7b9b-446e-c333-9ce18749353d"
      },
      "execution_count": null,
      "outputs": [
        {
          "output_type": "execute_result",
          "data": {
            "text/plain": [
              "[1, 4, 9, 16, 25, 36, 49, 64, 81, 100]"
            ]
          },
          "metadata": {},
          "execution_count": 48
        }
      ]
    },
    {
      "cell_type": "code",
      "source": [
        "texto = 'Volver al futuro'\n",
        "# p = palabra\n",
        "list(map(lambda p: (p.upper(), p.lower(), len(p)), texto.split()))\n",
        "\n",
        "# Usando list comprehension quedaría como:\n",
        "# [(p.upper(), p.lower(), len(palabra)) for p in 'Volver al futuro'.split()]"
      ],
      "metadata": {
        "colab": {
          "base_uri": "https://localhost:8080/"
        },
        "id": "fncLK4C_xqr1",
        "outputId": "1e9f0f3c-d3ea-4bbd-f201-d28b9c5f1ede"
      },
      "execution_count": null,
      "outputs": [
        {
          "output_type": "execute_result",
          "data": {
            "text/plain": [
              "[('VOLVER', 'volver', 6), ('AL', 'al', 2), ('FUTURO', 'futuro', 6)]"
            ]
          },
          "metadata": {},
          "execution_count": 49
        }
      ]
    },
    {
      "cell_type": "markdown",
      "source": [
        "# Reduce\n",
        "- Hay que importarla del módulo 'functools'\n",
        "- Reducir una lista de valores a un solo valor"
      ],
      "metadata": {
        "id": "Qv7idKdbzL-2"
      }
    },
    {
      "cell_type": "code",
      "source": [
        "from functools import reduce\n",
        "\n",
        "def sum(a,b):\n",
        "  print(f'a={a}, b={b}, {a} + {b} = {a + b}')\n",
        "  return a + b\n",
        "\n",
        "scores = [75,65,80,95,50]\n",
        "total = reduce(sum, scores)\n",
        "print(total)"
      ],
      "metadata": {
        "colab": {
          "base_uri": "https://localhost:8080/"
        },
        "id": "w3SpAqfOyinY",
        "outputId": "33be3d7e-bcb6-4742-f3d2-e347d42d0540"
      },
      "execution_count": null,
      "outputs": [
        {
          "output_type": "stream",
          "name": "stdout",
          "text": [
            "a=75, b=65, 75 + 65 = 140\n",
            "a=140, b=80, 140 + 80 = 220\n",
            "a=220, b=95, 220 + 95 = 315\n",
            "a=315, b=50, 315 + 50 = 365\n",
            "365\n"
          ]
        }
      ]
    },
    {
      "cell_type": "code",
      "source": [
        "reduce(lambda a, b: a + b, scores)"
      ],
      "metadata": {
        "colab": {
          "base_uri": "https://localhost:8080/"
        },
        "id": "KM26aP4X07la",
        "outputId": "00fb358e-814d-4f86-f66c-9982870faa8d"
      },
      "execution_count": null,
      "outputs": [
        {
          "output_type": "execute_result",
          "data": {
            "text/plain": [
              "365"
            ]
          },
          "metadata": {},
          "execution_count": 53
        }
      ]
    }
  ]
}